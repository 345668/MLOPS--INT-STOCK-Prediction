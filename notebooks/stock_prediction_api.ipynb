{
 "cells": [
  {
   "cell_type": "code",
   "execution_count": null,
   "id": "f0c14150-812d-49c7-8e0a-30eb3a2e73bf",
   "metadata": {},
   "outputs": [
    {
     "name": "stderr",
     "output_type": "stream",
     "text": [
      "WARNING:absl:Compiled the loaded model, but the compiled metrics have yet to be built. `model.compile_metrics` will be empty until you train or evaluate the model.\n"
     ]
    },
    {
     "name": "stdout",
     "output_type": "stream",
     "text": [
      " * Serving Flask app '__main__'\n",
      " * Debug mode: on\n"
     ]
    }
   ],
   "source": [
    "#!/usr/bin/env python\n",
    "# coding: utf-8\n",
    "\n",
    "import os\n",
    "import numpy as np\n",
    "from flask import Flask, request, jsonify\n",
    "from keras.models import load_model\n",
    "import joblib\n",
    "import yfinance as yf\n",
    "from datetime import datetime\n",
    "import json\n",
    "\n",
    "app = Flask(__name__)\n",
    "\n",
    "# Define folder path to store datasets\n",
    "folder_path = \"/Users/aleksandra.rancic/Desktop/MLOps/dataset\"\n",
    "\n",
    "# Load the trained LSTM model and the MinMaxScaler\n",
    "model = load_model('lstm_model.h5')\n",
    "scaler = joblib.load('minmax_scaler.pkl')\n",
    "\n",
    "# Function to download the dataset\n",
    "def download_dataset(label, start_date):\n",
    "    end_date = datetime.now().strftime('%Y-%m-%d')\n",
    "    stock_data = yf.download(label, start=start_date, end=end_date)\n",
    "    file_name = f\"{label}_stock_data.csv\"\n",
    "    file_path = os.path.join(folder_path, file_name)\n",
    "    stock_data.to_csv(file_path)\n",
    "    return stock_data\n",
    "\n",
    "# Load evaluation metrics from the JSON file\n",
    "def load_evaluation_metrics():\n",
    "    with open('lstm_model_metrics.json', 'r') as file:\n",
    "        metrics = json.load(file)\n",
    "    return metrics\n",
    "\n",
    "# Endpoint to check API status\n",
    "@app.route('/status', methods=['GET'])\n",
    "def status():\n",
    "    return jsonify({\"status\": \"API is running\"}), 200\n",
    "\n",
    "# Endpoint to download stock data and preprocess\n",
    "@app.route('/download', methods=['POST'])\n",
    "def download_stock_data():\n",
    "    data = request.get_json(force=True)\n",
    "    label = data.get('label', 'AAPL')\n",
    "    start_date = data.get('start_date', '2014-09-12')\n",
    "    \n",
    "    # Download stock data\n",
    "    stock_data = download_dataset(label, start_date)\n",
    "    \n",
    "    return jsonify({\"message\": f\"Stock data for {label} downloaded successfully!\"}), 200\n",
    "\n",
    "# Endpoint to predict stock prices\n",
    "@app.route('/predict', methods=['POST'])\n",
    "def predict():\n",
    "    data = request.get_json(force=True)\n",
    "    \n",
    "    # Get the input features from the request\n",
    "    input_data = np.array(data['features']).reshape(-1, 1)\n",
    "\n",
    "    # Scale the input data using the loaded scaler\n",
    "    scaled_input = scaler.transform(input_data)\n",
    "\n",
    "    # Prepare the input data for LSTM\n",
    "    sequence_length = 60\n",
    "    x_input = []\n",
    "    for i in range(len(scaled_input) - sequence_length):\n",
    "        x_input.append(scaled_input[i:i + sequence_length])\n",
    "\n",
    "    x_input = np.array(x_input)\n",
    "\n",
    "    # Make predictions using the LSTM model\n",
    "    predictions = model.predict(x_input)\n",
    "\n",
    "    # Inverse transform the predictions to get the actual stock prices\n",
    "    predicted_values = scaler.inverse_transform(predictions)\n",
    "\n",
    "    return jsonify({\"prediction\": predicted_values.tolist()}), 200\n",
    "\n",
    "# Endpoint to get the model evaluation metrics\n",
    "@app.route('/evaluation', methods=['GET'])\n",
    "def evaluation():\n",
    "    metrics = load_evaluation_metrics()\n",
    "    return jsonify(metrics), 200\n",
    "\n",
    "if __name__ == '__main__':\n",
    "    app.run(host='0.0.0.0', port=5000, debug=True)\n"
   ]
  },
  {
   "cell_type": "code",
   "execution_count": null,
   "id": "c116d349-60f1-4d01-9685-0c801558b662",
   "metadata": {},
   "outputs": [],
   "source": []
  }
 ],
 "metadata": {
  "kernelspec": {
   "display_name": "Python 3 (ipykernel)",
   "language": "python",
   "name": "python3"
  },
  "language_info": {
   "codemirror_mode": {
    "name": "ipython",
    "version": 3
   },
   "file_extension": ".py",
   "mimetype": "text/x-python",
   "name": "python",
   "nbconvert_exporter": "python",
   "pygments_lexer": "ipython3",
   "version": "3.9.6"
  }
 },
 "nbformat": 4,
 "nbformat_minor": 5
}
