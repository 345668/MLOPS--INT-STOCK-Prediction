{
 "cells": [
  {
   "cell_type": "markdown",
   "metadata": {},
   "source": [
    "# Create Yelp Reviews data for Sentiment Analysis and Word Embeddings"
   ]
  },
  {
   "cell_type": "markdown",
   "metadata": {},
   "source": [
    "## Imports & Settings"
   ]
  },
  {
   "cell_type": "code",
   "execution_count": 9,
   "metadata": {
    "ExecuteTime": {
     "end_time": "2020-06-20T21:45:25.651098Z",
     "start_time": "2020-06-20T21:45:25.648545Z"
    }
   },
   "outputs": [],
   "source": [
    "import warnings\n",
    "warnings.filterwarnings('ignore')"
   ]
  },
  {
   "cell_type": "code",
   "execution_count": 10,
   "metadata": {
    "ExecuteTime": {
     "end_time": "2020-06-20T21:45:25.883936Z",
     "start_time": "2020-06-20T21:45:25.652790Z"
    }
   },
   "outputs": [],
   "source": [
    "from pathlib import Path\n",
    "import pandas as pd\n",
    "from pandas import json_normalize\n"
   ]
  },
  {
   "cell_type": "markdown",
   "metadata": {},
   "source": [
    "## About the Data"
   ]
  },
  {
   "cell_type": "markdown",
   "metadata": {},
   "source": [
    "The data consists of several files with information on the business, the user, the review and other aspects that Yelp provides to encourage data science innovation.\n",
    "\n",
    "The data consists of several files with information on the business, the user, the review and other aspects that Yelp provides to encourage data science innovation. \n",
    "\n",
    "We will use around six million reviews produced over the 2010-2019 period to extract text features. In addition, we will use other information submitted with the review about the user. "
   ]
  },
  {
   "cell_type": "markdown",
   "metadata": {},
   "source": [
    "## Getting the Data"
   ]
  },
  {
   "cell_type": "markdown",
   "metadata": {},
   "source": [
    "You can download the data from [here](https://www.yelp.com/dataset) in json format after accepting the license. The 2020 version has 4.7GB (compressed) and around 10.5GB (uncompressed) of text data.\n",
    "\n",
    "After download, extract the following two of the five `.json` files into to `./yelp/json`:\n",
    "- the `yelp_academic_dataset_user.json`\n",
    "- the `yelp_academic_dataset_reviews.json`\n",
    "\n",
    "Rename both files by stripping out the `yelp_academic_dataset_` prefix so you have the following directory structure:\n",
    "```\n",
    "data\n",
    "|-create_yelp_review_data.ipynb\n",
    "|-yelp\n",
    "    |-json\n",
    "        |-user.json\n",
    "        |-review.json\n",
    "```\n"
   ]
  },
  {
   "cell_type": "code",
   "execution_count": 12,
   "metadata": {
    "ExecuteTime": {
     "end_time": "2020-06-20T21:45:25.887070Z",
     "start_time": "2020-06-20T21:45:25.885011Z"
    }
   },
   "outputs": [],
   "source": [
    "yelp_dir = Path('yelp')\n",
    "\n",
    "if not yelp_dir.exists():\n",
    "    yelp_dir.mkdir(exist_ok=True)"
   ]
  },
  {
   "cell_type": "markdown",
   "metadata": {},
   "source": [
    "## Parse json and store as parquet files"
   ]
  },
  {
   "cell_type": "markdown",
   "metadata": {},
   "source": [
    "Convert json to faster parquet format:"
   ]
  },
  {
   "cell_type": "code",
   "execution_count": 16,
   "metadata": {
    "ExecuteTime": {
     "end_time": "2020-06-20T21:49:46.038635Z",
     "start_time": "2020-06-20T21:45:25.888086Z"
    }
   },
   "outputs": [
    {
     "name": "stdout",
     "output_type": "stream",
     "text": [
      "review\n",
      "user\n"
     ]
    }
   ],
   "source": [
    "import json\n",
    "from pathlib import Path\n",
    "import pandas as pd\n",
    "\n",
    "# Define the directory\n",
    "yelp_dir = Path('yelp')\n",
    "\n",
    "for fname in ['review', 'user']:\n",
    "    print(fname)\n",
    "    \n",
    "    json_file = yelp_dir / 'json' / f'{fname}.json'\n",
    "    parquet_file = yelp_dir / f'{fname}.parquet'\n",
    "    \n",
    "    if parquet_file.exists():\n",
    "        print('\\talready exists')\n",
    "        continue\n",
    "\n",
    "    # Check if JSON file exists before reading\n",
    "    if json_file.exists():\n",
    "        data = json_file.read_text(encoding='utf-8')\n",
    "        json_data = '[' + ','.join([l.strip() for l in data.split('\\n') if l.strip()]) + ']\\n'\n",
    "        data = json.loads(json_data)\n",
    "        \n",
    "        # Normalize JSON data into a dataframe\n",
    "        df = pd.json_normalize(data)\n",
    "        \n",
    "        if fname == 'review':\n",
    "            df.date = pd.to_datetime(df.date)\n",
    "            latest = df.date.max()\n",
    "            df['year'] = df.date.dt.year\n",
    "            df['month'] = df.date.dt.month\n",
    "            df = df.drop(['date', 'business_id', 'review_id'], axis=1)\n",
    "        \n",
    "        if fname == 'user':\n",
    "            df.yelping_since = pd.to_datetime(df.yelping_since)\n",
    "            df = (df.assign(member_yrs=lambda x: (latest - x.yelping_since)\n",
    "                            .dt.days.div(365).astype(int))\n",
    "                  .drop(['elite', 'friends', 'name', 'yelping_since'], axis=1))\n",
    "        \n",
    "        # Save dataframe as parquet\n",
    "        df.dropna(how='all', axis=1).to_parquet(parquet_file)\n",
    "    else:\n",
    "        print(f\"\\t{json_file} does not exist\")\n"
   ]
  },
  {
   "cell_type": "markdown",
   "metadata": {},
   "source": [
    "Now you can remove the json files."
   ]
  },
  {
   "cell_type": "code",
   "execution_count": 19,
   "metadata": {
    "ExecuteTime": {
     "end_time": "2020-06-20T21:50:59.700866Z",
     "start_time": "2020-06-20T21:50:59.696410Z"
    }
   },
   "outputs": [],
   "source": [
    "def merge_files(remove=False):\n",
    "    combined_file = yelp_dir / 'user_reviews.parquet'\n",
    "    if not combined_file.exists():\n",
    "        user = pd.read_parquet(yelp_dir / 'user.parquet')\n",
    "        print(user.info(show_counts=True))  # Use show_counts instead of null_counts\n",
    "\n",
    "        review = pd.read_parquet(yelp_dir / 'review.parquet')\n",
    "        print(review.info(show_counts=True))  # Use show_counts instead of null_counts\n",
    "\n",
    "        combined = (review.merge(user, on='user_id',\n",
    "                                 how='left', suffixes=['', '_user'])\n",
    "                    .drop('user_id', axis=1))\n",
    "        combined = combined[combined.stars > 0]\n",
    "        print(combined.info(show_counts=True))  # Use show_counts instead of null_counts\n",
    "        combined.to_parquet(yelp_dir / 'user_reviews.parquet')\n",
    "    else:\n",
    "        print('already merged')\n",
    "    if remove:\n",
    "        for fname in ['user', 'review']:\n",
    "            f = yelp_dir / (fname + '.parquet')\n",
    "            if f.exists():\n",
    "                f.unlink()\n"
   ]
  },
  {
   "cell_type": "code",
   "execution_count": 20,
   "metadata": {
    "ExecuteTime": {
     "end_time": "2020-06-20T21:51:47.956186Z",
     "start_time": "2020-06-20T21:51:00.042343Z"
    }
   },
   "outputs": [
    {
     "name": "stdout",
     "output_type": "stream",
     "text": [
      "<class 'pandas.core.frame.DataFrame'>\n",
      "RangeIndex: 1987897 entries, 0 to 1987896\n",
      "Data columns (total 19 columns):\n",
      " #   Column              Non-Null Count    Dtype  \n",
      "---  ------              --------------    -----  \n",
      " 0   user_id             1987897 non-null  object \n",
      " 1   review_count        1987897 non-null  int64  \n",
      " 2   useful              1987897 non-null  int64  \n",
      " 3   funny               1987897 non-null  int64  \n",
      " 4   cool                1987897 non-null  int64  \n",
      " 5   fans                1987897 non-null  int64  \n",
      " 6   average_stars       1987897 non-null  float64\n",
      " 7   compliment_hot      1987897 non-null  int64  \n",
      " 8   compliment_more     1987897 non-null  int64  \n",
      " 9   compliment_profile  1987897 non-null  int64  \n",
      " 10  compliment_cute     1987897 non-null  int64  \n",
      " 11  compliment_list     1987897 non-null  int64  \n",
      " 12  compliment_note     1987897 non-null  int64  \n",
      " 13  compliment_plain    1987897 non-null  int64  \n",
      " 14  compliment_cool     1987897 non-null  int64  \n",
      " 15  compliment_funny    1987897 non-null  int64  \n",
      " 16  compliment_writer   1987897 non-null  int64  \n",
      " 17  compliment_photos   1987897 non-null  int64  \n",
      " 18  member_yrs          1987897 non-null  int32  \n",
      "dtypes: float64(1), int32(1), int64(16), object(1)\n",
      "memory usage: 280.6+ MB\n",
      "None\n",
      "<class 'pandas.core.frame.DataFrame'>\n",
      "RangeIndex: 6990280 entries, 0 to 6990279\n",
      "Data columns (total 8 columns):\n",
      " #   Column   Non-Null Count    Dtype  \n",
      "---  ------   --------------    -----  \n",
      " 0   user_id  6990280 non-null  object \n",
      " 1   stars    6990280 non-null  float64\n",
      " 2   useful   6990280 non-null  int64  \n",
      " 3   funny    6990280 non-null  int64  \n",
      " 4   cool     6990280 non-null  int64  \n",
      " 5   text     6990280 non-null  object \n",
      " 6   year     6990280 non-null  int32  \n",
      " 7   month    6990280 non-null  int32  \n",
      "dtypes: float64(1), int32(2), int64(3), object(2)\n",
      "memory usage: 373.3+ MB\n",
      "None\n",
      "<class 'pandas.core.frame.DataFrame'>\n",
      "RangeIndex: 6990280 entries, 0 to 6990279\n",
      "Data columns (total 25 columns):\n",
      " #   Column              Non-Null Count    Dtype  \n",
      "---  ------              --------------    -----  \n",
      " 0   stars               6990280 non-null  float64\n",
      " 1   useful              6990280 non-null  int64  \n",
      " 2   funny               6990280 non-null  int64  \n",
      " 3   cool                6990280 non-null  int64  \n",
      " 4   text                6990280 non-null  object \n",
      " 5   year                6990280 non-null  int32  \n",
      " 6   month               6990280 non-null  int32  \n",
      " 7   review_count        6990247 non-null  float64\n",
      " 8   useful_user         6990247 non-null  float64\n",
      " 9   funny_user          6990247 non-null  float64\n",
      " 10  cool_user           6990247 non-null  float64\n",
      " 11  fans                6990247 non-null  float64\n",
      " 12  average_stars       6990247 non-null  float64\n",
      " 13  compliment_hot      6990247 non-null  float64\n",
      " 14  compliment_more     6990247 non-null  float64\n",
      " 15  compliment_profile  6990247 non-null  float64\n",
      " 16  compliment_cute     6990247 non-null  float64\n",
      " 17  compliment_list     6990247 non-null  float64\n",
      " 18  compliment_note     6990247 non-null  float64\n",
      " 19  compliment_plain    6990247 non-null  float64\n",
      " 20  compliment_cool     6990247 non-null  float64\n",
      " 21  compliment_funny    6990247 non-null  float64\n",
      " 22  compliment_writer   6990247 non-null  float64\n",
      " 23  compliment_photos   6990247 non-null  float64\n",
      " 24  member_yrs          6990247 non-null  float64\n",
      "dtypes: float64(19), int32(2), int64(3), object(1)\n",
      "memory usage: 1.2+ GB\n",
      "None\n"
     ]
    }
   ],
   "source": [
    "merge_files(remove=True)"
   ]
  },
  {
   "cell_type": "code",
   "execution_count": null,
   "metadata": {},
   "outputs": [],
   "source": []
  }
 ],
 "metadata": {
  "kernelspec": {
   "display_name": "Trading Environment v2",
   "language": "python",
   "name": "trading_env_v2"
  },
  "language_info": {
   "codemirror_mode": {
    "name": "ipython",
    "version": 3
   },
   "file_extension": ".py",
   "mimetype": "text/x-python",
   "name": "python",
   "nbconvert_exporter": "python",
   "pygments_lexer": "ipython3",
   "version": "3.9.19"
  },
  "toc": {
   "base_numbering": 1,
   "nav_menu": {},
   "number_sections": true,
   "sideBar": true,
   "skip_h1_title": true,
   "title_cell": "Table of Contents",
   "title_sidebar": "Contents",
   "toc_cell": false,
   "toc_position": {},
   "toc_section_display": true,
   "toc_window_display": true
  }
 },
 "nbformat": 4,
 "nbformat_minor": 4
}
