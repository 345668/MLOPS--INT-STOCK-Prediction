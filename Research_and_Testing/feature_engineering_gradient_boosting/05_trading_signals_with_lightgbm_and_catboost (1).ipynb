{
 "cells": [
  {
   "cell_type": "markdown",
   "metadata": {},
   "source": [
    "# Long-Short Strategy, Part 2: Trading signals with LightGBM and CatBoost"
   ]
  },
  {
   "cell_type": "markdown",
   "metadata": {},
   "source": [
    "In this section, we'll start designing, implementing, and evaluating a trading strategy for US equities driven by daily return forecasts produced by gradient boosting models.\n",
    "\n",
    "As in the previous examples, we'll lay out a framework and build a specific example that you can adapt to run your own experiments. There are numerous aspects that you can vary, from the asset class and investment universe to more granular aspects like the features, holding period, or trading rules. See, for example, the **Alpha Factor Library** in the [Appendix](../24_alpha_factor_library) for numerous additional features.\n",
    "\n",
    "We'll keep the trading strategy simple and only use a single ML signal; a real-life application will likely use multiple signals from different sources, such as complementary ML models trained on different datasets or with different lookahead or lookback periods. It would also use sophisticated risk management, from simple stop-loss to value-at-risk analysis.\n",
    "\n",
    "**Six notebooks** cover our workflow sequence:\n",
    "\n",
    "1. [preparing_the_model_data](04_preparing_the_model_data.ipyny): we engineer a few simple features from the Quandl Wiki data \n",
    "2. `trading_signals_with_lightgbm_and_catboost`  (this noteboook): we tune hyperparameters for LightGBM and CatBoost to select a model, using 2015/16 as our validation period. \n",
    "3. [evaluate_trading_signals](06_evaluate_trading_signals.ipynb): we compare the cross-validation performance using various metrics to select the best model. \n",
    "4. [model_interpretation](07_model_interpretation.ipynb): we take a closer look at the drivers behind the best model's predictions.\n",
    "5. [making_out_of_sample_predictions](08_making_out_of_sample_predictions.ipynb): we generate predictions for our out-of-sample test period 2017.\n",
    "6. [backtesting_with_zipline](09_backtesting_with_zipline.ipynb): evaluate the historical performance of a long-short strategy based on our predictive signals using Zipline."
   ]
  },
  {
   "cell_type": "markdown",
   "metadata": {},
   "source": [
    "We'll subset the dataset created in the preceding notebook through the end of 2016 to cross-validate several model configurations for various lookback and lookahead windows, as well as different roll-forward periods and hyperparameters. \n",
    "\n",
    "Our approach to model selection will be similar to the one we used in the previous chapter and uses the custom `MultipleTimeSeriesCV` introduced in [Chapter 7, Linear Models – From Risk Factors to Return Forecasts](../07_linear_models)."
   ]
  },
  {
   "cell_type": "markdown",
   "metadata": {},
   "source": [
    "## Imports & Settings"
   ]
  },
  {
   "cell_type": "code",
   "execution_count": 7,
   "metadata": {
    "ExecuteTime": {
     "end_time": "2020-06-21T03:15:53.361121Z",
     "start_time": "2020-06-21T03:15:53.359422Z"
    }
   },
   "outputs": [],
   "source": [
    "import warnings\n",
    "warnings.filterwarnings('ignore')"
   ]
  },
  {
   "cell_type": "code",
   "execution_count": 1,
   "metadata": {
    "ExecuteTime": {
     "end_time": "2020-06-21T03:15:54.473652Z",
     "start_time": "2020-06-21T03:15:53.619170Z"
    },
    "scrolled": true
   },
   "outputs": [],
   "source": [
    "%matplotlib inline\n",
    "\n",
    "from pathlib import Path\n",
    "import sys, os\n",
    "from time import time\n",
    "from tqdm import tqdm\n",
    "\n",
    "from collections import defaultdict\n",
    "from itertools import product\n",
    "\n",
    "import numpy as np\n",
    "import pandas as pd\n",
    "\n",
    "import lightgbm as lgb\n",
    "from catboost import Pool, CatBoostRegressor\n",
    "\n",
    "from sklearn.linear_model import LinearRegression\n",
    "from scipy.stats import spearmanr\n",
    "\n",
    "from alphalens.tears import (create_summary_tear_sheet,\n",
    "                             create_full_tear_sheet)\n",
    "\n",
    "from alphalens.utils import get_clean_factor_and_forward_returns\n",
    "\n",
    "import matplotlib.pyplot as plt\n",
    "import seaborn as sns"
   ]
  },
  {
   "cell_type": "code",
   "execution_count": null,
   "metadata": {},
   "outputs": [],
   "source": []
  },
  {
   "cell_type": "code",
   "execution_count": 4,
   "metadata": {
    "ExecuteTime": {
     "end_time": "2020-06-21T03:15:54.477216Z",
     "start_time": "2020-06-21T03:15:54.474618Z"
    },
    "scrolled": true
   },
   "outputs": [],
   "source": [
    "project_path = Path(r'C:/Users/flyin/OneDrive/Desktop/autotrade/new/machine-learning-for-trading')\n",
    "sys.path.append(str(project_path))\n",
    "from utils import MultipleTimeSeriesCV, format_time"
   ]
  },
  {
   "cell_type": "code",
   "execution_count": 5,
   "metadata": {
    "ExecuteTime": {
     "end_time": "2020-06-21T03:15:54.489618Z",
     "start_time": "2020-06-21T03:15:54.478409Z"
    },
    "scrolled": true
   },
   "outputs": [],
   "source": [
    "sns.set_style('whitegrid')"
   ]
  },
  {
   "cell_type": "code",
   "execution_count": 6,
   "metadata": {
    "ExecuteTime": {
     "end_time": "2020-06-21T03:15:54.626839Z",
     "start_time": "2020-06-21T03:15:54.624975Z"
    },
    "scrolled": true
   },
   "outputs": [],
   "source": [
    "YEAR = 252\n",
    "idx = pd.IndexSlice"
   ]
  },
  {
   "cell_type": "markdown",
   "metadata": {},
   "source": [
    "## Get Data"
   ]
  },
  {
   "cell_type": "markdown",
   "metadata": {},
   "source": [
    "We select the train and validation sets, and identify labels and features:"
   ]
  },
  {
   "cell_type": "code",
   "execution_count": 7,
   "metadata": {
    "ExecuteTime": {
     "end_time": "2020-06-21T03:15:58.610627Z",
     "start_time": "2020-06-21T03:15:56.699840Z"
    }
   },
   "outputs": [
    {
     "name": "stdout",
     "output_type": "stream",
     "text": [
      "<class 'pandas.core.frame.DataFrame'>\n",
      "MultiIndex: 1749266 entries, ('A', Timestamp('2010-01-04 00:00:00')) to ('ZION', Timestamp('2016-12-30 00:00:00'))\n",
      "Data columns (total 38 columns):\n",
      " #   Column           Non-Null Count    Dtype  \n",
      "---  ------           --------------    -----  \n",
      " 0   dollar_vol       1749266 non-null  float64\n",
      " 1   dollar_vol_rank  1749266 non-null  float64\n",
      " 2   rsi              1740182 non-null  float64\n",
      " 3   bb_high          1353651 non-null  float64\n",
      " 4   bb_low           1277986 non-null  float64\n",
      " 5   NATR             1735336 non-null  float64\n",
      " 6   ATR              1735336 non-null  float64\n",
      " 7   PPO              1731872 non-null  float64\n",
      " 8   MACD             1716431 non-null  float64\n",
      " 9   metadata_sector  1749266 non-null  object \n",
      " 10  r01              1748271 non-null  float64\n",
      " 11  r05              1744291 non-null  float64\n",
      " 12  r10              1739316 non-null  float64\n",
      " 13  r21              1728371 non-null  float64\n",
      " 14  r42              1707476 non-null  float64\n",
      " 15  r63              1686581 non-null  float64\n",
      " 16  r01dec           1748271 non-null  float64\n",
      " 17  r05dec           1744291 non-null  float64\n",
      " 18  r10dec           1739316 non-null  float64\n",
      " 19  r21dec           1728371 non-null  float64\n",
      " 20  r42dec           1707476 non-null  float64\n",
      " 21  r63dec           1686581 non-null  float64\n",
      " 22  sector           1749266 non-null  int64  \n",
      " 23  r01q_sector      1748271 non-null  float64\n",
      " 24  r05q_sector      1744291 non-null  float64\n",
      " 25  r10q_sector      1739316 non-null  float64\n",
      " 26  r21q_sector      1728371 non-null  float64\n",
      " 27  r42q_sector      1707476 non-null  float64\n",
      " 28  r63q_sector      1686581 non-null  float64\n",
      " 29  r01_fwd          1749266 non-null  float64\n",
      " 30  r05_fwd          1749266 non-null  float64\n",
      " 31  r10_fwd          1749262 non-null  float64\n",
      " 32  r21_fwd          1749251 non-null  float64\n",
      " 33  r42_fwd          1749225 non-null  float64\n",
      " 34  r63_fwd          1749183 non-null  float64\n",
      " 35  year             1749266 non-null  int64  \n",
      " 36  month            1749266 non-null  int64  \n",
      " 37  weekday          1749266 non-null  int64  \n",
      "dtypes: float64(33), int64(4), object(1)\n",
      "memory usage: 514.6+ MB\n"
     ]
    }
   ],
   "source": [
    "data = (pd.read_hdf('data.h5', 'model_data')\n",
    "            .sort_index()\n",
    "            .loc[idx[:, :'2016'], :]) # train & validation period\n",
    "data.info(show_counts=True)"
   ]
  },
  {
   "cell_type": "code",
   "execution_count": 8,
   "metadata": {
    "ExecuteTime": {
     "end_time": "2020-06-21T03:15:58.627071Z",
     "start_time": "2020-06-21T03:15:58.611792Z"
    }
   },
   "outputs": [],
   "source": [
    "labels = sorted(data.filter(like='_fwd').columns)\n",
    "features = data.columns.difference(labels).tolist() # features are columns not containing '_fwd'"
   ]
  },
  {
   "cell_type": "markdown",
   "metadata": {},
   "source": [
    "## Model Selection: Lookback, lookahead and roll-forward periods"
   ]
  },
  {
   "cell_type": "code",
   "execution_count": 9,
   "metadata": {
    "ExecuteTime": {
     "end_time": "2020-06-21T03:15:58.713463Z",
     "start_time": "2020-06-21T03:15:58.628189Z"
    },
    "scrolled": true
   },
   "outputs": [],
   "source": [
    "tickers = data.index.get_level_values('symbol').unique()"
   ]
  },
  {
   "cell_type": "markdown",
   "metadata": {},
   "source": [
    "We may want to predict 1, 5 or 21-day returns:"
   ]
  },
  {
   "cell_type": "code",
   "execution_count": 10,
   "metadata": {
    "ExecuteTime": {
     "end_time": "2020-06-21T03:15:58.716838Z",
     "start_time": "2020-06-21T03:15:58.714860Z"
    },
    "scrolled": true
   },
   "outputs": [],
   "source": [
    "lookaheads = [1, 5, 21]"
   ]
  },
  {
   "cell_type": "code",
   "execution_count": 11,
   "metadata": {
    "ExecuteTime": {
     "end_time": "2020-06-21T03:15:58.726739Z",
     "start_time": "2020-06-21T03:15:58.718248Z"
    }
   },
   "outputs": [],
   "source": [
    "categoricals = ['year', 'month', 'sector', 'weekday']"
   ]
  },
  {
   "cell_type": "markdown",
   "metadata": {},
   "source": [
    "We select 4.5 and one years as the length of our training periods; test periods are one and three months long. Since we are using two years (2015/16) for validation, a one-month test period implies 24 folds."
   ]
  },
  {
   "cell_type": "code",
   "execution_count": 12,
   "metadata": {
    "ExecuteTime": {
     "end_time": "2020-06-21T03:15:58.735386Z",
     "start_time": "2020-06-21T03:15:58.728023Z"
    },
    "scrolled": true
   },
   "outputs": [],
   "source": [
    "train_lengths = [int(4.5 * 252), 252]\n",
    "test_lengths = [63, 21]"
   ]
  },
  {
   "cell_type": "code",
   "execution_count": 13,
   "metadata": {
    "ExecuteTime": {
     "end_time": "2020-06-21T03:15:58.743174Z",
     "start_time": "2020-06-21T03:15:58.737182Z"
    },
    "scrolled": true
   },
   "outputs": [],
   "source": [
    "test_params = list(product(lookaheads, train_lengths, test_lengths))"
   ]
  },
  {
   "cell_type": "code",
   "execution_count": 14,
   "metadata": {
    "ExecuteTime": {
     "end_time": "2020-06-21T03:15:58.751241Z",
     "start_time": "2020-06-21T03:15:58.744605Z"
    }
   },
   "outputs": [],
   "source": [
    "results_path = Path('results', 'us_stocks')\n",
    "if not results_path.exists():\n",
    "    results_path.mkdir(parents=True)"
   ]
  },
  {
   "cell_type": "markdown",
   "metadata": {},
   "source": [
    "## Baseline: Linear Regression"
   ]
  },
  {
   "cell_type": "markdown",
   "metadata": {},
   "source": [
    "We always want to know how much our (gradient boosting) is improving over a simpler baseline (if at all..)."
   ]
  },
  {
   "cell_type": "code",
   "execution_count": 15,
   "metadata": {
    "ExecuteTime": {
     "end_time": "2020-06-21T03:16:05.129548Z",
     "start_time": "2020-06-21T03:16:05.127693Z"
    },
    "scrolled": true
   },
   "outputs": [],
   "source": [
    "lr = LinearRegression()"
   ]
  },
  {
   "cell_type": "code",
   "execution_count": 16,
   "metadata": {
    "ExecuteTime": {
     "end_time": "2020-06-21T03:19:37.679350Z",
     "start_time": "2020-06-21T03:16:05.270137Z"
    }
   },
   "outputs": [
    {
     "name": "stderr",
     "output_type": "stream",
     "text": [
      "100%|██████████| 12/12 [02:11<00:00, 10.94s/it]\n"
     ]
    }
   ],
   "source": [
    "lr_metrics = []\n",
    "\n",
    "# iterate over our three CV configuration parameters\n",
    "for lookahead, train_length, test_length in tqdm(test_params):\n",
    "    label = f'r{lookahead:02}_fwd'\n",
    "    # Ensure all categorical features are one-hot encoded\n",
    "    df = pd.get_dummies(data.loc[:, features + [label]].dropna(), \n",
    "                        columns=categoricals, \n",
    "                        drop_first=True)\n",
    "    \n",
    "    X, y = df.drop(label, axis=1), df[label]\n",
    "    \n",
    "    n_splits = int(2 * YEAR / test_length)\n",
    "    cv = MultipleTimeSeriesCV(n_splits=n_splits,\n",
    "                              test_period_length=test_length,\n",
    "                              lookahead=lookahead,\n",
    "                              train_period_length=train_length)\n",
    "\n",
    "    ic, preds = [], []\n",
    "    for i, (train_idx, test_idx) in enumerate(cv.split(X=X)):\n",
    "        X_train, y_train = X.iloc[train_idx], y.iloc[train_idx]\n",
    "        X_test, y_test = X.iloc[test_idx], y.iloc[test_idx]\n",
    "\n",
    "        # Drop 'metadata_sector' if it exists in the training and test sets\n",
    "        if 'metadata_sector' in X_train.columns:\n",
    "            X_train = X_train.drop(columns=['metadata_sector'])\n",
    "        if 'metadata_sector' in X_test.columns:\n",
    "            X_test = X_test.drop(columns=['metadata_sector'])\n",
    "        \n",
    "        lr.fit(X_train, y_train)\n",
    "        y_pred = lr.predict(X_test)\n",
    "        preds.append(y_test.to_frame('y_true').assign(y_pred=y_pred))\n",
    "        ic.append(spearmanr(y_test, y_pred)[0])\n",
    "    \n",
    "    preds = pd.concat(preds)\n",
    "    lr_metrics.append([lookahead, \n",
    "                       train_length, \n",
    "                       test_length,\n",
    "                       np.mean(ic),\n",
    "                       spearmanr(preds.y_true, preds.y_pred)[0]\n",
    "                      ])\n",
    "\n",
    "columns = ['lookahead', 'train_length', 'test_length', 'ic_by_day', 'ic']\n",
    "lr_metrics = pd.DataFrame(lr_metrics, columns=columns)\n"
   ]
  },
  {
   "cell_type": "markdown",
   "metadata": {},
   "source": [
    "### Information Coefficient - Distribution by Lookahead"
   ]
  },
  {
   "cell_type": "code",
   "execution_count": 17,
   "metadata": {
    "ExecuteTime": {
     "end_time": "2020-06-21T03:19:37.897475Z",
     "start_time": "2020-06-21T03:19:37.680445Z"
    }
   },
   "outputs": [
    {
     "data": {
      "image/png": "[encoded data removed]",
      "text/plain": [
       "<Figure size 1400x500 with 2 Axes>"
      ]
     },
     "metadata": {},
     "output_type": "display_data"
    }
   ],
   "source": [
    "fig, axes = plt.subplots(ncols=2, figsize=(14,5), sharey=True)\n",
    "\n",
    "# plot average of daily IC values\n",
    "sns.boxplot(x='lookahead', y='ic_by_day',data=lr_metrics, ax=axes[0])\n",
    "axes[0].set_title('IC by Day')\n",
    "\n",
    "# plot IC across all predictions\n",
    "sns.boxplot(x='lookahead', y='ic',data=lr_metrics, ax=axes[1])\n",
    "axes[1].set_title('IC Overall')\n",
    "axes[0].set_ylabel('Information Coefficient')\n",
    "axes[1].set_ylabel('')\n",
    "fig.tight_layout()\n",
    "plt.show()"
   ]
  },
  {
   "cell_type": "markdown",
   "metadata": {},
   "source": [
    "### Best Train/Test Period Lengths"
   ]
  },
  {
   "cell_type": "markdown",
   "metadata": {},
   "source": [
    "For one- and five-day return forecasts, shorter train- and test-length yield better results in terms of daily avg IC:"
   ]
  },
  {
   "cell_type": "code",
   "execution_count": 18,
   "metadata": {
    "ExecuteTime": {
     "end_time": "2020-06-21T03:19:37.911949Z",
     "start_time": "2020-06-21T03:19:37.898655Z"
    },
    "scrolled": true
   },
   "outputs": [
    {
     "name": "stderr",
     "output_type": "stream",
     "text": [
      "C:\\Users\\flyin\\AppData\\Local\\Temp\\ipykernel_197844\\3061314831.py:2: DeprecationWarning: DataFrameGroupBy.apply operated on the grouping columns. This behavior is deprecated, and in a future version of pandas the grouping columns will be excluded from the operation. Either pass `include_groups=False` to exclude the groupings or explicitly select the grouping columns after groupby to silence this warning.\n",
      "  .apply(lambda x: x.nlargest(3, 'ic_by_day')))\n"
     ]
    },
    {
     "data": {
      "text/html": [
       "<div>\n",
       "<style scoped>\n",
       "    .dataframe tbody tr th:only-of-type {\n",
       "        vertical-align: middle;\n",
       "    }\n",
       "\n",
       "    .dataframe tbody tr th {\n",
       "        vertical-align: top;\n",
       "    }\n",
       "\n",
       "    .dataframe thead th {\n",
       "        text-align: right;\n",
       "    }\n",
       "</style>\n",
       "<table border=\"1\" class=\"dataframe\">\n",
       "  <thead>\n",
       "    <tr style=\"text-align: right;\">\n",
       "      <th></th>\n",
       "      <th>lookahead</th>\n",
       "      <th>train_length</th>\n",
       "      <th>test_length</th>\n",
       "      <th>ic_by_day</th>\n",
       "      <th>ic</th>\n",
       "    </tr>\n",
       "  </thead>\n",
       "  <tbody>\n",
       "    <tr>\n",
       "      <th>3</th>\n",
       "      <td>1</td>\n",
       "      <td>252</td>\n",
       "      <td>21</td>\n",
       "      <td>0.064862</td>\n",
       "      <td>-0.008522</td>\n",
       "    </tr>\n",
       "    <tr>\n",
       "      <th>1</th>\n",
       "      <td>1</td>\n",
       "      <td>1134</td>\n",
       "      <td>21</td>\n",
       "      <td>0.056733</td>\n",
       "      <td>-0.000307</td>\n",
       "    </tr>\n",
       "    <tr>\n",
       "      <th>2</th>\n",
       "      <td>1</td>\n",
       "      <td>252</td>\n",
       "      <td>63</td>\n",
       "      <td>0.034759</td>\n",
       "      <td>-0.014509</td>\n",
       "    </tr>\n",
       "    <tr>\n",
       "      <th>7</th>\n",
       "      <td>5</td>\n",
       "      <td>252</td>\n",
       "      <td>21</td>\n",
       "      <td>0.179508</td>\n",
       "      <td>-0.027056</td>\n",
       "    </tr>\n",
       "    <tr>\n",
       "      <th>5</th>\n",
       "      <td>5</td>\n",
       "      <td>1134</td>\n",
       "      <td>21</td>\n",
       "      <td>0.153676</td>\n",
       "      <td>-0.006718</td>\n",
       "    </tr>\n",
       "    <tr>\n",
       "      <th>4</th>\n",
       "      <td>5</td>\n",
       "      <td>1134</td>\n",
       "      <td>63</td>\n",
       "      <td>0.082903</td>\n",
       "      <td>0.061900</td>\n",
       "    </tr>\n",
       "    <tr>\n",
       "      <th>9</th>\n",
       "      <td>21</td>\n",
       "      <td>1134</td>\n",
       "      <td>21</td>\n",
       "      <td>0.140735</td>\n",
       "      <td>0.000743</td>\n",
       "    </tr>\n",
       "    <tr>\n",
       "      <th>11</th>\n",
       "      <td>21</td>\n",
       "      <td>252</td>\n",
       "      <td>21</td>\n",
       "      <td>0.115290</td>\n",
       "      <td>-0.070178</td>\n",
       "    </tr>\n",
       "    <tr>\n",
       "      <th>8</th>\n",
       "      <td>21</td>\n",
       "      <td>1134</td>\n",
       "      <td>63</td>\n",
       "      <td>0.110441</td>\n",
       "      <td>0.106169</td>\n",
       "    </tr>\n",
       "  </tbody>\n",
       "</table>\n",
       "</div>"
      ],
      "text/plain": [
       "    lookahead  train_length  test_length  ic_by_day        ic\n",
       "3           1           252           21   0.064862 -0.008522\n",
       "1           1          1134           21   0.056733 -0.000307\n",
       "2           1           252           63   0.034759 -0.014509\n",
       "7           5           252           21   0.179508 -0.027056\n",
       "5           5          1134           21   0.153676 -0.006718\n",
       "4           5          1134           63   0.082903  0.061900\n",
       "9          21          1134           21   0.140735  0.000743\n",
       "11         21           252           21   0.115290 -0.070178\n",
       "8          21          1134           63   0.110441  0.106169"
      ]
     },
     "execution_count": 18,
     "metadata": {},
     "output_type": "execute_result"
    }
   ],
   "source": [
    "(lr_metrics.groupby('lookahead', group_keys=False)\n",
    " .apply(lambda x: x.nlargest(3, 'ic_by_day')))"
   ]
  },
  {
   "cell_type": "code",
   "execution_count": 19,
   "metadata": {
    "ExecuteTime": {
     "end_time": "2020-06-21T03:19:37.920850Z",
     "start_time": "2020-06-21T03:19:37.913179Z"
    }
   },
   "outputs": [],
   "source": [
    "lr_metrics.to_csv(results_path / 'lin_reg_metrics.csv', index=False)"
   ]
  },
  {
   "cell_type": "markdown",
   "metadata": {},
   "source": [
    "## LightGBM Model Tuning"
   ]
  },
  {
   "cell_type": "markdown",
   "metadata": {},
   "source": [
    "The notebook example iterates over many configurations, optionally using random samples to speed up model selection using a diverse subset. The goal is to identify the most impactful parameters without trying every possible combination."
   ]
  },
  {
   "cell_type": "code",
   "execution_count": 20,
   "metadata": {
    "ExecuteTime": {
     "end_time": "2020-06-21T03:19:37.935808Z",
     "start_time": "2020-06-21T03:19:37.921761Z"
    }
   },
   "outputs": [],
   "source": [
    "def get_fi(model):\n",
    "    \"\"\"Return normalized feature importance as pd.Series\"\"\"\n",
    "    fi = model.feature_importance(importance_type='gain')\n",
    "    return (pd.Series(fi / fi.sum(),\n",
    "                      index=model.feature_name()))"
   ]
  },
  {
   "cell_type": "markdown",
   "metadata": {},
   "source": [
    "### Hyperparameter Options"
   ]
  },
  {
   "cell_type": "markdown",
   "metadata": {},
   "source": [
    "The `base_params` are not affected by cross-validation:"
   ]
  },
  {
   "cell_type": "code",
   "execution_count": 21,
   "metadata": {
    "ExecuteTime": {
     "end_time": "2020-06-21T03:19:37.943601Z",
     "start_time": "2020-06-21T03:19:37.936926Z"
    },
    "scrolled": true
   },
   "outputs": [],
   "source": [
    "base_params = dict(boosting='gbdt',\n",
    "                   objective='regression',\n",
    "                   verbose=-1)"
   ]
  },
  {
   "cell_type": "markdown",
   "metadata": {},
   "source": [
    "We choose the following parameters and values to select our best model (see book chapter for detail):"
   ]
  },
  {
   "cell_type": "code",
   "execution_count": 22,
   "metadata": {
    "ExecuteTime": {
     "end_time": "2020-06-21T03:19:37.952308Z",
     "start_time": "2020-06-21T03:19:37.944671Z"
    },
    "scrolled": true
   },
   "outputs": [],
   "source": [
    "# constraints on structure (depth) of each tree\n",
    "max_depths = [2, 3, 5, 7]\n",
    "num_leaves_opts = [2 ** i for i in max_depths]\n",
    "min_data_in_leaf_opts = [250, 500, 1000]\n",
    "\n",
    "# weight of each new tree in the ensemble\n",
    "learning_rate_ops = [.01, .1, .3]\n",
    "\n",
    "# random feature selection\n",
    "feature_fraction_opts = [.3, .6, .95]"
   ]
  },
  {
   "cell_type": "code",
   "execution_count": 23,
   "metadata": {
    "ExecuteTime": {
     "end_time": "2020-06-21T03:19:37.960258Z",
     "start_time": "2020-06-21T03:19:37.953744Z"
    }
   },
   "outputs": [],
   "source": [
    "param_names = ['learning_rate', 'num_leaves',\n",
    "               'feature_fraction', 'min_data_in_leaf']"
   ]
  },
  {
   "cell_type": "code",
   "execution_count": 24,
   "metadata": {
    "ExecuteTime": {
     "end_time": "2020-06-21T03:19:37.969006Z",
     "start_time": "2020-06-21T03:19:37.961383Z"
    },
    "scrolled": true
   },
   "outputs": [
    {
     "name": "stdout",
     "output_type": "stream",
     "text": [
      "# Parameters: 108\n"
     ]
    }
   ],
   "source": [
    "cv_params = list(product(learning_rate_ops,\n",
    "                         num_leaves_opts,\n",
    "                         feature_fraction_opts,\n",
    "                         min_data_in_leaf_opts))\n",
    "n_params = len(cv_params)\n",
    "print(f'# Parameters: {n_params}')"
   ]
  },
  {
   "cell_type": "markdown",
   "metadata": {},
   "source": [
    "### Train/Test Period Lengths"
   ]
  },
  {
   "cell_type": "code",
   "execution_count": 25,
   "metadata": {
    "ExecuteTime": {
     "end_time": "2020-06-21T03:19:37.977749Z",
     "start_time": "2020-06-21T03:19:37.969903Z"
    }
   },
   "outputs": [],
   "source": [
    "lookaheads = [1, 5, 21]\n",
    "label_dict = dict(zip(lookaheads, labels))"
   ]
  },
  {
   "cell_type": "markdown",
   "metadata": {},
   "source": [
    "We only use test periods of 63 days length to save some model training and evaluation time."
   ]
  },
  {
   "cell_type": "code",
   "execution_count": 26,
   "metadata": {
    "ExecuteTime": {
     "end_time": "2020-06-21T03:19:37.986465Z",
     "start_time": "2020-06-21T03:19:37.978744Z"
    },
    "scrolled": true
   },
   "outputs": [],
   "source": [
    "train_lengths = [int(4.5 * 252), 252]\n",
    "test_lengths = [63]"
   ]
  },
  {
   "cell_type": "code",
   "execution_count": 27,
   "metadata": {
    "ExecuteTime": {
     "end_time": "2020-06-21T03:19:37.995277Z",
     "start_time": "2020-06-21T03:19:37.987379Z"
    },
    "scrolled": true
   },
   "outputs": [
    {
     "name": "stdout",
     "output_type": "stream",
     "text": [
      "Train configs: 6\n"
     ]
    }
   ],
   "source": [
    "test_params = list(product(lookaheads, train_lengths, test_lengths))\n",
    "n = len(test_params)\n",
    "test_param_sample = np.random.choice(list(range(n)), size=int(n), replace=False)\n",
    "test_params = [test_params[i] for i in test_param_sample]\n",
    "print('Train configs:', len(test_params))"
   ]
  },
  {
   "cell_type": "markdown",
   "metadata": {},
   "source": [
    "### Categorical Variables"
   ]
  },
  {
   "cell_type": "markdown",
   "metadata": {},
   "source": [
    "We integer-encode categorical variables with values starting at zero, as expected by LightGBM (not necessary\n",
    "as long as the category codes have values less than $2^{32}$, but avoids a warning)"
   ]
  },
  {
   "cell_type": "code",
   "execution_count": 28,
   "metadata": {
    "ExecuteTime": {
     "end_time": "2020-06-21T03:19:38.043537Z",
     "start_time": "2020-06-21T03:19:37.996178Z"
    },
    "scrolled": true
   },
   "outputs": [],
   "source": [
    "categoricals = ['year', 'weekday', 'month']\n",
    "for feature in categoricals:\n",
    "    data[feature] = pd.factorize(data[feature], sort=True)[0]"
   ]
  },
  {
   "cell_type": "markdown",
   "metadata": {},
   "source": [
    "### Custom Loss Function: Information Coefficient"
   ]
  },
  {
   "cell_type": "code",
   "execution_count": 29,
   "metadata": {
    "ExecuteTime": {
     "end_time": "2020-06-21T03:19:38.046578Z",
     "start_time": "2020-06-21T03:19:38.044405Z"
    }
   },
   "outputs": [],
   "source": [
    "def ic_lgbm(preds, train_data):\n",
    "    \"\"\"Custom IC eval metric for lightgbm\"\"\"\n",
    "    is_higher_better = True\n",
    "    return 'ic', spearmanr(preds, train_data.get_label())[0], is_higher_better"
   ]
  },
  {
   "cell_type": "markdown",
   "metadata": {},
   "source": [
    "### Run Cross-Validation"
   ]
  },
  {
   "cell_type": "markdown",
   "metadata": {},
   "source": [
    "To explore the hyperparameter space, we specify values for key parameters that we would like to test in combination. The sklearn library supports `RandomizedSearchCV` to cross-validate a subset of parameter combinations that are sampled randomly from specified distributions. We will implement a custom version that allows us to monitor performance so we can abort the search process once we're satisfied with the result, rather than specifying a set number of iterations beforehand."
   ]
  },
  {
   "cell_type": "code",
   "execution_count": 30,
   "metadata": {
    "ExecuteTime": {
     "end_time": "2020-06-21T03:19:38.054547Z",
     "start_time": "2020-06-21T03:19:38.047670Z"
    },
    "scrolled": true
   },
   "outputs": [],
   "source": [
    "lgb_store = Path(results_path / 'tuning_lgb.h5')"
   ]
  },
  {
   "cell_type": "code",
   "execution_count": 31,
   "metadata": {
    "ExecuteTime": {
     "end_time": "2020-06-21T03:19:38.070171Z",
     "start_time": "2020-06-21T03:19:38.055637Z"
    },
    "scrolled": true
   },
   "outputs": [],
   "source": [
    "labels = sorted(data.filter(like='fwd').columns)\n",
    "features = data.columns.difference(labels).tolist()"
   ]
  },
  {
   "cell_type": "code",
   "execution_count": 32,
   "metadata": {
    "ExecuteTime": {
     "end_time": "2020-06-21T03:19:38.078077Z",
     "start_time": "2020-06-21T03:19:38.071079Z"
    },
    "scrolled": true
   },
   "outputs": [],
   "source": [
    "label_dict = dict(zip(lookaheads, labels))"
   ]
  },
  {
   "cell_type": "code",
   "execution_count": 33,
   "metadata": {
    "ExecuteTime": {
     "end_time": "2020-06-21T03:19:38.086476Z",
     "start_time": "2020-06-21T03:19:38.078921Z"
    },
    "scrolled": true
   },
   "outputs": [],
   "source": [
    "num_iterations = [10, 25, 50, 75] + list(range(100, 501, 50))\n",
    "num_boost_round = num_iterations[-1]"
   ]
  },
  {
   "cell_type": "code",
   "execution_count": 34,
   "metadata": {
    "ExecuteTime": {
     "end_time": "2020-06-21T03:19:38.094204Z",
     "start_time": "2020-06-21T03:19:38.087354Z"
    },
    "scrolled": true
   },
   "outputs": [],
   "source": [
    "metric_cols = (param_names + ['t', 'daily_ic_mean', 'daily_ic_mean_n',\n",
    "                              'daily_ic_median', 'daily_ic_median_n'] +\n",
    "               [str(n) for n in num_iterations])"
   ]
  },
  {
   "cell_type": "code",
   "execution_count": 35,
   "metadata": {},
   "outputs": [
    {
     "name": "stdout",
     "output_type": "stream",
     "text": [
      "4.4.0\n"
     ]
    }
   ],
   "source": [
    "import lightgbm as lgb\n",
    "print(lgb.__version__)\n"
   ]
  },
  {
   "cell_type": "markdown",
   "metadata": {},
   "source": [
    "We iterate over our six CV configurations and collect the resulting metrics:"
   ]
  },
  {
   "cell_type": "code",
   "execution_count": 36,
   "metadata": {},
   "outputs": [
    {
     "name": "stdout",
     "output_type": "stream",
     "text": [
      "False\n"
     ]
    }
   ],
   "source": [
    "import torch\n",
    "print(torch.cuda.is_available())\n"
   ]
  },
  {
   "cell_type": "code",
   "execution_count": 37,
   "metadata": {},
   "outputs": [
    {
     "name": "stdout",
     "output_type": "stream",
     "text": [
      "GPU is not available or not configured correctly.\n",
      "GPU Tree Learner was not enabled in this build.\n",
      "Please recompile with CMake option -DUSE_GPU=1\n"
     ]
    }
   ],
   "source": [
    "import lightgbm as lgb\n",
    "import numpy as np\n",
    "\n",
    "# Sample dataset\n",
    "X_train = np.random.rand(1000, 10)\n",
    "y_train = np.random.randint(2, size=1000)\n",
    "\n",
    "# Dataset for LightGBM\n",
    "train_data = lgb.Dataset(X_train, label=y_train)\n",
    "\n",
    "# Set parameters for using GPU\n",
    "params = {\n",
    "    'device_type': 'gpu',  # Use GPU\n",
    "    'boosting_type': 'gbdt',\n",
    "    'objective': 'binary',\n",
    "    'metric': 'binary_logloss',\n",
    "    'verbose': -1\n",
    "}\n",
    "\n",
    "# Try to train the model to see if GPU is available\n",
    "try:\n",
    "    model = lgb.train(params, train_data, num_boost_round=10)\n",
    "    print(\"GPU is available and LightGBM is using it.\")\n",
    "except Exception as e:\n",
    "    print(\"GPU is not available or not configured correctly.\")\n",
    "    print(e)\n"
   ]
  },
  {
   "cell_type": "code",
   "execution_count": 40,
   "metadata": {
    "ExecuteTime": {
     "end_time": "2020-06-21T11:56:42.000694Z",
     "start_time": "2020-06-21T03:19:38.095078Z"
    }
   },
   "outputs": [
    {
     "name": "stdout",
     "output_type": "stream",
     "text": [
      "# Parameters: 108\n",
      "Train configs: 6\n",
      "Lookahead: 21 | Train: 1134 | Test: 63 | Params:  54 | Train configs: 6\n",
      "Params: {'learning_rate': 0.3, 'num_leaves': 8, 'feature_fraction': 0.95, 'min_data_in_leaf': 1000, 'boosting': 'gbdt', 'objective': 'regression', 'metric': 'rmse', 'verbose': -1, 'device': 'cpu'} | IC max: 75.74% | Daily IC max: 76.19% | Time: 39.38s\n",
      "Params: {'learning_rate': 0.1, 'num_leaves': 32, 'feature_fraction': 0.6, 'min_data_in_leaf': 250, 'boosting': 'gbdt', 'objective': 'regression', 'metric': 'rmse', 'verbose': -1, 'device': 'cpu'} | IC max: 75.19% | Daily IC max: 76.21% | Time: 49.11s\n",
      "Params: {'learning_rate': 0.3, 'num_leaves': 8, 'feature_fraction': 0.3, 'min_data_in_leaf': 250, 'boosting': 'gbdt', 'objective': 'regression', 'metric': 'rmse', 'verbose': -1, 'device': 'cpu'} | IC max: 75.24% | Daily IC max: 76.23% | Time: 30.10s\n",
      "Params: {'learning_rate': 0.01, 'num_leaves': 4, 'feature_fraction': 0.95, 'min_data_in_leaf': 500, 'boosting': 'gbdt', 'objective': 'regression', 'metric': 'rmse', 'verbose': -1, 'device': 'cpu'} | IC max: 75.95% | Daily IC max: 76.52% | Time: 37.93s\n",
      "Params: {'learning_rate': 0.1, 'num_leaves': 8, 'feature_fraction': 0.95, 'min_data_in_leaf': 500, 'boosting': 'gbdt', 'objective': 'regression', 'metric': 'rmse', 'verbose': -1, 'device': 'cpu'} | IC max: 75.92% | Daily IC max: 76.51% | Time: 40.10s\n",
      "Params: {'learning_rate': 0.1, 'num_leaves': 4, 'feature_fraction': 0.95, 'min_data_in_leaf': 500, 'boosting': 'gbdt', 'objective': 'regression', 'metric': 'rmse', 'verbose': -1, 'device': 'cpu'} | IC max: 75.85% | Daily IC max: 76.49% | Time: 35.59s\n",
      "Params: {'learning_rate': 0.3, 'num_leaves': 128, 'feature_fraction': 0.95, 'min_data_in_leaf': 500, 'boosting': 'gbdt', 'objective': 'regression', 'metric': 'rmse', 'verbose': -1, 'device': 'cpu'} | IC max: 75.25% | Daily IC max: 76.01% | Time: 98.32s\n",
      "Params: {'learning_rate': 0.3, 'num_leaves': 4, 'feature_fraction': 0.6, 'min_data_in_leaf': 1000, 'boosting': 'gbdt', 'objective': 'regression', 'metric': 'rmse', 'verbose': -1, 'device': 'cpu'} | IC max: 75.20% | Daily IC max: 76.07% | Time: 32.08s\n",
      "Params: {'learning_rate': 0.3, 'num_leaves': 4, 'feature_fraction': 0.95, 'min_data_in_leaf': 250, 'boosting': 'gbdt', 'objective': 'regression', 'metric': 'rmse', 'verbose': -1, 'device': 'cpu'} | IC max: 75.44% | Daily IC max: 76.00% | Time: 34.60s\n",
      "Params: {'learning_rate': 0.3, 'num_leaves': 32, 'feature_fraction': 0.95, 'min_data_in_leaf': 250, 'boosting': 'gbdt', 'objective': 'regression', 'metric': 'rmse', 'verbose': -1, 'device': 'cpu'} | IC max: 75.25% | Daily IC max: 76.14% | Time: 49.51s\n",
      "Params: {'learning_rate': 0.01, 'num_leaves': 32, 'feature_fraction': 0.6, 'min_data_in_leaf': 500, 'boosting': 'gbdt', 'objective': 'regression', 'metric': 'rmse', 'verbose': -1, 'device': 'cpu'} | IC max: 75.46% | Daily IC max: 76.41% | Time: 63.25s\n",
      "Params: {'learning_rate': 0.01, 'num_leaves': 32, 'feature_fraction': 0.95, 'min_data_in_leaf': 1000, 'boosting': 'gbdt', 'objective': 'regression', 'metric': 'rmse', 'verbose': -1, 'device': 'cpu'} | IC max: 75.90% | Daily IC max: 76.54% | Time: 70.70s\n",
      "Params: {'learning_rate': 0.3, 'num_leaves': 128, 'feature_fraction': 0.6, 'min_data_in_leaf': 1000, 'boosting': 'gbdt', 'objective': 'regression', 'metric': 'rmse', 'verbose': -1, 'device': 'cpu'} | IC max: 74.91% | Daily IC max: 75.76% | Time: 90.29s\n",
      "Params: {'learning_rate': 0.01, 'num_leaves': 128, 'feature_fraction': 0.6, 'min_data_in_leaf': 1000, 'boosting': 'gbdt', 'objective': 'regression', 'metric': 'rmse', 'verbose': -1, 'device': 'cpu'} | IC max: 75.31% | Daily IC max: 76.27% | Time: 105.17s\n",
      "Params: {'learning_rate': 0.3, 'num_leaves': 128, 'feature_fraction': 0.6, 'min_data_in_leaf': 250, 'boosting': 'gbdt', 'objective': 'regression', 'metric': 'rmse', 'verbose': -1, 'device': 'cpu'} | IC max: 74.98% | Daily IC max: 75.69% | Time: 75.74s\n",
      "Params: {'learning_rate': 0.1, 'num_leaves': 128, 'feature_fraction': 0.6, 'min_data_in_leaf': 250, 'boosting': 'gbdt', 'objective': 'regression', 'metric': 'rmse', 'verbose': -1, 'device': 'cpu'} | IC max: 75.10% | Daily IC max: 76.03% | Time: 86.27s\n",
      "Params: {'learning_rate': 0.1, 'num_leaves': 4, 'feature_fraction': 0.95, 'min_data_in_leaf': 250, 'boosting': 'gbdt', 'objective': 'regression', 'metric': 'rmse', 'verbose': -1, 'device': 'cpu'} | IC max: 75.88% | Daily IC max: 76.47% | Time: 34.36s\n",
      "Params: {'learning_rate': 0.01, 'num_leaves': 8, 'feature_fraction': 0.6, 'min_data_in_leaf': 250, 'boosting': 'gbdt', 'objective': 'regression', 'metric': 'rmse', 'verbose': -1, 'device': 'cpu'} | IC max: 75.66% | Daily IC max: 76.45% | Time: 39.94s\n",
      "Params: {'learning_rate': 0.3, 'num_leaves': 8, 'feature_fraction': 0.6, 'min_data_in_leaf': 1000, 'boosting': 'gbdt', 'objective': 'regression', 'metric': 'rmse', 'verbose': -1, 'device': 'cpu'} | IC max: 75.23% | Daily IC max: 75.98% | Time: 34.22s\n",
      "Params: {'learning_rate': 0.3, 'num_leaves': 32, 'feature_fraction': 0.3, 'min_data_in_leaf': 1000, 'boosting': 'gbdt', 'objective': 'regression', 'metric': 'rmse', 'verbose': -1, 'device': 'cpu'} | IC max: 75.03% | Daily IC max: 76.02% | Time: 45.84s\n",
      "Params: {'learning_rate': 0.1, 'num_leaves': 8, 'feature_fraction': 0.6, 'min_data_in_leaf': 250, 'boosting': 'gbdt', 'objective': 'regression', 'metric': 'rmse', 'verbose': -1, 'device': 'cpu'} | IC max: 75.51% | Daily IC max: 76.46% | Time: 34.16s\n",
      "Params: {'learning_rate': 0.3, 'num_leaves': 8, 'feature_fraction': 0.6, 'min_data_in_leaf': 250, 'boosting': 'gbdt', 'objective': 'regression', 'metric': 'rmse', 'verbose': -1, 'device': 'cpu'} | IC max: 75.28% | Daily IC max: 76.04% | Time: 34.48s\n",
      "Params: {'learning_rate': 0.1, 'num_leaves': 32, 'feature_fraction': 0.95, 'min_data_in_leaf': 500, 'boosting': 'gbdt', 'objective': 'regression', 'metric': 'rmse', 'verbose': -1, 'device': 'cpu'} | IC max: 75.82% | Daily IC max: 76.54% | Time: 54.38s\n",
      "Params: {'learning_rate': 0.1, 'num_leaves': 32, 'feature_fraction': 0.3, 'min_data_in_leaf': 1000, 'boosting': 'gbdt', 'objective': 'regression', 'metric': 'rmse', 'verbose': -1, 'device': 'cpu'} | IC max: 75.13% | Daily IC max: 76.13% | Time: 46.91s\n",
      "Params: {'learning_rate': 0.1, 'num_leaves': 128, 'feature_fraction': 0.3, 'min_data_in_leaf': 500, 'boosting': 'gbdt', 'objective': 'regression', 'metric': 'rmse', 'verbose': -1, 'device': 'cpu'} | IC max: 74.74% | Daily IC max: 75.75% | Time: 90.21s\n",
      "Params: {'learning_rate': 0.1, 'num_leaves': 4, 'feature_fraction': 0.3, 'min_data_in_leaf': 1000, 'boosting': 'gbdt', 'objective': 'regression', 'metric': 'rmse', 'verbose': -1, 'device': 'cpu'} | IC max: 75.50% | Daily IC max: 76.48% | Time: 28.51s\n",
      "Params: {'learning_rate': 0.3, 'num_leaves': 8, 'feature_fraction': 0.95, 'min_data_in_leaf': 250, 'boosting': 'gbdt', 'objective': 'regression', 'metric': 'rmse', 'verbose': -1, 'device': 'cpu'} | IC max: 75.67% | Daily IC max: 76.12% | Time: 37.62s\n",
      "Params: {'learning_rate': 0.01, 'num_leaves': 128, 'feature_fraction': 0.3, 'min_data_in_leaf': 1000, 'boosting': 'gbdt', 'objective': 'regression', 'metric': 'rmse', 'verbose': -1, 'device': 'cpu'} | IC max: 74.64% | Daily IC max: 75.62% | Time: 99.78s\n",
      "Params: {'learning_rate': 0.3, 'num_leaves': 32, 'feature_fraction': 0.3, 'min_data_in_leaf': 500, 'boosting': 'gbdt', 'objective': 'regression', 'metric': 'rmse', 'verbose': -1, 'device': 'cpu'} | IC max: 75.03% | Daily IC max: 75.98% | Time: 42.69s\n",
      "Params: {'learning_rate': 0.01, 'num_leaves': 128, 'feature_fraction': 0.95, 'min_data_in_leaf': 500, 'boosting': 'gbdt', 'objective': 'regression', 'metric': 'rmse', 'verbose': -1, 'device': 'cpu'} | IC max: 75.72% | Daily IC max: 76.47% | Time: 127.87s\n",
      "Params: {'learning_rate': 0.3, 'num_leaves': 4, 'feature_fraction': 0.6, 'min_data_in_leaf': 500, 'boosting': 'gbdt', 'objective': 'regression', 'metric': 'rmse', 'verbose': -1, 'device': 'cpu'} | IC max: 75.26% | Daily IC max: 76.07% | Time: 30.77s\n",
      "Params: {'learning_rate': 0.01, 'num_leaves': 32, 'feature_fraction': 0.6, 'min_data_in_leaf': 1000, 'boosting': 'gbdt', 'objective': 'regression', 'metric': 'rmse', 'verbose': -1, 'device': 'cpu'} | IC max: 75.46% | Daily IC max: 76.41% | Time: 64.68s\n",
      "Params: {'learning_rate': 0.1, 'num_leaves': 32, 'feature_fraction': 0.3, 'min_data_in_leaf': 500, 'boosting': 'gbdt', 'objective': 'regression', 'metric': 'rmse', 'verbose': -1, 'device': 'cpu'} | IC max: 75.04% | Daily IC max: 76.11% | Time: 44.86s\n",
      "Params: {'learning_rate': 0.1, 'num_leaves': 8, 'feature_fraction': 0.3, 'min_data_in_leaf': 1000, 'boosting': 'gbdt', 'objective': 'regression', 'metric': 'rmse', 'verbose': -1, 'device': 'cpu'} | IC max: 75.42% | Daily IC max: 76.40% | Time: 31.08s\n",
      "Params: {'learning_rate': 0.1, 'num_leaves': 32, 'feature_fraction': 0.95, 'min_data_in_leaf': 250, 'boosting': 'gbdt', 'objective': 'regression', 'metric': 'rmse', 'verbose': -1, 'device': 'cpu'} | IC max: 75.79% | Daily IC max: 76.53% | Time: 53.42s\n",
      "Params: {'learning_rate': 0.3, 'num_leaves': 128, 'feature_fraction': 0.3, 'min_data_in_leaf': 250, 'boosting': 'gbdt', 'objective': 'regression', 'metric': 'rmse', 'verbose': -1, 'device': 'cpu'} | IC max: 74.87% | Daily IC max: 75.58% | Time: 79.02s\n",
      "Params: {'learning_rate': 0.01, 'num_leaves': 128, 'feature_fraction': 0.3, 'min_data_in_leaf': 250, 'boosting': 'gbdt', 'objective': 'regression', 'metric': 'rmse', 'verbose': -1, 'device': 'cpu'} | IC max: 74.63% | Daily IC max: 75.59% | Time: 98.39s\n",
      "Params: {'learning_rate': 0.01, 'num_leaves': 8, 'feature_fraction': 0.3, 'min_data_in_leaf': 250, 'boosting': 'gbdt', 'objective': 'regression', 'metric': 'rmse', 'verbose': -1, 'device': 'cpu'} | IC max: 74.83% | Daily IC max: 75.64% | Time: 33.48s\n",
      "Params: {'learning_rate': 0.1, 'num_leaves': 4, 'feature_fraction': 0.6, 'min_data_in_leaf': 1000, 'boosting': 'gbdt', 'objective': 'regression', 'metric': 'rmse', 'verbose': -1, 'device': 'cpu'} | IC max: 75.52% | Daily IC max: 76.50% | Time: 31.24s\n",
      "Params: {'learning_rate': 0.3, 'num_leaves': 32, 'feature_fraction': 0.3, 'min_data_in_leaf': 250, 'boosting': 'gbdt', 'objective': 'regression', 'metric': 'rmse', 'verbose': -1, 'device': 'cpu'} | IC max: 75.03% | Daily IC max: 75.99% | Time: 41.76s\n",
      "Params: {'learning_rate': 0.01, 'num_leaves': 8, 'feature_fraction': 0.3, 'min_data_in_leaf': 1000, 'boosting': 'gbdt', 'objective': 'regression', 'metric': 'rmse', 'verbose': -1, 'device': 'cpu'} | IC max: 74.82% | Daily IC max: 75.63% | Time: 33.51s\n",
      "Params: {'learning_rate': 0.01, 'num_leaves': 8, 'feature_fraction': 0.95, 'min_data_in_leaf': 500, 'boosting': 'gbdt', 'objective': 'regression', 'metric': 'rmse', 'verbose': -1, 'device': 'cpu'} | IC max: 75.95% | Daily IC max: 76.57% | Time: 47.11s\n",
      "Params: {'learning_rate': 0.1, 'num_leaves': 128, 'feature_fraction': 0.6, 'min_data_in_leaf': 1000, 'boosting': 'gbdt', 'objective': 'regression', 'metric': 'rmse', 'verbose': -1, 'device': 'cpu'} | IC max: 75.06% | Daily IC max: 75.99% | Time: 100.17s\n",
      "Params: {'learning_rate': 0.01, 'num_leaves': 32, 'feature_fraction': 0.6, 'min_data_in_leaf': 250, 'boosting': 'gbdt', 'objective': 'regression', 'metric': 'rmse', 'verbose': -1, 'device': 'cpu'} | IC max: 75.45% | Daily IC max: 76.41% | Time: 61.87s\n",
      "Params: {'learning_rate': 0.3, 'num_leaves': 8, 'feature_fraction': 0.3, 'min_data_in_leaf': 1000, 'boosting': 'gbdt', 'objective': 'regression', 'metric': 'rmse', 'verbose': -1, 'device': 'cpu'} | IC max: 75.27% | Daily IC max: 76.25% | Time: 30.92s\n",
      "Params: {'learning_rate': 0.1, 'num_leaves': 128, 'feature_fraction': 0.95, 'min_data_in_leaf': 500, 'boosting': 'gbdt', 'objective': 'regression', 'metric': 'rmse', 'verbose': -1, 'device': 'cpu'} | IC max: 75.54% | Daily IC max: 76.26% | Time: 96.72s\n",
      "Params: {'learning_rate': 0.01, 'num_leaves': 128, 'feature_fraction': 0.95, 'min_data_in_leaf': 1000, 'boosting': 'gbdt', 'objective': 'regression', 'metric': 'rmse', 'verbose': -1, 'device': 'cpu'} | IC max: 75.68% | Daily IC max: 76.44% | Time: 127.51s\n",
      "Params: {'learning_rate': 0.01, 'num_leaves': 128, 'feature_fraction': 0.6, 'min_data_in_leaf': 500, 'boosting': 'gbdt', 'objective': 'regression', 'metric': 'rmse', 'verbose': -1, 'device': 'cpu'} | IC max: 75.26% | Daily IC max: 76.23% | Time: 108.03s\n",
      "Params: {'learning_rate': 0.1, 'num_leaves': 128, 'feature_fraction': 0.95, 'min_data_in_leaf': 250, 'boosting': 'gbdt', 'objective': 'regression', 'metric': 'rmse', 'verbose': -1, 'device': 'cpu'} | IC max: 75.58% | Daily IC max: 76.29% | Time: 91.64s\n",
      "Params: {'learning_rate': 0.1, 'num_leaves': 8, 'feature_fraction': 0.95, 'min_data_in_leaf': 1000, 'boosting': 'gbdt', 'objective': 'regression', 'metric': 'rmse', 'verbose': -1, 'device': 'cpu'} | IC max: 75.94% | Daily IC max: 76.52% | Time: 39.26s\n",
      "Params: {'learning_rate': 0.01, 'num_leaves': 128, 'feature_fraction': 0.3, 'min_data_in_leaf': 500, 'boosting': 'gbdt', 'objective': 'regression', 'metric': 'rmse', 'verbose': -1, 'device': 'cpu'} | IC max: 74.61% | Daily IC max: 75.60% | Time: 99.70s\n",
      "Params: {'learning_rate': 0.3, 'num_leaves': 128, 'feature_fraction': 0.95, 'min_data_in_leaf': 1000, 'boosting': 'gbdt', 'objective': 'regression', 'metric': 'rmse', 'verbose': -1, 'device': 'cpu'} | IC max: 75.03% | Daily IC max: 75.87% | Time: 100.25s\n",
      "Params: {'learning_rate': 0.1, 'num_leaves': 4, 'feature_fraction': 0.6, 'min_data_in_leaf': 250, 'boosting': 'gbdt', 'objective': 'regression', 'metric': 'rmse', 'verbose': -1, 'device': 'cpu'} | IC max: 75.56% | Daily IC max: 76.50% | Time: 31.17s\n",
      "Params: {'learning_rate': 0.01, 'num_leaves': 8, 'feature_fraction': 0.3, 'min_data_in_leaf': 500, 'boosting': 'gbdt', 'objective': 'regression', 'metric': 'rmse', 'verbose': -1, 'device': 'cpu'} | IC max: 74.83% | Daily IC max: 75.64% | Time: 34.24s\n"
     ]
    },
    {
     "name": "stderr",
     "output_type": "stream",
     "text": [
      "c:\\Users\\flyin\\.conda\\envs\\py311\\lib\\site-packages\\tables\\path.py:137: NaturalNameWarning: object name is not a valid Python identifier: '21'; it does not match the pattern ``^[a-zA-Z_][a-zA-Z0-9_]*$``; you will not be able to use natural naming to access this object; using ``getattr()`` will still work, though\n",
      "  check_attribute_name(name)\n",
      "c:\\Users\\flyin\\.conda\\envs\\py311\\lib\\site-packages\\tables\\path.py:137: NaturalNameWarning: object name is not a valid Python identifier: '1134'; it does not match the pattern ``^[a-zA-Z_][a-zA-Z0-9_]*$``; you will not be able to use natural naming to access this object; using ``getattr()`` will still work, though\n",
      "  check_attribute_name(name)\n",
      "c:\\Users\\flyin\\.conda\\envs\\py311\\lib\\site-packages\\tables\\path.py:137: NaturalNameWarning: object name is not a valid Python identifier: '63'; it does not match the pattern ``^[a-zA-Z_][a-zA-Z0-9_]*$``; you will not be able to use natural naming to access this object; using ``getattr()`` will still work, though\n",
      "  check_attribute_name(name)\n",
      "c:\\Users\\flyin\\.conda\\envs\\py311\\lib\\site-packages\\tables\\path.py:137: NaturalNameWarning: object name is not a valid Python identifier: '0.01'; it does not match the pattern ``^[a-zA-Z_][a-zA-Z0-9_]*$``; you will not be able to use natural naming to access this object; using ``getattr()`` will still work, though\n",
      "  check_attribute_name(name)\n",
      "c:\\Users\\flyin\\.conda\\envs\\py311\\lib\\site-packages\\tables\\path.py:137: NaturalNameWarning: object name is not a valid Python identifier: '8'; it does not match the pattern ``^[a-zA-Z_][a-zA-Z0-9_]*$``; you will not be able to use natural naming to access this object; using ``getattr()`` will still work, though\n",
      "  check_attribute_name(name)\n",
      "c:\\Users\\flyin\\.conda\\envs\\py311\\lib\\site-packages\\tables\\path.py:137: NaturalNameWarning: object name is not a valid Python identifier: '0.3'; it does not match the pattern ``^[a-zA-Z_][a-zA-Z0-9_]*$``; you will not be able to use natural naming to access this object; using ``getattr()`` will still work, though\n",
      "  check_attribute_name(name)\n",
      "c:\\Users\\flyin\\.conda\\envs\\py311\\lib\\site-packages\\tables\\path.py:137: NaturalNameWarning: object name is not a valid Python identifier: '500'; it does not match the pattern ``^[a-zA-Z_][a-zA-Z0-9_]*$``; you will not be able to use natural naming to access this object; using ``getattr()`` will still work, though\n",
      "  check_attribute_name(name)\n",
      "c:\\Users\\flyin\\.conda\\envs\\py311\\lib\\site-packages\\tables\\leaf.py:409: RuntimeWarning: overflow encountered in scalar multiply\n",
      "  expected_mb = (expectedrows * rowsize) // MB\n",
      "c:\\Users\\flyin\\.conda\\envs\\py311\\lib\\site-packages\\tables\\path.py:137: NaturalNameWarning: object name is not a valid Python identifier: '21'; it does not match the pattern ``^[a-zA-Z_][a-zA-Z0-9_]*$``; you will not be able to use natural naming to access this object; using ``getattr()`` will still work, though\n",
      "  check_attribute_name(name)\n",
      "c:\\Users\\flyin\\.conda\\envs\\py311\\lib\\site-packages\\tables\\path.py:137: NaturalNameWarning: object name is not a valid Python identifier: '1134'; it does not match the pattern ``^[a-zA-Z_][a-zA-Z0-9_]*$``; you will not be able to use natural naming to access this object; using ``getattr()`` will still work, though\n",
      "  check_attribute_name(name)\n",
      "c:\\Users\\flyin\\.conda\\envs\\py311\\lib\\site-packages\\tables\\path.py:137: NaturalNameWarning: object name is not a valid Python identifier: '63'; it does not match the pattern ``^[a-zA-Z_][a-zA-Z0-9_]*$``; you will not be able to use natural naming to access this object; using ``getattr()`` will still work, though\n",
      "  check_attribute_name(name)\n",
      "c:\\Users\\flyin\\.conda\\envs\\py311\\lib\\site-packages\\tables\\path.py:137: NaturalNameWarning: object name is not a valid Python identifier: '0.01'; it does not match the pattern ``^[a-zA-Z_][a-zA-Z0-9_]*$``; you will not be able to use natural naming to access this object; using ``getattr()`` will still work, though\n",
      "  check_attribute_name(name)\n",
      "c:\\Users\\flyin\\.conda\\envs\\py311\\lib\\site-packages\\tables\\path.py:137: NaturalNameWarning: object name is not a valid Python identifier: '8'; it does not match the pattern ``^[a-zA-Z_][a-zA-Z0-9_]*$``; you will not be able to use natural naming to access this object; using ``getattr()`` will still work, though\n",
      "  check_attribute_name(name)\n",
      "c:\\Users\\flyin\\.conda\\envs\\py311\\lib\\site-packages\\tables\\path.py:137: NaturalNameWarning: object name is not a valid Python identifier: '0.3'; it does not match the pattern ``^[a-zA-Z_][a-zA-Z0-9_]*$``; you will not be able to use natural naming to access this object; using ``getattr()`` will still work, though\n",
      "  check_attribute_name(name)\n",
      "c:\\Users\\flyin\\.conda\\envs\\py311\\lib\\site-packages\\tables\\path.py:137: NaturalNameWarning: object name is not a valid Python identifier: '500'; it does not match the pattern ``^[a-zA-Z_][a-zA-Z0-9_]*$``; you will not be able to use natural naming to access this object; using ``getattr()`` will still work, though\n",
      "  check_attribute_name(name)\n",
      "c:\\Users\\flyin\\.conda\\envs\\py311\\lib\\site-packages\\tables\\path.py:137: NaturalNameWarning: object name is not a valid Python identifier: '21'; it does not match the pattern ``^[a-zA-Z_][a-zA-Z0-9_]*$``; you will not be able to use natural naming to access this object; using ``getattr()`` will still work, though\n",
      "  check_attribute_name(name)\n",
      "c:\\Users\\flyin\\.conda\\envs\\py311\\lib\\site-packages\\tables\\path.py:137: NaturalNameWarning: object name is not a valid Python identifier: '1134'; it does not match the pattern ``^[a-zA-Z_][a-zA-Z0-9_]*$``; you will not be able to use natural naming to access this object; using ``getattr()`` will still work, though\n",
      "  check_attribute_name(name)\n",
      "c:\\Users\\flyin\\.conda\\envs\\py311\\lib\\site-packages\\tables\\path.py:137: NaturalNameWarning: object name is not a valid Python identifier: '63'; it does not match the pattern ``^[a-zA-Z_][a-zA-Z0-9_]*$``; you will not be able to use natural naming to access this object; using ``getattr()`` will still work, though\n",
      "  check_attribute_name(name)\n",
      "c:\\Users\\flyin\\.conda\\envs\\py311\\lib\\site-packages\\tables\\path.py:137: NaturalNameWarning: object name is not a valid Python identifier: '0.01'; it does not match the pattern ``^[a-zA-Z_][a-zA-Z0-9_]*$``; you will not be able to use natural naming to access this object; using ``getattr()`` will still work, though\n",
      "  check_attribute_name(name)\n",
      "c:\\Users\\flyin\\.conda\\envs\\py311\\lib\\site-packages\\tables\\path.py:137: NaturalNameWarning: object name is not a valid Python identifier: '8'; it does not match the pattern ``^[a-zA-Z_][a-zA-Z0-9_]*$``; you will not be able to use natural naming to access this object; using ``getattr()`` will still work, though\n",
      "  check_attribute_name(name)\n",
      "c:\\Users\\flyin\\.conda\\envs\\py311\\lib\\site-packages\\tables\\path.py:137: NaturalNameWarning: object name is not a valid Python identifier: '0.3'; it does not match the pattern ``^[a-zA-Z_][a-zA-Z0-9_]*$``; you will not be able to use natural naming to access this object; using ``getattr()`` will still work, though\n",
      "  check_attribute_name(name)\n",
      "c:\\Users\\flyin\\.conda\\envs\\py311\\lib\\site-packages\\tables\\path.py:137: NaturalNameWarning: object name is not a valid Python identifier: '500'; it does not match the pattern ``^[a-zA-Z_][a-zA-Z0-9_]*$``; you will not be able to use natural naming to access this object; using ``getattr()`` will still work, though\n",
      "  check_attribute_name(name)\n"
     ]
    },
    {
     "name": "stdout",
     "output_type": "stream",
     "text": [
      "Lookahead:  5 | Train: 252 | Test: 63 | Params:  54 | Train configs: 6\n",
      "Params: {'learning_rate': 0.3, 'num_leaves': 4, 'feature_fraction': 0.3, 'min_data_in_leaf': 250, 'boosting': 'gbdt', 'objective': 'regression', 'metric': 'rmse', 'verbose': -1, 'device': 'cpu'} | IC max: 67.99% | Daily IC max: 69.07% | Time: 15.85s\n",
      "Params: {'learning_rate': 0.1, 'num_leaves': 32, 'feature_fraction': 0.6, 'min_data_in_leaf': 500, 'boosting': 'gbdt', 'objective': 'regression', 'metric': 'rmse', 'verbose': -1, 'device': 'cpu'} | IC max: 68.37% | Daily IC max: 69.33% | Time: 28.67s\n",
      "Params: {'learning_rate': 0.1, 'num_leaves': 4, 'feature_fraction': 0.95, 'min_data_in_leaf': 250, 'boosting': 'gbdt', 'objective': 'regression', 'metric': 'rmse', 'verbose': -1, 'device': 'cpu'} | IC max: 69.09% | Daily IC max: 69.95% | Time: 16.38s\n",
      "Params: {'learning_rate': 0.1, 'num_leaves': 4, 'feature_fraction': 0.3, 'min_data_in_leaf': 250, 'boosting': 'gbdt', 'objective': 'regression', 'metric': 'rmse', 'verbose': -1, 'device': 'cpu'} | IC max: 68.26% | Daily IC max: 69.53% | Time: 14.84s\n",
      "Params: {'learning_rate': 0.01, 'num_leaves': 128, 'feature_fraction': 0.95, 'min_data_in_leaf': 250, 'boosting': 'gbdt', 'objective': 'regression', 'metric': 'rmse', 'verbose': -1, 'device': 'cpu'} | IC max: 68.42% | Daily IC max: 69.53% | Time: 68.45s\n",
      "Params: {'learning_rate': 0.1, 'num_leaves': 32, 'feature_fraction': 0.6, 'min_data_in_leaf': 250, 'boosting': 'gbdt', 'objective': 'regression', 'metric': 'rmse', 'verbose': -1, 'device': 'cpu'} | IC max: 68.40% | Daily IC max: 69.34% | Time: 27.68s\n",
      "Params: {'learning_rate': 0.01, 'num_leaves': 8, 'feature_fraction': 0.3, 'min_data_in_leaf': 1000, 'boosting': 'gbdt', 'objective': 'regression', 'metric': 'rmse', 'verbose': -1, 'device': 'cpu'} | IC max: 67.32% | Daily IC max: 68.21% | Time: 18.05s\n",
      "Params: {'learning_rate': 0.3, 'num_leaves': 4, 'feature_fraction': 0.95, 'min_data_in_leaf': 1000, 'boosting': 'gbdt', 'objective': 'regression', 'metric': 'rmse', 'verbose': -1, 'device': 'cpu'} | IC max: 68.70% | Daily IC max: 69.44% | Time: 16.72s\n",
      "Params: {'learning_rate': 0.01, 'num_leaves': 32, 'feature_fraction': 0.6, 'min_data_in_leaf': 1000, 'boosting': 'gbdt', 'objective': 'regression', 'metric': 'rmse', 'verbose': -1, 'device': 'cpu'} | IC max: 68.14% | Daily IC max: 69.42% | Time: 31.24s\n",
      "Params: {'learning_rate': 0.3, 'num_leaves': 8, 'feature_fraction': 0.95, 'min_data_in_leaf': 1000, 'boosting': 'gbdt', 'objective': 'regression', 'metric': 'rmse', 'verbose': -1, 'device': 'cpu'} | IC max: 68.67% | Daily IC max: 69.47% | Time: 18.89s\n",
      "Params: {'learning_rate': 0.3, 'num_leaves': 32, 'feature_fraction': 0.3, 'min_data_in_leaf': 250, 'boosting': 'gbdt', 'objective': 'regression', 'metric': 'rmse', 'verbose': -1, 'device': 'cpu'} | IC max: 66.81% | Daily IC max: 67.89% | Time: 27.42s\n",
      "Params: {'learning_rate': 0.3, 'num_leaves': 8, 'feature_fraction': 0.3, 'min_data_in_leaf': 500, 'boosting': 'gbdt', 'objective': 'regression', 'metric': 'rmse', 'verbose': -1, 'device': 'cpu'} | IC max: 67.56% | Daily IC max: 68.71% | Time: 18.75s\n",
      "Params: {'learning_rate': 0.1, 'num_leaves': 8, 'feature_fraction': 0.3, 'min_data_in_leaf': 500, 'boosting': 'gbdt', 'objective': 'regression', 'metric': 'rmse', 'verbose': -1, 'device': 'cpu'} | IC max: 68.05% | Daily IC max: 69.40% | Time: 19.76s\n",
      "Params: {'learning_rate': 0.1, 'num_leaves': 128, 'feature_fraction': 0.6, 'min_data_in_leaf': 250, 'boosting': 'gbdt', 'objective': 'regression', 'metric': 'rmse', 'verbose': -1, 'device': 'cpu'} | IC max: 68.13% | Daily IC max: 69.23% | Time: 59.58s\n",
      "Params: {'learning_rate': 0.1, 'num_leaves': 128, 'feature_fraction': 0.3, 'min_data_in_leaf': 500, 'boosting': 'gbdt', 'objective': 'regression', 'metric': 'rmse', 'verbose': -1, 'device': 'cpu'} | IC max: 66.55% | Daily IC max: 68.06% | Time: 81.06s\n",
      "Params: {'learning_rate': 0.1, 'num_leaves': 128, 'feature_fraction': 0.95, 'min_data_in_leaf': 250, 'boosting': 'gbdt', 'objective': 'regression', 'metric': 'rmse', 'verbose': -1, 'device': 'cpu'} | IC max: 68.33% | Daily IC max: 69.41% | Time: 76.73s\n",
      "Params: {'learning_rate': 0.3, 'num_leaves': 32, 'feature_fraction': 0.6, 'min_data_in_leaf': 250, 'boosting': 'gbdt', 'objective': 'regression', 'metric': 'rmse', 'verbose': -1, 'device': 'cpu'} | IC max: 68.24% | Daily IC max: 69.31% | Time: 28.75s\n",
      "Params: {'learning_rate': 0.01, 'num_leaves': 4, 'feature_fraction': 0.3, 'min_data_in_leaf': 250, 'boosting': 'gbdt', 'objective': 'regression', 'metric': 'rmse', 'verbose': -1, 'device': 'cpu'} | IC max: 67.47% | Daily IC max: 68.13% | Time: 17.28s\n",
      "Params: {'learning_rate': 0.3, 'num_leaves': 4, 'feature_fraction': 0.6, 'min_data_in_leaf': 1000, 'boosting': 'gbdt', 'objective': 'regression', 'metric': 'rmse', 'verbose': -1, 'device': 'cpu'} | IC max: 68.60% | Daily IC max: 69.43% | Time: 17.66s\n",
      "Params: {'learning_rate': 0.1, 'num_leaves': 8, 'feature_fraction': 0.3, 'min_data_in_leaf': 250, 'boosting': 'gbdt', 'objective': 'regression', 'metric': 'rmse', 'verbose': -1, 'device': 'cpu'} | IC max: 67.97% | Daily IC max: 69.36% | Time: 18.60s\n",
      "Params: {'learning_rate': 0.01, 'num_leaves': 32, 'feature_fraction': 0.6, 'min_data_in_leaf': 250, 'boosting': 'gbdt', 'objective': 'regression', 'metric': 'rmse', 'verbose': -1, 'device': 'cpu'} | IC max: 68.22% | Daily IC max: 69.44% | Time: 33.52s\n",
      "Params: {'learning_rate': 0.01, 'num_leaves': 32, 'feature_fraction': 0.95, 'min_data_in_leaf': 500, 'boosting': 'gbdt', 'objective': 'regression', 'metric': 'rmse', 'verbose': -1, 'device': 'cpu'} | IC max: 68.76% | Daily IC max: 69.80% | Time: 34.37s\n",
      "Params: {'learning_rate': 0.3, 'num_leaves': 128, 'feature_fraction': 0.95, 'min_data_in_leaf': 250, 'boosting': 'gbdt', 'objective': 'regression', 'metric': 'rmse', 'verbose': -1, 'device': 'cpu'} | IC max: 67.78% | Daily IC max: 68.72% | Time: 60.44s\n",
      "Params: {'learning_rate': 0.01, 'num_leaves': 32, 'feature_fraction': 0.95, 'min_data_in_leaf': 1000, 'boosting': 'gbdt', 'objective': 'regression', 'metric': 'rmse', 'verbose': -1, 'device': 'cpu'} | IC max: 68.71% | Daily IC max: 69.78% | Time: 32.91s\n",
      "Params: {'learning_rate': 0.3, 'num_leaves': 32, 'feature_fraction': 0.6, 'min_data_in_leaf': 500, 'boosting': 'gbdt', 'objective': 'regression', 'metric': 'rmse', 'verbose': -1, 'device': 'cpu'} | IC max: 68.26% | Daily IC max: 69.29% | Time: 27.93s\n",
      "Params: {'learning_rate': 0.3, 'num_leaves': 128, 'feature_fraction': 0.6, 'min_data_in_leaf': 500, 'boosting': 'gbdt', 'objective': 'regression', 'metric': 'rmse', 'verbose': -1, 'device': 'cpu'} | IC max: 67.82% | Daily IC max: 68.82% | Time: 63.06s\n",
      "Params: {'learning_rate': 0.1, 'num_leaves': 4, 'feature_fraction': 0.95, 'min_data_in_leaf': 1000, 'boosting': 'gbdt', 'objective': 'regression', 'metric': 'rmse', 'verbose': -1, 'device': 'cpu'} | IC max: 69.00% | Daily IC max: 69.91% | Time: 16.66s\n",
      "Params: {'learning_rate': 0.1, 'num_leaves': 4, 'feature_fraction': 0.3, 'min_data_in_leaf': 1000, 'boosting': 'gbdt', 'objective': 'regression', 'metric': 'rmse', 'verbose': -1, 'device': 'cpu'} | IC max: 68.23% | Daily IC max: 69.50% | Time: 15.00s\n",
      "Params: {'learning_rate': 0.01, 'num_leaves': 8, 'feature_fraction': 0.95, 'min_data_in_leaf': 500, 'boosting': 'gbdt', 'objective': 'regression', 'metric': 'rmse', 'verbose': -1, 'device': 'cpu'} | IC max: 68.92% | Daily IC max: 69.88% | Time: 20.01s\n",
      "Params: {'learning_rate': 0.1, 'num_leaves': 8, 'feature_fraction': 0.95, 'min_data_in_leaf': 1000, 'boosting': 'gbdt', 'objective': 'regression', 'metric': 'rmse', 'verbose': -1, 'device': 'cpu'} | IC max: 68.85% | Daily IC max: 69.80% | Time: 19.67s\n",
      "Params: {'learning_rate': 0.3, 'num_leaves': 4, 'feature_fraction': 0.95, 'min_data_in_leaf': 500, 'boosting': 'gbdt', 'objective': 'regression', 'metric': 'rmse', 'verbose': -1, 'device': 'cpu'} | IC max: 68.73% | Daily IC max: 69.49% | Time: 16.60s\n",
      "Params: {'learning_rate': 0.3, 'num_leaves': 8, 'feature_fraction': 0.6, 'min_data_in_leaf': 250, 'boosting': 'gbdt', 'objective': 'regression', 'metric': 'rmse', 'verbose': -1, 'device': 'cpu'} | IC max: 68.46% | Daily IC max: 69.40% | Time: 17.57s\n",
      "Params: {'learning_rate': 0.01, 'num_leaves': 8, 'feature_fraction': 0.3, 'min_data_in_leaf': 500, 'boosting': 'gbdt', 'objective': 'regression', 'metric': 'rmse', 'verbose': -1, 'device': 'cpu'} | IC max: 67.35% | Daily IC max: 68.23% | Time: 18.05s\n",
      "Params: {'learning_rate': 0.01, 'num_leaves': 4, 'feature_fraction': 0.95, 'min_data_in_leaf': 1000, 'boosting': 'gbdt', 'objective': 'regression', 'metric': 'rmse', 'verbose': -1, 'device': 'cpu'} | IC max: 69.12% | Daily IC max: 69.97% | Time: 17.04s\n",
      "Params: {'learning_rate': 0.3, 'num_leaves': 32, 'feature_fraction': 0.95, 'min_data_in_leaf': 1000, 'boosting': 'gbdt', 'objective': 'regression', 'metric': 'rmse', 'verbose': -1, 'device': 'cpu'} | IC max: 68.31% | Daily IC max: 69.39% | Time: 31.25s\n",
      "Params: {'learning_rate': 0.01, 'num_leaves': 128, 'feature_fraction': 0.3, 'min_data_in_leaf': 250, 'boosting': 'gbdt', 'objective': 'regression', 'metric': 'rmse', 'verbose': -1, 'device': 'cpu'} | IC max: 66.87% | Daily IC max: 68.16% | Time: 65.08s\n",
      "Params: {'learning_rate': 0.01, 'num_leaves': 4, 'feature_fraction': 0.6, 'min_data_in_leaf': 1000, 'boosting': 'gbdt', 'objective': 'regression', 'metric': 'rmse', 'verbose': -1, 'device': 'cpu'} | IC max: 68.80% | Daily IC max: 69.63% | Time: 16.03s\n",
      "Params: {'learning_rate': 0.01, 'num_leaves': 32, 'feature_fraction': 0.3, 'min_data_in_leaf': 1000, 'boosting': 'gbdt', 'objective': 'regression', 'metric': 'rmse', 'verbose': -1, 'device': 'cpu'} | IC max: 67.14% | Daily IC max: 68.34% | Time: 30.66s\n",
      "Params: {'learning_rate': 0.1, 'num_leaves': 128, 'feature_fraction': 0.3, 'min_data_in_leaf': 250, 'boosting': 'gbdt', 'objective': 'regression', 'metric': 'rmse', 'verbose': -1, 'device': 'cpu'} | IC max: 66.56% | Daily IC max: 68.00% | Time: 59.83s\n",
      "Params: {'learning_rate': 0.01, 'num_leaves': 4, 'feature_fraction': 0.95, 'min_data_in_leaf': 250, 'boosting': 'gbdt', 'objective': 'regression', 'metric': 'rmse', 'verbose': -1, 'device': 'cpu'} | IC max: 69.15% | Daily IC max: 69.99% | Time: 16.84s\n",
      "Params: {'learning_rate': 0.01, 'num_leaves': 128, 'feature_fraction': 0.3, 'min_data_in_leaf': 500, 'boosting': 'gbdt', 'objective': 'regression', 'metric': 'rmse', 'verbose': -1, 'device': 'cpu'} | IC max: 66.87% | Daily IC max: 68.20% | Time: 62.61s\n",
      "Params: {'learning_rate': 0.01, 'num_leaves': 128, 'feature_fraction': 0.6, 'min_data_in_leaf': 500, 'boosting': 'gbdt', 'objective': 'regression', 'metric': 'rmse', 'verbose': -1, 'device': 'cpu'} | IC max: 67.77% | Daily IC max: 69.16% | Time: 58.14s\n",
      "Params: {'learning_rate': 0.1, 'num_leaves': 4, 'feature_fraction': 0.6, 'min_data_in_leaf': 250, 'boosting': 'gbdt', 'objective': 'regression', 'metric': 'rmse', 'verbose': -1, 'device': 'cpu'} | IC max: 68.88% | Daily IC max: 69.80% | Time: 15.55s\n",
      "Params: {'learning_rate': 0.01, 'num_leaves': 4, 'feature_fraction': 0.95, 'min_data_in_leaf': 500, 'boosting': 'gbdt', 'objective': 'regression', 'metric': 'rmse', 'verbose': -1, 'device': 'cpu'} | IC max: 69.14% | Daily IC max: 69.99% | Time: 16.58s\n",
      "Params: {'learning_rate': 0.01, 'num_leaves': 4, 'feature_fraction': 0.3, 'min_data_in_leaf': 1000, 'boosting': 'gbdt', 'objective': 'regression', 'metric': 'rmse', 'verbose': -1, 'device': 'cpu'} | IC max: 67.45% | Daily IC max: 68.12% | Time: 14.93s\n",
      "Params: {'learning_rate': 0.1, 'num_leaves': 32, 'feature_fraction': 0.3, 'min_data_in_leaf': 500, 'boosting': 'gbdt', 'objective': 'regression', 'metric': 'rmse', 'verbose': -1, 'device': 'cpu'} | IC max: 67.31% | Daily IC max: 68.81% | Time: 27.26s\n",
      "Params: {'learning_rate': 0.01, 'num_leaves': 128, 'feature_fraction': 0.95, 'min_data_in_leaf': 1000, 'boosting': 'gbdt', 'objective': 'regression', 'metric': 'rmse', 'verbose': -1, 'device': 'cpu'} | IC max: 68.41% | Daily IC max: 69.58% | Time: 55.46s\n",
      "Params: {'learning_rate': 0.1, 'num_leaves': 8, 'feature_fraction': 0.95, 'min_data_in_leaf': 500, 'boosting': 'gbdt', 'objective': 'regression', 'metric': 'rmse', 'verbose': -1, 'device': 'cpu'} | IC max: 68.82% | Daily IC max: 69.81% | Time: 20.16s\n",
      "Params: {'learning_rate': 0.1, 'num_leaves': 4, 'feature_fraction': 0.3, 'min_data_in_leaf': 500, 'boosting': 'gbdt', 'objective': 'regression', 'metric': 'rmse', 'verbose': -1, 'device': 'cpu'} | IC max: 68.25% | Daily IC max: 69.53% | Time: 15.49s\n",
      "Params: {'learning_rate': 0.3, 'num_leaves': 32, 'feature_fraction': 0.6, 'min_data_in_leaf': 1000, 'boosting': 'gbdt', 'objective': 'regression', 'metric': 'rmse', 'verbose': -1, 'device': 'cpu'} | IC max: 68.25% | Daily IC max: 69.31% | Time: 26.03s\n",
      "Params: {'learning_rate': 0.3, 'num_leaves': 8, 'feature_fraction': 0.6, 'min_data_in_leaf': 500, 'boosting': 'gbdt', 'objective': 'regression', 'metric': 'rmse', 'verbose': -1, 'device': 'cpu'} | IC max: 68.61% | Daily IC max: 69.42% | Time: 16.95s\n",
      "Params: {'learning_rate': 0.01, 'num_leaves': 32, 'feature_fraction': 0.6, 'min_data_in_leaf': 500, 'boosting': 'gbdt', 'objective': 'regression', 'metric': 'rmse', 'verbose': -1, 'device': 'cpu'} | IC max: 68.20% | Daily IC max: 69.42% | Time: 26.28s\n",
      "Params: {'learning_rate': 0.01, 'num_leaves': 128, 'feature_fraction': 0.95, 'min_data_in_leaf': 500, 'boosting': 'gbdt', 'objective': 'regression', 'metric': 'rmse', 'verbose': -1, 'device': 'cpu'} | IC max: 68.37% | Daily IC max: 69.52% | Time: 61.21s\n",
      "Params: {'learning_rate': 0.1, 'num_leaves': 128, 'feature_fraction': 0.6, 'min_data_in_leaf': 1000, 'boosting': 'gbdt', 'objective': 'regression', 'metric': 'rmse', 'verbose': -1, 'device': 'cpu'} | IC max: 68.11% | Daily IC max: 69.29% | Time: 46.40s\n"
     ]
    },
    {
     "name": "stderr",
     "output_type": "stream",
     "text": [
      "c:\\Users\\flyin\\.conda\\envs\\py311\\lib\\site-packages\\tables\\path.py:137: NaturalNameWarning: object name is not a valid Python identifier: '5'; it does not match the pattern ``^[a-zA-Z_][a-zA-Z0-9_]*$``; you will not be able to use natural naming to access this object; using ``getattr()`` will still work, though\n",
      "  check_attribute_name(name)\n",
      "c:\\Users\\flyin\\.conda\\envs\\py311\\lib\\site-packages\\tables\\path.py:137: NaturalNameWarning: object name is not a valid Python identifier: '252'; it does not match the pattern ``^[a-zA-Z_][a-zA-Z0-9_]*$``; you will not be able to use natural naming to access this object; using ``getattr()`` will still work, though\n",
      "  check_attribute_name(name)\n",
      "c:\\Users\\flyin\\.conda\\envs\\py311\\lib\\site-packages\\tables\\path.py:137: NaturalNameWarning: object name is not a valid Python identifier: '63'; it does not match the pattern ``^[a-zA-Z_][a-zA-Z0-9_]*$``; you will not be able to use natural naming to access this object; using ``getattr()`` will still work, though\n",
      "  check_attribute_name(name)\n",
      "c:\\Users\\flyin\\.conda\\envs\\py311\\lib\\site-packages\\tables\\path.py:137: NaturalNameWarning: object name is not a valid Python identifier: '0.1'; it does not match the pattern ``^[a-zA-Z_][a-zA-Z0-9_]*$``; you will not be able to use natural naming to access this object; using ``getattr()`` will still work, though\n",
      "  check_attribute_name(name)\n",
      "c:\\Users\\flyin\\.conda\\envs\\py311\\lib\\site-packages\\tables\\path.py:137: NaturalNameWarning: object name is not a valid Python identifier: '128'; it does not match the pattern ``^[a-zA-Z_][a-zA-Z0-9_]*$``; you will not be able to use natural naming to access this object; using ``getattr()`` will still work, though\n",
      "  check_attribute_name(name)\n",
      "c:\\Users\\flyin\\.conda\\envs\\py311\\lib\\site-packages\\tables\\path.py:137: NaturalNameWarning: object name is not a valid Python identifier: '0.6'; it does not match the pattern ``^[a-zA-Z_][a-zA-Z0-9_]*$``; you will not be able to use natural naming to access this object; using ``getattr()`` will still work, though\n",
      "  check_attribute_name(name)\n",
      "c:\\Users\\flyin\\.conda\\envs\\py311\\lib\\site-packages\\tables\\path.py:137: NaturalNameWarning: object name is not a valid Python identifier: '1000'; it does not match the pattern ``^[a-zA-Z_][a-zA-Z0-9_]*$``; you will not be able to use natural naming to access this object; using ``getattr()`` will still work, though\n",
      "  check_attribute_name(name)\n",
      "c:\\Users\\flyin\\.conda\\envs\\py311\\lib\\site-packages\\tables\\leaf.py:409: RuntimeWarning: overflow encountered in scalar multiply\n",
      "  expected_mb = (expectedrows * rowsize) // MB\n",
      "c:\\Users\\flyin\\.conda\\envs\\py311\\lib\\site-packages\\tables\\path.py:137: NaturalNameWarning: object name is not a valid Python identifier: '5'; it does not match the pattern ``^[a-zA-Z_][a-zA-Z0-9_]*$``; you will not be able to use natural naming to access this object; using ``getattr()`` will still work, though\n",
      "  check_attribute_name(name)\n",
      "c:\\Users\\flyin\\.conda\\envs\\py311\\lib\\site-packages\\tables\\path.py:137: NaturalNameWarning: object name is not a valid Python identifier: '252'; it does not match the pattern ``^[a-zA-Z_][a-zA-Z0-9_]*$``; you will not be able to use natural naming to access this object; using ``getattr()`` will still work, though\n",
      "  check_attribute_name(name)\n",
      "c:\\Users\\flyin\\.conda\\envs\\py311\\lib\\site-packages\\tables\\path.py:137: NaturalNameWarning: object name is not a valid Python identifier: '63'; it does not match the pattern ``^[a-zA-Z_][a-zA-Z0-9_]*$``; you will not be able to use natural naming to access this object; using ``getattr()`` will still work, though\n",
      "  check_attribute_name(name)\n",
      "c:\\Users\\flyin\\.conda\\envs\\py311\\lib\\site-packages\\tables\\path.py:137: NaturalNameWarning: object name is not a valid Python identifier: '0.1'; it does not match the pattern ``^[a-zA-Z_][a-zA-Z0-9_]*$``; you will not be able to use natural naming to access this object; using ``getattr()`` will still work, though\n",
      "  check_attribute_name(name)\n",
      "c:\\Users\\flyin\\.conda\\envs\\py311\\lib\\site-packages\\tables\\path.py:137: NaturalNameWarning: object name is not a valid Python identifier: '128'; it does not match the pattern ``^[a-zA-Z_][a-zA-Z0-9_]*$``; you will not be able to use natural naming to access this object; using ``getattr()`` will still work, though\n",
      "  check_attribute_name(name)\n",
      "c:\\Users\\flyin\\.conda\\envs\\py311\\lib\\site-packages\\tables\\path.py:137: NaturalNameWarning: object name is not a valid Python identifier: '0.6'; it does not match the pattern ``^[a-zA-Z_][a-zA-Z0-9_]*$``; you will not be able to use natural naming to access this object; using ``getattr()`` will still work, though\n",
      "  check_attribute_name(name)\n",
      "c:\\Users\\flyin\\.conda\\envs\\py311\\lib\\site-packages\\tables\\path.py:137: NaturalNameWarning: object name is not a valid Python identifier: '1000'; it does not match the pattern ``^[a-zA-Z_][a-zA-Z0-9_]*$``; you will not be able to use natural naming to access this object; using ``getattr()`` will still work, though\n",
      "  check_attribute_name(name)\n",
      "c:\\Users\\flyin\\.conda\\envs\\py311\\lib\\site-packages\\tables\\path.py:137: NaturalNameWarning: object name is not a valid Python identifier: '5'; it does not match the pattern ``^[a-zA-Z_][a-zA-Z0-9_]*$``; you will not be able to use natural naming to access this object; using ``getattr()`` will still work, though\n",
      "  check_attribute_name(name)\n",
      "c:\\Users\\flyin\\.conda\\envs\\py311\\lib\\site-packages\\tables\\path.py:137: NaturalNameWarning: object name is not a valid Python identifier: '252'; it does not match the pattern ``^[a-zA-Z_][a-zA-Z0-9_]*$``; you will not be able to use natural naming to access this object; using ``getattr()`` will still work, though\n",
      "  check_attribute_name(name)\n",
      "c:\\Users\\flyin\\.conda\\envs\\py311\\lib\\site-packages\\tables\\path.py:137: NaturalNameWarning: object name is not a valid Python identifier: '63'; it does not match the pattern ``^[a-zA-Z_][a-zA-Z0-9_]*$``; you will not be able to use natural naming to access this object; using ``getattr()`` will still work, though\n",
      "  check_attribute_name(name)\n",
      "c:\\Users\\flyin\\.conda\\envs\\py311\\lib\\site-packages\\tables\\path.py:137: NaturalNameWarning: object name is not a valid Python identifier: '0.1'; it does not match the pattern ``^[a-zA-Z_][a-zA-Z0-9_]*$``; you will not be able to use natural naming to access this object; using ``getattr()`` will still work, though\n",
      "  check_attribute_name(name)\n",
      "c:\\Users\\flyin\\.conda\\envs\\py311\\lib\\site-packages\\tables\\path.py:137: NaturalNameWarning: object name is not a valid Python identifier: '128'; it does not match the pattern ``^[a-zA-Z_][a-zA-Z0-9_]*$``; you will not be able to use natural naming to access this object; using ``getattr()`` will still work, though\n",
      "  check_attribute_name(name)\n",
      "c:\\Users\\flyin\\.conda\\envs\\py311\\lib\\site-packages\\tables\\path.py:137: NaturalNameWarning: object name is not a valid Python identifier: '0.6'; it does not match the pattern ``^[a-zA-Z_][a-zA-Z0-9_]*$``; you will not be able to use natural naming to access this object; using ``getattr()`` will still work, though\n",
      "  check_attribute_name(name)\n",
      "c:\\Users\\flyin\\.conda\\envs\\py311\\lib\\site-packages\\tables\\path.py:137: NaturalNameWarning: object name is not a valid Python identifier: '1000'; it does not match the pattern ``^[a-zA-Z_][a-zA-Z0-9_]*$``; you will not be able to use natural naming to access this object; using ``getattr()`` will still work, though\n",
      "  check_attribute_name(name)\n"
     ]
    },
    {
     "name": "stdout",
     "output_type": "stream",
     "text": [
      "Lookahead:  1 | Train: 1134 | Test: 63 | Params:  54 | Train configs: 6\n",
      "Params: {'learning_rate': 0.1, 'num_leaves': 128, 'feature_fraction': 0.95, 'min_data_in_leaf': 500, 'boosting': 'gbdt', 'objective': 'regression', 'metric': 'rmse', 'verbose': -1, 'device': 'cpu'} | IC max: 40.05% | Daily IC max: 39.99% | Time: 91.25s\n",
      "Params: {'learning_rate': 0.01, 'num_leaves': 8, 'feature_fraction': 0.95, 'min_data_in_leaf': 250, 'boosting': 'gbdt', 'objective': 'regression', 'metric': 'rmse', 'verbose': -1, 'device': 'cpu'} | IC max: 40.55% | Daily IC max: 40.62% | Time: 38.68s\n",
      "Params: {'learning_rate': 0.1, 'num_leaves': 128, 'feature_fraction': 0.95, 'min_data_in_leaf': 1000, 'boosting': 'gbdt', 'objective': 'regression', 'metric': 'rmse', 'verbose': -1, 'device': 'cpu'} | IC max: 40.04% | Daily IC max: 39.97% | Time: 109.92s\n",
      "Params: {'learning_rate': 0.01, 'num_leaves': 32, 'feature_fraction': 0.6, 'min_data_in_leaf': 1000, 'boosting': 'gbdt', 'objective': 'regression', 'metric': 'rmse', 'verbose': -1, 'device': 'cpu'} | IC max: 39.84% | Daily IC max: 40.12% | Time: 66.10s\n",
      "Params: {'learning_rate': 0.01, 'num_leaves': 8, 'feature_fraction': 0.6, 'min_data_in_leaf': 500, 'boosting': 'gbdt', 'objective': 'regression', 'metric': 'rmse', 'verbose': -1, 'device': 'cpu'} | IC max: 39.77% | Daily IC max: 39.99% | Time: 40.71s\n",
      "Params: {'learning_rate': 0.3, 'num_leaves': 128, 'feature_fraction': 0.6, 'min_data_in_leaf': 1000, 'boosting': 'gbdt', 'objective': 'regression', 'metric': 'rmse', 'verbose': -1, 'device': 'cpu'} | IC max: 38.02% | Daily IC max: 37.66% | Time: 106.59s\n",
      "Params: {'learning_rate': 0.01, 'num_leaves': 128, 'feature_fraction': 0.95, 'min_data_in_leaf': 500, 'boosting': 'gbdt', 'objective': 'regression', 'metric': 'rmse', 'verbose': -1, 'device': 'cpu'} | IC max: 40.14% | Daily IC max: 40.09% | Time: 108.81s\n",
      "Params: {'learning_rate': 0.3, 'num_leaves': 4, 'feature_fraction': 0.3, 'min_data_in_leaf': 250, 'boosting': 'gbdt', 'objective': 'regression', 'metric': 'rmse', 'verbose': -1, 'device': 'cpu'} | IC max: 39.27% | Daily IC max: 39.66% | Time: 24.71s\n",
      "Params: {'learning_rate': 0.01, 'num_leaves': 128, 'feature_fraction': 0.6, 'min_data_in_leaf': 1000, 'boosting': 'gbdt', 'objective': 'regression', 'metric': 'rmse', 'verbose': -1, 'device': 'cpu'} | IC max: 39.95% | Daily IC max: 39.91% | Time: 112.63s\n",
      "Params: {'learning_rate': 0.3, 'num_leaves': 128, 'feature_fraction': 0.6, 'min_data_in_leaf': 500, 'boosting': 'gbdt', 'objective': 'regression', 'metric': 'rmse', 'verbose': -1, 'device': 'cpu'} | IC max: 38.29% | Daily IC max: 37.62% | Time: 80.46s\n",
      "Params: {'learning_rate': 0.3, 'num_leaves': 8, 'feature_fraction': 0.3, 'min_data_in_leaf': 250, 'boosting': 'gbdt', 'objective': 'regression', 'metric': 'rmse', 'verbose': -1, 'device': 'cpu'} | IC max: 38.76% | Daily IC max: 39.33% | Time: 27.02s\n",
      "Params: {'learning_rate': 0.3, 'num_leaves': 32, 'feature_fraction': 0.6, 'min_data_in_leaf': 500, 'boosting': 'gbdt', 'objective': 'regression', 'metric': 'rmse', 'verbose': -1, 'device': 'cpu'} | IC max: 38.43% | Daily IC max: 39.08% | Time: 45.19s\n",
      "Params: {'learning_rate': 0.3, 'num_leaves': 4, 'feature_fraction': 0.6, 'min_data_in_leaf': 500, 'boosting': 'gbdt', 'objective': 'regression', 'metric': 'rmse', 'verbose': -1, 'device': 'cpu'} | IC max: 39.28% | Daily IC max: 39.74% | Time: 31.04s\n",
      "Params: {'learning_rate': 0.1, 'num_leaves': 8, 'feature_fraction': 0.3, 'min_data_in_leaf': 1000, 'boosting': 'gbdt', 'objective': 'regression', 'metric': 'rmse', 'verbose': -1, 'device': 'cpu'} | IC max: 38.48% | Daily IC max: 39.95% | Time: 28.73s\n",
      "Params: {'learning_rate': 0.01, 'num_leaves': 128, 'feature_fraction': 0.3, 'min_data_in_leaf': 1000, 'boosting': 'gbdt', 'objective': 'regression', 'metric': 'rmse', 'verbose': -1, 'device': 'cpu'} | IC max: 39.02% | Daily IC max: 39.41% | Time: 84.18s\n",
      "Params: {'learning_rate': 0.1, 'num_leaves': 8, 'feature_fraction': 0.3, 'min_data_in_leaf': 500, 'boosting': 'gbdt', 'objective': 'regression', 'metric': 'rmse', 'verbose': -1, 'device': 'cpu'} | IC max: 39.47% | Daily IC max: 40.02% | Time: 29.80s\n",
      "Params: {'learning_rate': 0.01, 'num_leaves': 8, 'feature_fraction': 0.3, 'min_data_in_leaf': 1000, 'boosting': 'gbdt', 'objective': 'regression', 'metric': 'rmse', 'verbose': -1, 'device': 'cpu'} | IC max: 38.70% | Daily IC max: 39.11% | Time: 31.11s\n",
      "Params: {'learning_rate': 0.1, 'num_leaves': 128, 'feature_fraction': 0.6, 'min_data_in_leaf': 500, 'boosting': 'gbdt', 'objective': 'regression', 'metric': 'rmse', 'verbose': -1, 'device': 'cpu'} | IC max: 39.49% | Daily IC max: 39.26% | Time: 85.99s\n",
      "Params: {'learning_rate': 0.3, 'num_leaves': 8, 'feature_fraction': 0.3, 'min_data_in_leaf': 1000, 'boosting': 'gbdt', 'objective': 'regression', 'metric': 'rmse', 'verbose': -1, 'device': 'cpu'} | IC max: 38.07% | Daily IC max: 39.62% | Time: 28.27s\n",
      "Params: {'learning_rate': 0.1, 'num_leaves': 8, 'feature_fraction': 0.3, 'min_data_in_leaf': 250, 'boosting': 'gbdt', 'objective': 'regression', 'metric': 'rmse', 'verbose': -1, 'device': 'cpu'} | IC max: 39.01% | Daily IC max: 40.01% | Time: 27.69s\n",
      "Params: {'learning_rate': 0.3, 'num_leaves': 32, 'feature_fraction': 0.95, 'min_data_in_leaf': 250, 'boosting': 'gbdt', 'objective': 'regression', 'metric': 'rmse', 'verbose': -1, 'device': 'cpu'} | IC max: 39.81% | Daily IC max: 39.94% | Time: 46.19s\n",
      "Params: {'learning_rate': 0.01, 'num_leaves': 4, 'feature_fraction': 0.3, 'min_data_in_leaf': 250, 'boosting': 'gbdt', 'objective': 'regression', 'metric': 'rmse', 'verbose': -1, 'device': 'cpu'} | IC max: 38.83% | Daily IC max: 38.77% | Time: 25.22s\n",
      "Params: {'learning_rate': 0.1, 'num_leaves': 128, 'feature_fraction': 0.3, 'min_data_in_leaf': 1000, 'boosting': 'gbdt', 'objective': 'regression', 'metric': 'rmse', 'verbose': -1, 'device': 'cpu'} | IC max: 38.59% | Daily IC max: 39.04% | Time: 79.40s\n",
      "Params: {'learning_rate': 0.01, 'num_leaves': 4, 'feature_fraction': 0.3, 'min_data_in_leaf': 500, 'boosting': 'gbdt', 'objective': 'regression', 'metric': 'rmse', 'verbose': -1, 'device': 'cpu'} | IC max: 38.83% | Daily IC max: 38.76% | Time: 25.80s\n",
      "Params: {'learning_rate': 0.01, 'num_leaves': 32, 'feature_fraction': 0.95, 'min_data_in_leaf': 500, 'boosting': 'gbdt', 'objective': 'regression', 'metric': 'rmse', 'verbose': -1, 'device': 'cpu'} | IC max: 40.44% | Daily IC max: 40.53% | Time: 63.40s\n",
      "Params: {'learning_rate': 0.1, 'num_leaves': 4, 'feature_fraction': 0.6, 'min_data_in_leaf': 500, 'boosting': 'gbdt', 'objective': 'regression', 'metric': 'rmse', 'verbose': -1, 'device': 'cpu'} | IC max: 39.72% | Daily IC max: 40.26% | Time: 31.62s\n",
      "Params: {'learning_rate': 0.1, 'num_leaves': 8, 'feature_fraction': 0.6, 'min_data_in_leaf': 250, 'boosting': 'gbdt', 'objective': 'regression', 'metric': 'rmse', 'verbose': -1, 'device': 'cpu'} | IC max: 39.55% | Daily IC max: 40.22% | Time: 34.91s\n",
      "Params: {'learning_rate': 0.1, 'num_leaves': 32, 'feature_fraction': 0.6, 'min_data_in_leaf': 1000, 'boosting': 'gbdt', 'objective': 'regression', 'metric': 'rmse', 'verbose': -1, 'device': 'cpu'} | IC max: 39.49% | Daily IC max: 39.82% | Time: 51.11s\n",
      "Params: {'learning_rate': 0.1, 'num_leaves': 32, 'feature_fraction': 0.95, 'min_data_in_leaf': 1000, 'boosting': 'gbdt', 'objective': 'regression', 'metric': 'rmse', 'verbose': -1, 'device': 'cpu'} | IC max: 40.35% | Daily IC max: 40.53% | Time: 52.95s\n",
      "Params: {'learning_rate': 0.1, 'num_leaves': 4, 'feature_fraction': 0.95, 'min_data_in_leaf': 1000, 'boosting': 'gbdt', 'objective': 'regression', 'metric': 'rmse', 'verbose': -1, 'device': 'cpu'} | IC max: 40.44% | Daily IC max: 40.65% | Time: 32.40s\n",
      "Params: {'learning_rate': 0.3, 'num_leaves': 4, 'feature_fraction': 0.95, 'min_data_in_leaf': 250, 'boosting': 'gbdt', 'objective': 'regression', 'metric': 'rmse', 'verbose': -1, 'device': 'cpu'} | IC max: 40.09% | Daily IC max: 40.45% | Time: 30.80s\n",
      "Params: {'learning_rate': 0.3, 'num_leaves': 4, 'feature_fraction': 0.95, 'min_data_in_leaf': 500, 'boosting': 'gbdt', 'objective': 'regression', 'metric': 'rmse', 'verbose': -1, 'device': 'cpu'} | IC max: 40.10% | Daily IC max: 40.45% | Time: 32.44s\n",
      "Params: {'learning_rate': 0.01, 'num_leaves': 128, 'feature_fraction': 0.95, 'min_data_in_leaf': 250, 'boosting': 'gbdt', 'objective': 'regression', 'metric': 'rmse', 'verbose': -1, 'device': 'cpu'} | IC max: 40.08% | Daily IC max: 40.03% | Time: 105.73s\n",
      "Params: {'learning_rate': 0.1, 'num_leaves': 8, 'feature_fraction': 0.6, 'min_data_in_leaf': 1000, 'boosting': 'gbdt', 'objective': 'regression', 'metric': 'rmse', 'verbose': -1, 'device': 'cpu'} | IC max: 39.16% | Daily IC max: 40.15% | Time: 35.25s\n",
      "Params: {'learning_rate': 0.01, 'num_leaves': 8, 'feature_fraction': 0.6, 'min_data_in_leaf': 250, 'boosting': 'gbdt', 'objective': 'regression', 'metric': 'rmse', 'verbose': -1, 'device': 'cpu'} | IC max: 39.76% | Daily IC max: 39.99% | Time: 39.73s\n",
      "Params: {'learning_rate': 0.3, 'num_leaves': 32, 'feature_fraction': 0.6, 'min_data_in_leaf': 1000, 'boosting': 'gbdt', 'objective': 'regression', 'metric': 'rmse', 'verbose': -1, 'device': 'cpu'} | IC max: 38.82% | Daily IC max: 39.07% | Time: 49.01s\n",
      "Params: {'learning_rate': 0.3, 'num_leaves': 128, 'feature_fraction': 0.95, 'min_data_in_leaf': 1000, 'boosting': 'gbdt', 'objective': 'regression', 'metric': 'rmse', 'verbose': -1, 'device': 'cpu'} | IC max: 39.11% | Daily IC max: 38.85% | Time: 99.03s\n",
      "Params: {'learning_rate': 0.1, 'num_leaves': 4, 'feature_fraction': 0.95, 'min_data_in_leaf': 500, 'boosting': 'gbdt', 'objective': 'regression', 'metric': 'rmse', 'verbose': -1, 'device': 'cpu'} | IC max: 40.44% | Daily IC max: 40.65% | Time: 30.80s\n",
      "Params: {'learning_rate': 0.3, 'num_leaves': 8, 'feature_fraction': 0.6, 'min_data_in_leaf': 250, 'boosting': 'gbdt', 'objective': 'regression', 'metric': 'rmse', 'verbose': -1, 'device': 'cpu'} | IC max: 39.31% | Daily IC max: 39.71% | Time: 33.76s\n",
      "Params: {'learning_rate': 0.1, 'num_leaves': 8, 'feature_fraction': 0.95, 'min_data_in_leaf': 500, 'boosting': 'gbdt', 'objective': 'regression', 'metric': 'rmse', 'verbose': -1, 'device': 'cpu'} | IC max: 40.51% | Daily IC max: 40.65% | Time: 37.36s\n",
      "Params: {'learning_rate': 0.1, 'num_leaves': 128, 'feature_fraction': 0.3, 'min_data_in_leaf': 500, 'boosting': 'gbdt', 'objective': 'regression', 'metric': 'rmse', 'verbose': -1, 'device': 'cpu'} | IC max: 38.31% | Daily IC max: 38.92% | Time: 73.77s\n",
      "Params: {'learning_rate': 0.1, 'num_leaves': 8, 'feature_fraction': 0.95, 'min_data_in_leaf': 1000, 'boosting': 'gbdt', 'objective': 'regression', 'metric': 'rmse', 'verbose': -1, 'device': 'cpu'} | IC max: 40.51% | Daily IC max: 40.65% | Time: 37.51s\n",
      "Params: {'learning_rate': 0.3, 'num_leaves': 32, 'feature_fraction': 0.95, 'min_data_in_leaf': 1000, 'boosting': 'gbdt', 'objective': 'regression', 'metric': 'rmse', 'verbose': -1, 'device': 'cpu'} | IC max: 39.96% | Daily IC max: 40.04% | Time: 51.55s\n",
      "Params: {'learning_rate': 0.01, 'num_leaves': 128, 'feature_fraction': 0.3, 'min_data_in_leaf': 500, 'boosting': 'gbdt', 'objective': 'regression', 'metric': 'rmse', 'verbose': -1, 'device': 'cpu'} | IC max: 39.15% | Daily IC max: 39.38% | Time: 88.71s\n",
      "Params: {'learning_rate': 0.01, 'num_leaves': 32, 'feature_fraction': 0.3, 'min_data_in_leaf': 500, 'boosting': 'gbdt', 'objective': 'regression', 'metric': 'rmse', 'verbose': -1, 'device': 'cpu'} | IC max: 39.19% | Daily IC max: 39.43% | Time: 51.92s\n",
      "Params: {'learning_rate': 0.3, 'num_leaves': 32, 'feature_fraction': 0.3, 'min_data_in_leaf': 1000, 'boosting': 'gbdt', 'objective': 'regression', 'metric': 'rmse', 'verbose': -1, 'device': 'cpu'} | IC max: 38.25% | Daily IC max: 38.60% | Time: 45.42s\n",
      "Params: {'learning_rate': 0.3, 'num_leaves': 4, 'feature_fraction': 0.3, 'min_data_in_leaf': 1000, 'boosting': 'gbdt', 'objective': 'regression', 'metric': 'rmse', 'verbose': -1, 'device': 'cpu'} | IC max: 38.14% | Daily IC max: 39.71% | Time: 28.04s\n",
      "Params: {'learning_rate': 0.01, 'num_leaves': 8, 'feature_fraction': 0.95, 'min_data_in_leaf': 1000, 'boosting': 'gbdt', 'objective': 'regression', 'metric': 'rmse', 'verbose': -1, 'device': 'cpu'} | IC max: 40.53% | Daily IC max: 40.62% | Time: 46.58s\n",
      "Params: {'learning_rate': 0.3, 'num_leaves': 128, 'feature_fraction': 0.95, 'min_data_in_leaf': 250, 'boosting': 'gbdt', 'objective': 'regression', 'metric': 'rmse', 'verbose': -1, 'device': 'cpu'} | IC max: 38.78% | Daily IC max: 38.79% | Time: 83.11s\n",
      "Params: {'learning_rate': 0.01, 'num_leaves': 4, 'feature_fraction': 0.3, 'min_data_in_leaf': 1000, 'boosting': 'gbdt', 'objective': 'regression', 'metric': 'rmse', 'verbose': -1, 'device': 'cpu'} | IC max: 38.62% | Daily IC max: 38.75% | Time: 26.07s\n",
      "Params: {'learning_rate': 0.01, 'num_leaves': 32, 'feature_fraction': 0.6, 'min_data_in_leaf': 500, 'boosting': 'gbdt', 'objective': 'regression', 'metric': 'rmse', 'verbose': -1, 'device': 'cpu'} | IC max: 39.86% | Daily IC max: 40.16% | Time: 60.58s\n",
      "Params: {'learning_rate': 0.3, 'num_leaves': 32, 'feature_fraction': 0.95, 'min_data_in_leaf': 500, 'boosting': 'gbdt', 'objective': 'regression', 'metric': 'rmse', 'verbose': -1, 'device': 'cpu'} | IC max: 39.76% | Daily IC max: 39.99% | Time: 49.33s\n",
      "Params: {'learning_rate': 0.01, 'num_leaves': 8, 'feature_fraction': 0.3, 'min_data_in_leaf': 250, 'boosting': 'gbdt', 'objective': 'regression', 'metric': 'rmse', 'verbose': -1, 'device': 'cpu'} | IC max: 38.97% | Daily IC max: 39.12% | Time: 29.48s\n",
      "Params: {'learning_rate': 0.1, 'num_leaves': 128, 'feature_fraction': 0.6, 'min_data_in_leaf': 250, 'boosting': 'gbdt', 'objective': 'regression', 'metric': 'rmse', 'verbose': -1, 'device': 'cpu'} | IC max: 39.54% | Daily IC max: 39.33% | Time: 81.09s\n"
     ]
    },
    {
     "name": "stderr",
     "output_type": "stream",
     "text": [
      "c:\\Users\\flyin\\.conda\\envs\\py311\\lib\\site-packages\\tables\\path.py:137: NaturalNameWarning: object name is not a valid Python identifier: '1'; it does not match the pattern ``^[a-zA-Z_][a-zA-Z0-9_]*$``; you will not be able to use natural naming to access this object; using ``getattr()`` will still work, though\n",
      "  check_attribute_name(name)\n",
      "c:\\Users\\flyin\\.conda\\envs\\py311\\lib\\site-packages\\tables\\path.py:137: NaturalNameWarning: object name is not a valid Python identifier: '1134'; it does not match the pattern ``^[a-zA-Z_][a-zA-Z0-9_]*$``; you will not be able to use natural naming to access this object; using ``getattr()`` will still work, though\n",
      "  check_attribute_name(name)\n",
      "c:\\Users\\flyin\\.conda\\envs\\py311\\lib\\site-packages\\tables\\path.py:137: NaturalNameWarning: object name is not a valid Python identifier: '63'; it does not match the pattern ``^[a-zA-Z_][a-zA-Z0-9_]*$``; you will not be able to use natural naming to access this object; using ``getattr()`` will still work, though\n",
      "  check_attribute_name(name)\n",
      "c:\\Users\\flyin\\.conda\\envs\\py311\\lib\\site-packages\\tables\\path.py:137: NaturalNameWarning: object name is not a valid Python identifier: '0.1'; it does not match the pattern ``^[a-zA-Z_][a-zA-Z0-9_]*$``; you will not be able to use natural naming to access this object; using ``getattr()`` will still work, though\n",
      "  check_attribute_name(name)\n",
      "c:\\Users\\flyin\\.conda\\envs\\py311\\lib\\site-packages\\tables\\path.py:137: NaturalNameWarning: object name is not a valid Python identifier: '128'; it does not match the pattern ``^[a-zA-Z_][a-zA-Z0-9_]*$``; you will not be able to use natural naming to access this object; using ``getattr()`` will still work, though\n",
      "  check_attribute_name(name)\n",
      "c:\\Users\\flyin\\.conda\\envs\\py311\\lib\\site-packages\\tables\\path.py:137: NaturalNameWarning: object name is not a valid Python identifier: '0.6'; it does not match the pattern ``^[a-zA-Z_][a-zA-Z0-9_]*$``; you will not be able to use natural naming to access this object; using ``getattr()`` will still work, though\n",
      "  check_attribute_name(name)\n",
      "c:\\Users\\flyin\\.conda\\envs\\py311\\lib\\site-packages\\tables\\path.py:137: NaturalNameWarning: object name is not a valid Python identifier: '250'; it does not match the pattern ``^[a-zA-Z_][a-zA-Z0-9_]*$``; you will not be able to use natural naming to access this object; using ``getattr()`` will still work, though\n",
      "  check_attribute_name(name)\n",
      "c:\\Users\\flyin\\.conda\\envs\\py311\\lib\\site-packages\\tables\\leaf.py:409: RuntimeWarning: overflow encountered in scalar multiply\n",
      "  expected_mb = (expectedrows * rowsize) // MB\n",
      "c:\\Users\\flyin\\.conda\\envs\\py311\\lib\\site-packages\\tables\\path.py:137: NaturalNameWarning: object name is not a valid Python identifier: '1'; it does not match the pattern ``^[a-zA-Z_][a-zA-Z0-9_]*$``; you will not be able to use natural naming to access this object; using ``getattr()`` will still work, though\n",
      "  check_attribute_name(name)\n",
      "c:\\Users\\flyin\\.conda\\envs\\py311\\lib\\site-packages\\tables\\path.py:137: NaturalNameWarning: object name is not a valid Python identifier: '1134'; it does not match the pattern ``^[a-zA-Z_][a-zA-Z0-9_]*$``; you will not be able to use natural naming to access this object; using ``getattr()`` will still work, though\n",
      "  check_attribute_name(name)\n",
      "c:\\Users\\flyin\\.conda\\envs\\py311\\lib\\site-packages\\tables\\path.py:137: NaturalNameWarning: object name is not a valid Python identifier: '63'; it does not match the pattern ``^[a-zA-Z_][a-zA-Z0-9_]*$``; you will not be able to use natural naming to access this object; using ``getattr()`` will still work, though\n",
      "  check_attribute_name(name)\n",
      "c:\\Users\\flyin\\.conda\\envs\\py311\\lib\\site-packages\\tables\\path.py:137: NaturalNameWarning: object name is not a valid Python identifier: '0.1'; it does not match the pattern ``^[a-zA-Z_][a-zA-Z0-9_]*$``; you will not be able to use natural naming to access this object; using ``getattr()`` will still work, though\n",
      "  check_attribute_name(name)\n",
      "c:\\Users\\flyin\\.conda\\envs\\py311\\lib\\site-packages\\tables\\path.py:137: NaturalNameWarning: object name is not a valid Python identifier: '128'; it does not match the pattern ``^[a-zA-Z_][a-zA-Z0-9_]*$``; you will not be able to use natural naming to access this object; using ``getattr()`` will still work, though\n",
      "  check_attribute_name(name)\n",
      "c:\\Users\\flyin\\.conda\\envs\\py311\\lib\\site-packages\\tables\\path.py:137: NaturalNameWarning: object name is not a valid Python identifier: '0.6'; it does not match the pattern ``^[a-zA-Z_][a-zA-Z0-9_]*$``; you will not be able to use natural naming to access this object; using ``getattr()`` will still work, though\n",
      "  check_attribute_name(name)\n",
      "c:\\Users\\flyin\\.conda\\envs\\py311\\lib\\site-packages\\tables\\path.py:137: NaturalNameWarning: object name is not a valid Python identifier: '250'; it does not match the pattern ``^[a-zA-Z_][a-zA-Z0-9_]*$``; you will not be able to use natural naming to access this object; using ``getattr()`` will still work, though\n",
      "  check_attribute_name(name)\n",
      "c:\\Users\\flyin\\.conda\\envs\\py311\\lib\\site-packages\\tables\\path.py:137: NaturalNameWarning: object name is not a valid Python identifier: '1'; it does not match the pattern ``^[a-zA-Z_][a-zA-Z0-9_]*$``; you will not be able to use natural naming to access this object; using ``getattr()`` will still work, though\n",
      "  check_attribute_name(name)\n",
      "c:\\Users\\flyin\\.conda\\envs\\py311\\lib\\site-packages\\tables\\path.py:137: NaturalNameWarning: object name is not a valid Python identifier: '1134'; it does not match the pattern ``^[a-zA-Z_][a-zA-Z0-9_]*$``; you will not be able to use natural naming to access this object; using ``getattr()`` will still work, though\n",
      "  check_attribute_name(name)\n",
      "c:\\Users\\flyin\\.conda\\envs\\py311\\lib\\site-packages\\tables\\path.py:137: NaturalNameWarning: object name is not a valid Python identifier: '63'; it does not match the pattern ``^[a-zA-Z_][a-zA-Z0-9_]*$``; you will not be able to use natural naming to access this object; using ``getattr()`` will still work, though\n",
      "  check_attribute_name(name)\n",
      "c:\\Users\\flyin\\.conda\\envs\\py311\\lib\\site-packages\\tables\\path.py:137: NaturalNameWarning: object name is not a valid Python identifier: '0.1'; it does not match the pattern ``^[a-zA-Z_][a-zA-Z0-9_]*$``; you will not be able to use natural naming to access this object; using ``getattr()`` will still work, though\n",
      "  check_attribute_name(name)\n",
      "c:\\Users\\flyin\\.conda\\envs\\py311\\lib\\site-packages\\tables\\path.py:137: NaturalNameWarning: object name is not a valid Python identifier: '128'; it does not match the pattern ``^[a-zA-Z_][a-zA-Z0-9_]*$``; you will not be able to use natural naming to access this object; using ``getattr()`` will still work, though\n",
      "  check_attribute_name(name)\n",
      "c:\\Users\\flyin\\.conda\\envs\\py311\\lib\\site-packages\\tables\\path.py:137: NaturalNameWarning: object name is not a valid Python identifier: '0.6'; it does not match the pattern ``^[a-zA-Z_][a-zA-Z0-9_]*$``; you will not be able to use natural naming to access this object; using ``getattr()`` will still work, though\n",
      "  check_attribute_name(name)\n",
      "c:\\Users\\flyin\\.conda\\envs\\py311\\lib\\site-packages\\tables\\path.py:137: NaturalNameWarning: object name is not a valid Python identifier: '250'; it does not match the pattern ``^[a-zA-Z_][a-zA-Z0-9_]*$``; you will not be able to use natural naming to access this object; using ``getattr()`` will still work, though\n",
      "  check_attribute_name(name)\n"
     ]
    },
    {
     "name": "stdout",
     "output_type": "stream",
     "text": [
      "Lookahead:  1 | Train: 252 | Test: 63 | Params:  54 | Train configs: 6\n",
      "Params: {'learning_rate': 0.01, 'num_leaves': 4, 'feature_fraction': 0.3, 'min_data_in_leaf': 500, 'boosting': 'gbdt', 'objective': 'regression', 'metric': 'rmse', 'verbose': -1, 'device': 'cpu'} | IC max: 38.60% | Daily IC max: 38.79% | Time: 14.70s\n",
      "Params: {'learning_rate': 0.1, 'num_leaves': 32, 'feature_fraction': 0.95, 'min_data_in_leaf': 1000, 'boosting': 'gbdt', 'objective': 'regression', 'metric': 'rmse', 'verbose': -1, 'device': 'cpu'} | IC max: 39.12% | Daily IC max: 40.09% | Time: 31.47s\n",
      "Params: {'learning_rate': 0.1, 'num_leaves': 32, 'feature_fraction': 0.6, 'min_data_in_leaf': 1000, 'boosting': 'gbdt', 'objective': 'regression', 'metric': 'rmse', 'verbose': -1, 'device': 'cpu'} | IC max: 38.56% | Daily IC max: 38.99% | Time: 27.59s\n",
      "Params: {'learning_rate': 0.01, 'num_leaves': 32, 'feature_fraction': 0.95, 'min_data_in_leaf': 500, 'boosting': 'gbdt', 'objective': 'regression', 'metric': 'rmse', 'verbose': -1, 'device': 'cpu'} | IC max: 39.37% | Daily IC max: 40.16% | Time: 29.42s\n",
      "Params: {'learning_rate': 0.1, 'num_leaves': 32, 'feature_fraction': 0.6, 'min_data_in_leaf': 250, 'boosting': 'gbdt', 'objective': 'regression', 'metric': 'rmse', 'verbose': -1, 'device': 'cpu'} | IC max: 38.71% | Daily IC max: 38.98% | Time: 25.26s\n",
      "Params: {'learning_rate': 0.1, 'num_leaves': 8, 'feature_fraction': 0.95, 'min_data_in_leaf': 250, 'boosting': 'gbdt', 'objective': 'regression', 'metric': 'rmse', 'verbose': -1, 'device': 'cpu'} | IC max: 40.35% | Daily IC max: 40.62% | Time: 18.13s\n",
      "Params: {'learning_rate': 0.3, 'num_leaves': 32, 'feature_fraction': 0.6, 'min_data_in_leaf': 500, 'boosting': 'gbdt', 'objective': 'regression', 'metric': 'rmse', 'verbose': -1, 'device': 'cpu'} | IC max: 37.28% | Daily IC max: 37.53% | Time: 24.73s\n",
      "Params: {'learning_rate': 0.1, 'num_leaves': 4, 'feature_fraction': 0.6, 'min_data_in_leaf': 1000, 'boosting': 'gbdt', 'objective': 'regression', 'metric': 'rmse', 'verbose': -1, 'device': 'cpu'} | IC max: 39.04% | Daily IC max: 39.87% | Time: 15.58s\n",
      "Params: {'learning_rate': 0.1, 'num_leaves': 32, 'feature_fraction': 0.3, 'min_data_in_leaf': 250, 'boosting': 'gbdt', 'objective': 'regression', 'metric': 'rmse', 'verbose': -1, 'device': 'cpu'} | IC max: 37.88% | Daily IC max: 38.83% | Time: 23.93s\n",
      "Params: {'learning_rate': 0.1, 'num_leaves': 32, 'feature_fraction': 0.6, 'min_data_in_leaf': 500, 'boosting': 'gbdt', 'objective': 'regression', 'metric': 'rmse', 'verbose': -1, 'device': 'cpu'} | IC max: 38.81% | Daily IC max: 39.05% | Time: 27.24s\n",
      "Params: {'learning_rate': 0.3, 'num_leaves': 32, 'feature_fraction': 0.3, 'min_data_in_leaf': 500, 'boosting': 'gbdt', 'objective': 'regression', 'metric': 'rmse', 'verbose': -1, 'device': 'cpu'} | IC max: 36.43% | Daily IC max: 37.45% | Time: 25.33s\n",
      "Params: {'learning_rate': 0.1, 'num_leaves': 8, 'feature_fraction': 0.6, 'min_data_in_leaf': 250, 'boosting': 'gbdt', 'objective': 'regression', 'metric': 'rmse', 'verbose': -1, 'device': 'cpu'} | IC max: 39.03% | Daily IC max: 39.83% | Time: 17.36s\n",
      "Params: {'learning_rate': 0.1, 'num_leaves': 8, 'feature_fraction': 0.3, 'min_data_in_leaf': 1000, 'boosting': 'gbdt', 'objective': 'regression', 'metric': 'rmse', 'verbose': -1, 'device': 'cpu'} | IC max: 38.59% | Daily IC max: 39.48% | Time: 16.52s\n",
      "Params: {'learning_rate': 0.01, 'num_leaves': 128, 'feature_fraction': 0.6, 'min_data_in_leaf': 250, 'boosting': 'gbdt', 'objective': 'regression', 'metric': 'rmse', 'verbose': -1, 'device': 'cpu'} | IC max: 38.36% | Daily IC max: 39.06% | Time: 54.19s\n",
      "Params: {'learning_rate': 0.3, 'num_leaves': 32, 'feature_fraction': 0.6, 'min_data_in_leaf': 1000, 'boosting': 'gbdt', 'objective': 'regression', 'metric': 'rmse', 'verbose': -1, 'device': 'cpu'} | IC max: 36.78% | Daily IC max: 37.40% | Time: 26.01s\n",
      "Params: {'learning_rate': 0.3, 'num_leaves': 8, 'feature_fraction': 0.6, 'min_data_in_leaf': 250, 'boosting': 'gbdt', 'objective': 'regression', 'metric': 'rmse', 'verbose': -1, 'device': 'cpu'} | IC max: 38.49% | Daily IC max: 39.32% | Time: 16.91s\n",
      "Params: {'learning_rate': 0.3, 'num_leaves': 4, 'feature_fraction': 0.3, 'min_data_in_leaf': 1000, 'boosting': 'gbdt', 'objective': 'regression', 'metric': 'rmse', 'verbose': -1, 'device': 'cpu'} | IC max: 37.96% | Daily IC max: 39.06% | Time: 14.23s\n",
      "Params: {'learning_rate': 0.01, 'num_leaves': 4, 'feature_fraction': 0.3, 'min_data_in_leaf': 250, 'boosting': 'gbdt', 'objective': 'regression', 'metric': 'rmse', 'verbose': -1, 'device': 'cpu'} | IC max: 38.61% | Daily IC max: 38.81% | Time: 14.72s\n",
      "Params: {'learning_rate': 0.3, 'num_leaves': 32, 'feature_fraction': 0.95, 'min_data_in_leaf': 500, 'boosting': 'gbdt', 'objective': 'regression', 'metric': 'rmse', 'verbose': -1, 'device': 'cpu'} | IC max: 38.63% | Daily IC max: 39.16% | Time: 28.41s\n",
      "Params: {'learning_rate': 0.01, 'num_leaves': 8, 'feature_fraction': 0.3, 'min_data_in_leaf': 250, 'boosting': 'gbdt', 'objective': 'regression', 'metric': 'rmse', 'verbose': -1, 'device': 'cpu'} | IC max: 38.51% | Daily IC max: 39.00% | Time: 16.94s\n",
      "Params: {'learning_rate': 0.1, 'num_leaves': 8, 'feature_fraction': 0.3, 'min_data_in_leaf': 500, 'boosting': 'gbdt', 'objective': 'regression', 'metric': 'rmse', 'verbose': -1, 'device': 'cpu'} | IC max: 38.59% | Daily IC max: 39.53% | Time: 15.92s\n",
      "Params: {'learning_rate': 0.01, 'num_leaves': 8, 'feature_fraction': 0.3, 'min_data_in_leaf': 500, 'boosting': 'gbdt', 'objective': 'regression', 'metric': 'rmse', 'verbose': -1, 'device': 'cpu'} | IC max: 38.57% | Daily IC max: 38.98% | Time: 16.48s\n",
      "Params: {'learning_rate': 0.1, 'num_leaves': 32, 'feature_fraction': 0.95, 'min_data_in_leaf': 250, 'boosting': 'gbdt', 'objective': 'regression', 'metric': 'rmse', 'verbose': -1, 'device': 'cpu'} | IC max: 39.42% | Daily IC max: 40.29% | Time: 25.48s\n",
      "Params: {'learning_rate': 0.1, 'num_leaves': 4, 'feature_fraction': 0.3, 'min_data_in_leaf': 500, 'boosting': 'gbdt', 'objective': 'regression', 'metric': 'rmse', 'verbose': -1, 'device': 'cpu'} | IC max: 38.75% | Daily IC max: 39.67% | Time: 14.06s\n",
      "Params: {'learning_rate': 0.3, 'num_leaves': 128, 'feature_fraction': 0.95, 'min_data_in_leaf': 250, 'boosting': 'gbdt', 'objective': 'regression', 'metric': 'rmse', 'verbose': -1, 'device': 'cpu'} | IC max: 36.43% | Daily IC max: 36.81% | Time: 52.10s\n",
      "Params: {'learning_rate': 0.01, 'num_leaves': 128, 'feature_fraction': 0.3, 'min_data_in_leaf': 500, 'boosting': 'gbdt', 'objective': 'regression', 'metric': 'rmse', 'verbose': -1, 'device': 'cpu'} | IC max: 38.10% | Daily IC max: 38.84% | Time: 52.61s\n",
      "Params: {'learning_rate': 0.3, 'num_leaves': 128, 'feature_fraction': 0.3, 'min_data_in_leaf': 1000, 'boosting': 'gbdt', 'objective': 'regression', 'metric': 'rmse', 'verbose': -1, 'device': 'cpu'} | IC max: 35.63% | Daily IC max: 36.60% | Time: 43.27s\n",
      "Params: {'learning_rate': 0.1, 'num_leaves': 32, 'feature_fraction': 0.3, 'min_data_in_leaf': 500, 'boosting': 'gbdt', 'objective': 'regression', 'metric': 'rmse', 'verbose': -1, 'device': 'cpu'} | IC max: 37.97% | Daily IC max: 38.86% | Time: 25.04s\n",
      "Params: {'learning_rate': 0.01, 'num_leaves': 4, 'feature_fraction': 0.6, 'min_data_in_leaf': 1000, 'boosting': 'gbdt', 'objective': 'regression', 'metric': 'rmse', 'verbose': -1, 'device': 'cpu'} | IC max: 39.63% | Daily IC max: 39.85% | Time: 15.79s\n",
      "Params: {'learning_rate': 0.3, 'num_leaves': 128, 'feature_fraction': 0.6, 'min_data_in_leaf': 500, 'boosting': 'gbdt', 'objective': 'regression', 'metric': 'rmse', 'verbose': -1, 'device': 'cpu'} | IC max: 35.14% | Daily IC max: 35.55% | Time: 47.47s\n",
      "Params: {'learning_rate': 0.3, 'num_leaves': 4, 'feature_fraction': 0.3, 'min_data_in_leaf': 250, 'boosting': 'gbdt', 'objective': 'regression', 'metric': 'rmse', 'verbose': -1, 'device': 'cpu'} | IC max: 38.04% | Daily IC max: 39.13% | Time: 13.90s\n",
      "Params: {'learning_rate': 0.01, 'num_leaves': 8, 'feature_fraction': 0.95, 'min_data_in_leaf': 250, 'boosting': 'gbdt', 'objective': 'regression', 'metric': 'rmse', 'verbose': -1, 'device': 'cpu'} | IC max: 40.35% | Daily IC max: 40.59% | Time: 19.16s\n",
      "Params: {'learning_rate': 0.1, 'num_leaves': 4, 'feature_fraction': 0.95, 'min_data_in_leaf': 250, 'boosting': 'gbdt', 'objective': 'regression', 'metric': 'rmse', 'verbose': -1, 'device': 'cpu'} | IC max: 40.33% | Daily IC max: 40.61% | Time: 16.28s\n",
      "Params: {'learning_rate': 0.01, 'num_leaves': 4, 'feature_fraction': 0.6, 'min_data_in_leaf': 250, 'boosting': 'gbdt', 'objective': 'regression', 'metric': 'rmse', 'verbose': -1, 'device': 'cpu'} | IC max: 39.67% | Daily IC max: 39.91% | Time: 15.55s\n",
      "Params: {'learning_rate': 0.3, 'num_leaves': 8, 'feature_fraction': 0.95, 'min_data_in_leaf': 250, 'boosting': 'gbdt', 'objective': 'regression', 'metric': 'rmse', 'verbose': -1, 'device': 'cpu'} | IC max: 39.70% | Daily IC max: 40.32% | Time: 17.72s\n",
      "Params: {'learning_rate': 0.3, 'num_leaves': 128, 'feature_fraction': 0.3, 'min_data_in_leaf': 250, 'boosting': 'gbdt', 'objective': 'regression', 'metric': 'rmse', 'verbose': -1, 'device': 'cpu'} | IC max: 34.53% | Daily IC max: 35.18% | Time: 49.44s\n",
      "Params: {'learning_rate': 0.3, 'num_leaves': 8, 'feature_fraction': 0.6, 'min_data_in_leaf': 500, 'boosting': 'gbdt', 'objective': 'regression', 'metric': 'rmse', 'verbose': -1, 'device': 'cpu'} | IC max: 38.49% | Daily IC max: 39.31% | Time: 17.26s\n",
      "Params: {'learning_rate': 0.1, 'num_leaves': 8, 'feature_fraction': 0.95, 'min_data_in_leaf': 1000, 'boosting': 'gbdt', 'objective': 'regression', 'metric': 'rmse', 'verbose': -1, 'device': 'cpu'} | IC max: 40.35% | Daily IC max: 40.59% | Time: 18.70s\n",
      "Params: {'learning_rate': 0.1, 'num_leaves': 8, 'feature_fraction': 0.6, 'min_data_in_leaf': 500, 'boosting': 'gbdt', 'objective': 'regression', 'metric': 'rmse', 'verbose': -1, 'device': 'cpu'} | IC max: 39.01% | Daily IC max: 39.74% | Time: 17.26s\n",
      "Params: {'learning_rate': 0.1, 'num_leaves': 32, 'feature_fraction': 0.3, 'min_data_in_leaf': 1000, 'boosting': 'gbdt', 'objective': 'regression', 'metric': 'rmse', 'verbose': -1, 'device': 'cpu'} | IC max: 37.69% | Daily IC max: 38.80% | Time: 26.60s\n",
      "Params: {'learning_rate': 0.1, 'num_leaves': 128, 'feature_fraction': 0.95, 'min_data_in_leaf': 250, 'boosting': 'gbdt', 'objective': 'regression', 'metric': 'rmse', 'verbose': -1, 'device': 'cpu'} | IC max: 38.30% | Daily IC max: 38.89% | Time: 49.11s\n",
      "Params: {'learning_rate': 0.01, 'num_leaves': 8, 'feature_fraction': 0.3, 'min_data_in_leaf': 1000, 'boosting': 'gbdt', 'objective': 'regression', 'metric': 'rmse', 'verbose': -1, 'device': 'cpu'} | IC max: 38.57% | Daily IC max: 38.96% | Time: 16.74s\n",
      "Params: {'learning_rate': 0.3, 'num_leaves': 128, 'feature_fraction': 0.95, 'min_data_in_leaf': 1000, 'boosting': 'gbdt', 'objective': 'regression', 'metric': 'rmse', 'verbose': -1, 'device': 'cpu'} | IC max: 37.30% | Daily IC max: 37.57% | Time: 51.86s\n",
      "Params: {'learning_rate': 0.1, 'num_leaves': 128, 'feature_fraction': 0.3, 'min_data_in_leaf': 250, 'boosting': 'gbdt', 'objective': 'regression', 'metric': 'rmse', 'verbose': -1, 'device': 'cpu'} | IC max: 36.37% | Daily IC max: 37.50% | Time: 52.30s\n",
      "Params: {'learning_rate': 0.1, 'num_leaves': 8, 'feature_fraction': 0.6, 'min_data_in_leaf': 1000, 'boosting': 'gbdt', 'objective': 'regression', 'metric': 'rmse', 'verbose': -1, 'device': 'cpu'} | IC max: 38.98% | Daily IC max: 39.67% | Time: 17.45s\n",
      "Params: {'learning_rate': 0.3, 'num_leaves': 4, 'feature_fraction': 0.6, 'min_data_in_leaf': 1000, 'boosting': 'gbdt', 'objective': 'regression', 'metric': 'rmse', 'verbose': -1, 'device': 'cpu'} | IC max: 38.73% | Daily IC max: 39.43% | Time: 15.44s\n",
      "Params: {'learning_rate': 0.01, 'num_leaves': 128, 'feature_fraction': 0.3, 'min_data_in_leaf': 250, 'boosting': 'gbdt', 'objective': 'regression', 'metric': 'rmse', 'verbose': -1, 'device': 'cpu'} | IC max: 38.08% | Daily IC max: 38.81% | Time: 53.61s\n",
      "Params: {'learning_rate': 0.01, 'num_leaves': 32, 'feature_fraction': 0.3, 'min_data_in_leaf': 250, 'boosting': 'gbdt', 'objective': 'regression', 'metric': 'rmse', 'verbose': -1, 'device': 'cpu'} | IC max: 38.25% | Daily IC max: 39.07% | Time: 25.33s\n",
      "Params: {'learning_rate': 0.1, 'num_leaves': 128, 'feature_fraction': 0.6, 'min_data_in_leaf': 250, 'boosting': 'gbdt', 'objective': 'regression', 'metric': 'rmse', 'verbose': -1, 'device': 'cpu'} | IC max: 37.57% | Daily IC max: 38.15% | Time: 47.10s\n",
      "Params: {'learning_rate': 0.01, 'num_leaves': 4, 'feature_fraction': 0.3, 'min_data_in_leaf': 1000, 'boosting': 'gbdt', 'objective': 'regression', 'metric': 'rmse', 'verbose': -1, 'device': 'cpu'} | IC max: 38.62% | Daily IC max: 38.78% | Time: 14.51s\n",
      "Params: {'learning_rate': 0.3, 'num_leaves': 8, 'feature_fraction': 0.95, 'min_data_in_leaf': 500, 'boosting': 'gbdt', 'objective': 'regression', 'metric': 'rmse', 'verbose': -1, 'device': 'cpu'} | IC max: 39.28% | Daily IC max: 40.22% | Time: 18.14s\n",
      "Params: {'learning_rate': 0.3, 'num_leaves': 8, 'feature_fraction': 0.3, 'min_data_in_leaf': 1000, 'boosting': 'gbdt', 'objective': 'regression', 'metric': 'rmse', 'verbose': -1, 'device': 'cpu'} | IC max: 37.53% | Daily IC max: 38.48% | Time: 15.81s\n",
      "Params: {'learning_rate': 0.3, 'num_leaves': 8, 'feature_fraction': 0.95, 'min_data_in_leaf': 1000, 'boosting': 'gbdt', 'objective': 'regression', 'metric': 'rmse', 'verbose': -1, 'device': 'cpu'} | IC max: 39.65% | Daily IC max: 40.24% | Time: 18.49s\n",
      "Params: {'learning_rate': 0.3, 'num_leaves': 32, 'feature_fraction': 0.95, 'min_data_in_leaf': 1000, 'boosting': 'gbdt', 'objective': 'regression', 'metric': 'rmse', 'verbose': -1, 'device': 'cpu'} | IC max: 38.03% | Daily IC max: 38.80% | Time: 28.67s\n"
     ]
    },
    {
     "name": "stderr",
     "output_type": "stream",
     "text": [
      "c:\\Users\\flyin\\.conda\\envs\\py311\\lib\\site-packages\\tables\\path.py:137: NaturalNameWarning: object name is not a valid Python identifier: '252'; it does not match the pattern ``^[a-zA-Z_][a-zA-Z0-9_]*$``; you will not be able to use natural naming to access this object; using ``getattr()`` will still work, though\n",
      "  check_attribute_name(name)\n",
      "c:\\Users\\flyin\\.conda\\envs\\py311\\lib\\site-packages\\tables\\path.py:137: NaturalNameWarning: object name is not a valid Python identifier: '63'; it does not match the pattern ``^[a-zA-Z_][a-zA-Z0-9_]*$``; you will not be able to use natural naming to access this object; using ``getattr()`` will still work, though\n",
      "  check_attribute_name(name)\n",
      "c:\\Users\\flyin\\.conda\\envs\\py311\\lib\\site-packages\\tables\\path.py:137: NaturalNameWarning: object name is not a valid Python identifier: '0.3'; it does not match the pattern ``^[a-zA-Z_][a-zA-Z0-9_]*$``; you will not be able to use natural naming to access this object; using ``getattr()`` will still work, though\n",
      "  check_attribute_name(name)\n",
      "c:\\Users\\flyin\\.conda\\envs\\py311\\lib\\site-packages\\tables\\path.py:137: NaturalNameWarning: object name is not a valid Python identifier: '32'; it does not match the pattern ``^[a-zA-Z_][a-zA-Z0-9_]*$``; you will not be able to use natural naming to access this object; using ``getattr()`` will still work, though\n",
      "  check_attribute_name(name)\n",
      "c:\\Users\\flyin\\.conda\\envs\\py311\\lib\\site-packages\\tables\\path.py:137: NaturalNameWarning: object name is not a valid Python identifier: '0.95'; it does not match the pattern ``^[a-zA-Z_][a-zA-Z0-9_]*$``; you will not be able to use natural naming to access this object; using ``getattr()`` will still work, though\n",
      "  check_attribute_name(name)\n",
      "c:\\Users\\flyin\\.conda\\envs\\py311\\lib\\site-packages\\tables\\path.py:137: NaturalNameWarning: object name is not a valid Python identifier: '1000'; it does not match the pattern ``^[a-zA-Z_][a-zA-Z0-9_]*$``; you will not be able to use natural naming to access this object; using ``getattr()`` will still work, though\n",
      "  check_attribute_name(name)\n",
      "c:\\Users\\flyin\\.conda\\envs\\py311\\lib\\site-packages\\tables\\leaf.py:409: RuntimeWarning: overflow encountered in scalar multiply\n",
      "  expected_mb = (expectedrows * rowsize) // MB\n",
      "c:\\Users\\flyin\\.conda\\envs\\py311\\lib\\site-packages\\tables\\path.py:137: NaturalNameWarning: object name is not a valid Python identifier: '252'; it does not match the pattern ``^[a-zA-Z_][a-zA-Z0-9_]*$``; you will not be able to use natural naming to access this object; using ``getattr()`` will still work, though\n",
      "  check_attribute_name(name)\n",
      "c:\\Users\\flyin\\.conda\\envs\\py311\\lib\\site-packages\\tables\\path.py:137: NaturalNameWarning: object name is not a valid Python identifier: '63'; it does not match the pattern ``^[a-zA-Z_][a-zA-Z0-9_]*$``; you will not be able to use natural naming to access this object; using ``getattr()`` will still work, though\n",
      "  check_attribute_name(name)\n",
      "c:\\Users\\flyin\\.conda\\envs\\py311\\lib\\site-packages\\tables\\path.py:137: NaturalNameWarning: object name is not a valid Python identifier: '0.3'; it does not match the pattern ``^[a-zA-Z_][a-zA-Z0-9_]*$``; you will not be able to use natural naming to access this object; using ``getattr()`` will still work, though\n",
      "  check_attribute_name(name)\n",
      "c:\\Users\\flyin\\.conda\\envs\\py311\\lib\\site-packages\\tables\\path.py:137: NaturalNameWarning: object name is not a valid Python identifier: '32'; it does not match the pattern ``^[a-zA-Z_][a-zA-Z0-9_]*$``; you will not be able to use natural naming to access this object; using ``getattr()`` will still work, though\n",
      "  check_attribute_name(name)\n",
      "c:\\Users\\flyin\\.conda\\envs\\py311\\lib\\site-packages\\tables\\path.py:137: NaturalNameWarning: object name is not a valid Python identifier: '0.95'; it does not match the pattern ``^[a-zA-Z_][a-zA-Z0-9_]*$``; you will not be able to use natural naming to access this object; using ``getattr()`` will still work, though\n",
      "  check_attribute_name(name)\n",
      "c:\\Users\\flyin\\.conda\\envs\\py311\\lib\\site-packages\\tables\\path.py:137: NaturalNameWarning: object name is not a valid Python identifier: '1000'; it does not match the pattern ``^[a-zA-Z_][a-zA-Z0-9_]*$``; you will not be able to use natural naming to access this object; using ``getattr()`` will still work, though\n",
      "  check_attribute_name(name)\n",
      "c:\\Users\\flyin\\.conda\\envs\\py311\\lib\\site-packages\\tables\\path.py:137: NaturalNameWarning: object name is not a valid Python identifier: '252'; it does not match the pattern ``^[a-zA-Z_][a-zA-Z0-9_]*$``; you will not be able to use natural naming to access this object; using ``getattr()`` will still work, though\n",
      "  check_attribute_name(name)\n",
      "c:\\Users\\flyin\\.conda\\envs\\py311\\lib\\site-packages\\tables\\path.py:137: NaturalNameWarning: object name is not a valid Python identifier: '63'; it does not match the pattern ``^[a-zA-Z_][a-zA-Z0-9_]*$``; you will not be able to use natural naming to access this object; using ``getattr()`` will still work, though\n",
      "  check_attribute_name(name)\n",
      "c:\\Users\\flyin\\.conda\\envs\\py311\\lib\\site-packages\\tables\\path.py:137: NaturalNameWarning: object name is not a valid Python identifier: '0.3'; it does not match the pattern ``^[a-zA-Z_][a-zA-Z0-9_]*$``; you will not be able to use natural naming to access this object; using ``getattr()`` will still work, though\n",
      "  check_attribute_name(name)\n",
      "c:\\Users\\flyin\\.conda\\envs\\py311\\lib\\site-packages\\tables\\path.py:137: NaturalNameWarning: object name is not a valid Python identifier: '32'; it does not match the pattern ``^[a-zA-Z_][a-zA-Z0-9_]*$``; you will not be able to use natural naming to access this object; using ``getattr()`` will still work, though\n",
      "  check_attribute_name(name)\n",
      "c:\\Users\\flyin\\.conda\\envs\\py311\\lib\\site-packages\\tables\\path.py:137: NaturalNameWarning: object name is not a valid Python identifier: '0.95'; it does not match the pattern ``^[a-zA-Z_][a-zA-Z0-9_]*$``; you will not be able to use natural naming to access this object; using ``getattr()`` will still work, though\n",
      "  check_attribute_name(name)\n",
      "c:\\Users\\flyin\\.conda\\envs\\py311\\lib\\site-packages\\tables\\path.py:137: NaturalNameWarning: object name is not a valid Python identifier: '1000'; it does not match the pattern ``^[a-zA-Z_][a-zA-Z0-9_]*$``; you will not be able to use natural naming to access this object; using ``getattr()`` will still work, though\n",
      "  check_attribute_name(name)\n"
     ]
    },
    {
     "name": "stdout",
     "output_type": "stream",
     "text": [
      "Lookahead: 21 | Train: 252 | Test: 63 | Params:  54 | Train configs: 6\n",
      "Params: {'learning_rate': 0.3, 'num_leaves': 32, 'feature_fraction': 0.6, 'min_data_in_leaf': 1000, 'boosting': 'gbdt', 'objective': 'regression', 'metric': 'rmse', 'verbose': -1, 'device': 'cpu'} | IC max: 74.05% | Daily IC max: 75.34% | Time: 25.98s\n",
      "Params: {'learning_rate': 0.01, 'num_leaves': 128, 'feature_fraction': 0.6, 'min_data_in_leaf': 1000, 'boosting': 'gbdt', 'objective': 'regression', 'metric': 'rmse', 'verbose': -1, 'device': 'cpu'} | IC max: 74.27% | Daily IC max: 75.77% | Time: 45.57s\n",
      "Params: {'learning_rate': 0.3, 'num_leaves': 4, 'feature_fraction': 0.3, 'min_data_in_leaf': 500, 'boosting': 'gbdt', 'objective': 'regression', 'metric': 'rmse', 'verbose': -1, 'device': 'cpu'} | IC max: 74.38% | Daily IC max: 75.59% | Time: 14.51s\n",
      "Params: {'learning_rate': 0.1, 'num_leaves': 32, 'feature_fraction': 0.6, 'min_data_in_leaf': 500, 'boosting': 'gbdt', 'objective': 'regression', 'metric': 'rmse', 'verbose': -1, 'device': 'cpu'} | IC max: 74.25% | Daily IC max: 75.70% | Time: 27.02s\n",
      "Params: {'learning_rate': 0.3, 'num_leaves': 4, 'feature_fraction': 0.95, 'min_data_in_leaf': 500, 'boosting': 'gbdt', 'objective': 'regression', 'metric': 'rmse', 'verbose': -1, 'device': 'cpu'} | IC max: 75.09% | Daily IC max: 75.43% | Time: 16.07s\n",
      "Params: {'learning_rate': 0.01, 'num_leaves': 8, 'feature_fraction': 0.6, 'min_data_in_leaf': 250, 'boosting': 'gbdt', 'objective': 'regression', 'metric': 'rmse', 'verbose': -1, 'device': 'cpu'} | IC max: 75.46% | Daily IC max: 76.39% | Time: 18.86s\n",
      "Params: {'learning_rate': 0.01, 'num_leaves': 8, 'feature_fraction': 0.95, 'min_data_in_leaf': 1000, 'boosting': 'gbdt', 'objective': 'regression', 'metric': 'rmse', 'verbose': -1, 'device': 'cpu'} | IC max: 75.85% | Daily IC max: 76.54% | Time: 19.90s\n",
      "Params: {'learning_rate': 0.3, 'num_leaves': 128, 'feature_fraction': 0.3, 'min_data_in_leaf': 1000, 'boosting': 'gbdt', 'objective': 'regression', 'metric': 'rmse', 'verbose': -1, 'device': 'cpu'} | IC max: 73.35% | Daily IC max: 74.55% | Time: 51.19s\n",
      "Params: {'learning_rate': 0.1, 'num_leaves': 8, 'feature_fraction': 0.95, 'min_data_in_leaf': 250, 'boosting': 'gbdt', 'objective': 'regression', 'metric': 'rmse', 'verbose': -1, 'device': 'cpu'} | IC max: 75.74% | Daily IC max: 76.50% | Time: 18.06s\n",
      "Params: {'learning_rate': 0.3, 'num_leaves': 8, 'feature_fraction': 0.95, 'min_data_in_leaf': 500, 'boosting': 'gbdt', 'objective': 'regression', 'metric': 'rmse', 'verbose': -1, 'device': 'cpu'} | IC max: 75.15% | Daily IC max: 75.83% | Time: 18.21s\n",
      "Params: {'learning_rate': 0.01, 'num_leaves': 4, 'feature_fraction': 0.95, 'min_data_in_leaf': 500, 'boosting': 'gbdt', 'objective': 'regression', 'metric': 'rmse', 'verbose': -1, 'device': 'cpu'} | IC max: 75.94% | Daily IC max: 76.59% | Time: 16.88s\n",
      "Params: {'learning_rate': 0.01, 'num_leaves': 32, 'feature_fraction': 0.95, 'min_data_in_leaf': 250, 'boosting': 'gbdt', 'objective': 'regression', 'metric': 'rmse', 'verbose': -1, 'device': 'cpu'} | IC max: 75.57% | Daily IC max: 76.41% | Time: 29.81s\n",
      "Params: {'learning_rate': 0.3, 'num_leaves': 8, 'feature_fraction': 0.3, 'min_data_in_leaf': 1000, 'boosting': 'gbdt', 'objective': 'regression', 'metric': 'rmse', 'verbose': -1, 'device': 'cpu'} | IC max: 74.45% | Daily IC max: 75.59% | Time: 16.55s\n",
      "Params: {'learning_rate': 0.1, 'num_leaves': 128, 'feature_fraction': 0.6, 'min_data_in_leaf': 250, 'boosting': 'gbdt', 'objective': 'regression', 'metric': 'rmse', 'verbose': -1, 'device': 'cpu'} | IC max: 73.73% | Daily IC max: 75.17% | Time: 48.44s\n",
      "Params: {'learning_rate': 0.3, 'num_leaves': 32, 'feature_fraction': 0.95, 'min_data_in_leaf': 1000, 'boosting': 'gbdt', 'objective': 'regression', 'metric': 'rmse', 'verbose': -1, 'device': 'cpu'} | IC max: 74.73% | Daily IC max: 75.74% | Time: 29.55s\n",
      "Params: {'learning_rate': 0.1, 'num_leaves': 128, 'feature_fraction': 0.95, 'min_data_in_leaf': 1000, 'boosting': 'gbdt', 'objective': 'regression', 'metric': 'rmse', 'verbose': -1, 'device': 'cpu'} | IC max: 74.89% | Daily IC max: 75.90% | Time: 48.34s\n",
      "Params: {'learning_rate': 0.3, 'num_leaves': 8, 'feature_fraction': 0.3, 'min_data_in_leaf': 500, 'boosting': 'gbdt', 'objective': 'regression', 'metric': 'rmse', 'verbose': -1, 'device': 'cpu'} | IC max: 74.47% | Daily IC max: 75.72% | Time: 16.81s\n",
      "Params: {'learning_rate': 0.01, 'num_leaves': 32, 'feature_fraction': 0.95, 'min_data_in_leaf': 1000, 'boosting': 'gbdt', 'objective': 'regression', 'metric': 'rmse', 'verbose': -1, 'device': 'cpu'} | IC max: 75.50% | Daily IC max: 76.35% | Time: 30.14s\n",
      "Params: {'learning_rate': 0.1, 'num_leaves': 128, 'feature_fraction': 0.95, 'min_data_in_leaf': 500, 'boosting': 'gbdt', 'objective': 'regression', 'metric': 'rmse', 'verbose': -1, 'device': 'cpu'} | IC max: 74.79% | Daily IC max: 75.81% | Time: 63.81s\n",
      "Params: {'learning_rate': 0.01, 'num_leaves': 4, 'feature_fraction': 0.95, 'min_data_in_leaf': 1000, 'boosting': 'gbdt', 'objective': 'regression', 'metric': 'rmse', 'verbose': -1, 'device': 'cpu'} | IC max: 75.93% | Daily IC max: 76.57% | Time: 16.64s\n",
      "Params: {'learning_rate': 0.3, 'num_leaves': 32, 'feature_fraction': 0.3, 'min_data_in_leaf': 1000, 'boosting': 'gbdt', 'objective': 'regression', 'metric': 'rmse', 'verbose': -1, 'device': 'cpu'} | IC max: 73.68% | Daily IC max: 75.11% | Time: 27.58s\n",
      "Params: {'learning_rate': 0.1, 'num_leaves': 4, 'feature_fraction': 0.3, 'min_data_in_leaf': 1000, 'boosting': 'gbdt', 'objective': 'regression', 'metric': 'rmse', 'verbose': -1, 'device': 'cpu'} | IC max: 74.50% | Daily IC max: 75.98% | Time: 14.68s\n",
      "Params: {'learning_rate': 0.1, 'num_leaves': 8, 'feature_fraction': 0.95, 'min_data_in_leaf': 1000, 'boosting': 'gbdt', 'objective': 'regression', 'metric': 'rmse', 'verbose': -1, 'device': 'cpu'} | IC max: 75.78% | Daily IC max: 76.51% | Time: 18.61s\n",
      "Params: {'learning_rate': 0.1, 'num_leaves': 128, 'feature_fraction': 0.3, 'min_data_in_leaf': 250, 'boosting': 'gbdt', 'objective': 'regression', 'metric': 'rmse', 'verbose': -1, 'device': 'cpu'} | IC max: 73.44% | Daily IC max: 74.91% | Time: 55.73s\n",
      "Params: {'learning_rate': 0.01, 'num_leaves': 32, 'feature_fraction': 0.95, 'min_data_in_leaf': 500, 'boosting': 'gbdt', 'objective': 'regression', 'metric': 'rmse', 'verbose': -1, 'device': 'cpu'} | IC max: 75.57% | Daily IC max: 76.40% | Time: 31.93s\n",
      "Params: {'learning_rate': 0.01, 'num_leaves': 128, 'feature_fraction': 0.3, 'min_data_in_leaf': 250, 'boosting': 'gbdt', 'objective': 'regression', 'metric': 'rmse', 'verbose': -1, 'device': 'cpu'} | IC max: 73.49% | Daily IC max: 75.00% | Time: 66.03s\n",
      "Params: {'learning_rate': 0.1, 'num_leaves': 4, 'feature_fraction': 0.6, 'min_data_in_leaf': 500, 'boosting': 'gbdt', 'objective': 'regression', 'metric': 'rmse', 'verbose': -1, 'device': 'cpu'} | IC max: 75.04% | Daily IC max: 76.07% | Time: 16.91s\n",
      "Params: {'learning_rate': 0.3, 'num_leaves': 8, 'feature_fraction': 0.6, 'min_data_in_leaf': 1000, 'boosting': 'gbdt', 'objective': 'regression', 'metric': 'rmse', 'verbose': -1, 'device': 'cpu'} | IC max: 74.44% | Daily IC max: 75.36% | Time: 17.80s\n",
      "Params: {'learning_rate': 0.01, 'num_leaves': 8, 'feature_fraction': 0.3, 'min_data_in_leaf': 1000, 'boosting': 'gbdt', 'objective': 'regression', 'metric': 'rmse', 'verbose': -1, 'device': 'cpu'} | IC max: 74.15% | Daily IC max: 75.40% | Time: 17.49s\n",
      "Params: {'learning_rate': 0.1, 'num_leaves': 128, 'feature_fraction': 0.6, 'min_data_in_leaf': 500, 'boosting': 'gbdt', 'objective': 'regression', 'metric': 'rmse', 'verbose': -1, 'device': 'cpu'} | IC max: 73.83% | Daily IC max: 75.27% | Time: 50.66s\n",
      "Params: {'learning_rate': 0.1, 'num_leaves': 32, 'feature_fraction': 0.95, 'min_data_in_leaf': 250, 'boosting': 'gbdt', 'objective': 'regression', 'metric': 'rmse', 'verbose': -1, 'device': 'cpu'} | IC max: 75.43% | Daily IC max: 76.20% | Time: 25.08s\n",
      "Params: {'learning_rate': 0.01, 'num_leaves': 32, 'feature_fraction': 0.6, 'min_data_in_leaf': 1000, 'boosting': 'gbdt', 'objective': 'regression', 'metric': 'rmse', 'verbose': -1, 'device': 'cpu'} | IC max: 74.49% | Daily IC max: 75.93% | Time: 29.86s\n",
      "Params: {'learning_rate': 0.01, 'num_leaves': 4, 'feature_fraction': 0.3, 'min_data_in_leaf': 250, 'boosting': 'gbdt', 'objective': 'regression', 'metric': 'rmse', 'verbose': -1, 'device': 'cpu'} | IC max: 74.20% | Daily IC max: 75.41% | Time: 14.08s\n",
      "Params: {'learning_rate': 0.01, 'num_leaves': 128, 'feature_fraction': 0.95, 'min_data_in_leaf': 500, 'boosting': 'gbdt', 'objective': 'regression', 'metric': 'rmse', 'verbose': -1, 'device': 'cpu'} | IC max: 74.93% | Daily IC max: 76.03% | Time: 52.09s\n",
      "Params: {'learning_rate': 0.1, 'num_leaves': 8, 'feature_fraction': 0.3, 'min_data_in_leaf': 250, 'boosting': 'gbdt', 'objective': 'regression', 'metric': 'rmse', 'verbose': -1, 'device': 'cpu'} | IC max: 74.49% | Daily IC max: 75.92% | Time: 15.78s\n",
      "Params: {'learning_rate': 0.1, 'num_leaves': 128, 'feature_fraction': 0.3, 'min_data_in_leaf': 1000, 'boosting': 'gbdt', 'objective': 'regression', 'metric': 'rmse', 'verbose': -1, 'device': 'cpu'} | IC max: 73.59% | Daily IC max: 75.19% | Time: 47.91s\n",
      "Params: {'learning_rate': 0.01, 'num_leaves': 8, 'feature_fraction': 0.95, 'min_data_in_leaf': 500, 'boosting': 'gbdt', 'objective': 'regression', 'metric': 'rmse', 'verbose': -1, 'device': 'cpu'} | IC max: 75.86% | Daily IC max: 76.56% | Time: 19.22s\n",
      "Params: {'learning_rate': 0.01, 'num_leaves': 8, 'feature_fraction': 0.6, 'min_data_in_leaf': 500, 'boosting': 'gbdt', 'objective': 'regression', 'metric': 'rmse', 'verbose': -1, 'device': 'cpu'} | IC max: 75.46% | Daily IC max: 76.39% | Time: 18.18s\n",
      "Params: {'learning_rate': 0.1, 'num_leaves': 128, 'feature_fraction': 0.6, 'min_data_in_leaf': 1000, 'boosting': 'gbdt', 'objective': 'regression', 'metric': 'rmse', 'verbose': -1, 'device': 'cpu'} | IC max: 73.89% | Daily IC max: 75.38% | Time: 45.84s\n",
      "Params: {'learning_rate': 0.1, 'num_leaves': 4, 'feature_fraction': 0.3, 'min_data_in_leaf': 500, 'boosting': 'gbdt', 'objective': 'regression', 'metric': 'rmse', 'verbose': -1, 'device': 'cpu'} | IC max: 74.52% | Daily IC max: 75.99% | Time: 14.08s\n",
      "Params: {'learning_rate': 0.1, 'num_leaves': 4, 'feature_fraction': 0.6, 'min_data_in_leaf': 250, 'boosting': 'gbdt', 'objective': 'regression', 'metric': 'rmse', 'verbose': -1, 'device': 'cpu'} | IC max: 75.00% | Daily IC max: 76.12% | Time: 15.31s\n",
      "Params: {'learning_rate': 0.3, 'num_leaves': 32, 'feature_fraction': 0.6, 'min_data_in_leaf': 500, 'boosting': 'gbdt', 'objective': 'regression', 'metric': 'rmse', 'verbose': -1, 'device': 'cpu'} | IC max: 74.04% | Daily IC max: 75.32% | Time: 24.20s\n",
      "Params: {'learning_rate': 0.1, 'num_leaves': 32, 'feature_fraction': 0.3, 'min_data_in_leaf': 1000, 'boosting': 'gbdt', 'objective': 'regression', 'metric': 'rmse', 'verbose': -1, 'device': 'cpu'} | IC max: 73.93% | Daily IC max: 75.46% | Time: 26.10s\n",
      "Params: {'learning_rate': 0.3, 'num_leaves': 8, 'feature_fraction': 0.95, 'min_data_in_leaf': 250, 'boosting': 'gbdt', 'objective': 'regression', 'metric': 'rmse', 'verbose': -1, 'device': 'cpu'} | IC max: 75.12% | Daily IC max: 75.84% | Time: 17.55s\n",
      "Params: {'learning_rate': 0.3, 'num_leaves': 32, 'feature_fraction': 0.3, 'min_data_in_leaf': 500, 'boosting': 'gbdt', 'objective': 'regression', 'metric': 'rmse', 'verbose': -1, 'device': 'cpu'} | IC max: 73.71% | Daily IC max: 75.11% | Time: 24.59s\n",
      "Params: {'learning_rate': 0.1, 'num_leaves': 8, 'feature_fraction': 0.95, 'min_data_in_leaf': 500, 'boosting': 'gbdt', 'objective': 'regression', 'metric': 'rmse', 'verbose': -1, 'device': 'cpu'} | IC max: 75.72% | Daily IC max: 76.51% | Time: 18.37s\n",
      "Params: {'learning_rate': 0.3, 'num_leaves': 32, 'feature_fraction': 0.95, 'min_data_in_leaf': 250, 'boosting': 'gbdt', 'objective': 'regression', 'metric': 'rmse', 'verbose': -1, 'device': 'cpu'} | IC max: 74.64% | Daily IC max: 75.70% | Time: 24.56s\n",
      "Params: {'learning_rate': 0.01, 'num_leaves': 128, 'feature_fraction': 0.95, 'min_data_in_leaf': 1000, 'boosting': 'gbdt', 'objective': 'regression', 'metric': 'rmse', 'verbose': -1, 'device': 'cpu'} | IC max: 75.07% | Daily IC max: 76.18% | Time: 44.23s\n",
      "Params: {'learning_rate': 0.01, 'num_leaves': 4, 'feature_fraction': 0.6, 'min_data_in_leaf': 250, 'boosting': 'gbdt', 'objective': 'regression', 'metric': 'rmse', 'verbose': -1, 'device': 'cpu'} | IC max: 75.63% | Daily IC max: 76.47% | Time: 15.64s\n",
      "Params: {'learning_rate': 0.1, 'num_leaves': 4, 'feature_fraction': 0.95, 'min_data_in_leaf': 1000, 'boosting': 'gbdt', 'objective': 'regression', 'metric': 'rmse', 'verbose': -1, 'device': 'cpu'} | IC max: 75.83% | Daily IC max: 76.47% | Time: 16.30s\n",
      "Params: {'learning_rate': 0.3, 'num_leaves': 128, 'feature_fraction': 0.6, 'min_data_in_leaf': 250, 'boosting': 'gbdt', 'objective': 'regression', 'metric': 'rmse', 'verbose': -1, 'device': 'cpu'} | IC max: 73.59% | Daily IC max: 74.71% | Time: 41.01s\n",
      "Params: {'learning_rate': 0.01, 'num_leaves': 128, 'feature_fraction': 0.3, 'min_data_in_leaf': 500, 'boosting': 'gbdt', 'objective': 'regression', 'metric': 'rmse', 'verbose': -1, 'device': 'cpu'} | IC max: 73.50% | Daily IC max: 75.04% | Time: 54.47s\n",
      "Params: {'learning_rate': 0.3, 'num_leaves': 4, 'feature_fraction': 0.95, 'min_data_in_leaf': 250, 'boosting': 'gbdt', 'objective': 'regression', 'metric': 'rmse', 'verbose': -1, 'device': 'cpu'} | IC max: 75.11% | Daily IC max: 75.45% | Time: 16.04s\n",
      "Params: {'learning_rate': 0.01, 'num_leaves': 8, 'feature_fraction': 0.3, 'min_data_in_leaf': 500, 'boosting': 'gbdt', 'objective': 'regression', 'metric': 'rmse', 'verbose': -1, 'device': 'cpu'} | IC max: 74.18% | Daily IC max: 75.44% | Time: 16.42s\n"
     ]
    },
    {
     "name": "stderr",
     "output_type": "stream",
     "text": [
      "c:\\Users\\flyin\\.conda\\envs\\py311\\lib\\site-packages\\tables\\path.py:137: NaturalNameWarning: object name is not a valid Python identifier: '252'; it does not match the pattern ``^[a-zA-Z_][a-zA-Z0-9_]*$``; you will not be able to use natural naming to access this object; using ``getattr()`` will still work, though\n",
      "  check_attribute_name(name)\n",
      "c:\\Users\\flyin\\.conda\\envs\\py311\\lib\\site-packages\\tables\\path.py:137: NaturalNameWarning: object name is not a valid Python identifier: '63'; it does not match the pattern ``^[a-zA-Z_][a-zA-Z0-9_]*$``; you will not be able to use natural naming to access this object; using ``getattr()`` will still work, though\n",
      "  check_attribute_name(name)\n",
      "c:\\Users\\flyin\\.conda\\envs\\py311\\lib\\site-packages\\tables\\path.py:137: NaturalNameWarning: object name is not a valid Python identifier: '0.01'; it does not match the pattern ``^[a-zA-Z_][a-zA-Z0-9_]*$``; you will not be able to use natural naming to access this object; using ``getattr()`` will still work, though\n",
      "  check_attribute_name(name)\n",
      "c:\\Users\\flyin\\.conda\\envs\\py311\\lib\\site-packages\\tables\\path.py:137: NaturalNameWarning: object name is not a valid Python identifier: '8'; it does not match the pattern ``^[a-zA-Z_][a-zA-Z0-9_]*$``; you will not be able to use natural naming to access this object; using ``getattr()`` will still work, though\n",
      "  check_attribute_name(name)\n",
      "c:\\Users\\flyin\\.conda\\envs\\py311\\lib\\site-packages\\tables\\path.py:137: NaturalNameWarning: object name is not a valid Python identifier: '0.3'; it does not match the pattern ``^[a-zA-Z_][a-zA-Z0-9_]*$``; you will not be able to use natural naming to access this object; using ``getattr()`` will still work, though\n",
      "  check_attribute_name(name)\n",
      "c:\\Users\\flyin\\.conda\\envs\\py311\\lib\\site-packages\\tables\\path.py:137: NaturalNameWarning: object name is not a valid Python identifier: '500'; it does not match the pattern ``^[a-zA-Z_][a-zA-Z0-9_]*$``; you will not be able to use natural naming to access this object; using ``getattr()`` will still work, though\n",
      "  check_attribute_name(name)\n",
      "c:\\Users\\flyin\\.conda\\envs\\py311\\lib\\site-packages\\tables\\leaf.py:409: RuntimeWarning: overflow encountered in scalar multiply\n",
      "  expected_mb = (expectedrows * rowsize) // MB\n",
      "c:\\Users\\flyin\\.conda\\envs\\py311\\lib\\site-packages\\tables\\path.py:137: NaturalNameWarning: object name is not a valid Python identifier: '252'; it does not match the pattern ``^[a-zA-Z_][a-zA-Z0-9_]*$``; you will not be able to use natural naming to access this object; using ``getattr()`` will still work, though\n",
      "  check_attribute_name(name)\n",
      "c:\\Users\\flyin\\.conda\\envs\\py311\\lib\\site-packages\\tables\\path.py:137: NaturalNameWarning: object name is not a valid Python identifier: '63'; it does not match the pattern ``^[a-zA-Z_][a-zA-Z0-9_]*$``; you will not be able to use natural naming to access this object; using ``getattr()`` will still work, though\n",
      "  check_attribute_name(name)\n",
      "c:\\Users\\flyin\\.conda\\envs\\py311\\lib\\site-packages\\tables\\path.py:137: NaturalNameWarning: object name is not a valid Python identifier: '0.01'; it does not match the pattern ``^[a-zA-Z_][a-zA-Z0-9_]*$``; you will not be able to use natural naming to access this object; using ``getattr()`` will still work, though\n",
      "  check_attribute_name(name)\n",
      "c:\\Users\\flyin\\.conda\\envs\\py311\\lib\\site-packages\\tables\\path.py:137: NaturalNameWarning: object name is not a valid Python identifier: '8'; it does not match the pattern ``^[a-zA-Z_][a-zA-Z0-9_]*$``; you will not be able to use natural naming to access this object; using ``getattr()`` will still work, though\n",
      "  check_attribute_name(name)\n",
      "c:\\Users\\flyin\\.conda\\envs\\py311\\lib\\site-packages\\tables\\path.py:137: NaturalNameWarning: object name is not a valid Python identifier: '0.3'; it does not match the pattern ``^[a-zA-Z_][a-zA-Z0-9_]*$``; you will not be able to use natural naming to access this object; using ``getattr()`` will still work, though\n",
      "  check_attribute_name(name)\n",
      "c:\\Users\\flyin\\.conda\\envs\\py311\\lib\\site-packages\\tables\\path.py:137: NaturalNameWarning: object name is not a valid Python identifier: '500'; it does not match the pattern ``^[a-zA-Z_][a-zA-Z0-9_]*$``; you will not be able to use natural naming to access this object; using ``getattr()`` will still work, though\n",
      "  check_attribute_name(name)\n",
      "c:\\Users\\flyin\\.conda\\envs\\py311\\lib\\site-packages\\tables\\path.py:137: NaturalNameWarning: object name is not a valid Python identifier: '252'; it does not match the pattern ``^[a-zA-Z_][a-zA-Z0-9_]*$``; you will not be able to use natural naming to access this object; using ``getattr()`` will still work, though\n",
      "  check_attribute_name(name)\n",
      "c:\\Users\\flyin\\.conda\\envs\\py311\\lib\\site-packages\\tables\\path.py:137: NaturalNameWarning: object name is not a valid Python identifier: '63'; it does not match the pattern ``^[a-zA-Z_][a-zA-Z0-9_]*$``; you will not be able to use natural naming to access this object; using ``getattr()`` will still work, though\n",
      "  check_attribute_name(name)\n",
      "c:\\Users\\flyin\\.conda\\envs\\py311\\lib\\site-packages\\tables\\path.py:137: NaturalNameWarning: object name is not a valid Python identifier: '0.01'; it does not match the pattern ``^[a-zA-Z_][a-zA-Z0-9_]*$``; you will not be able to use natural naming to access this object; using ``getattr()`` will still work, though\n",
      "  check_attribute_name(name)\n",
      "c:\\Users\\flyin\\.conda\\envs\\py311\\lib\\site-packages\\tables\\path.py:137: NaturalNameWarning: object name is not a valid Python identifier: '8'; it does not match the pattern ``^[a-zA-Z_][a-zA-Z0-9_]*$``; you will not be able to use natural naming to access this object; using ``getattr()`` will still work, though\n",
      "  check_attribute_name(name)\n",
      "c:\\Users\\flyin\\.conda\\envs\\py311\\lib\\site-packages\\tables\\path.py:137: NaturalNameWarning: object name is not a valid Python identifier: '0.3'; it does not match the pattern ``^[a-zA-Z_][a-zA-Z0-9_]*$``; you will not be able to use natural naming to access this object; using ``getattr()`` will still work, though\n",
      "  check_attribute_name(name)\n",
      "c:\\Users\\flyin\\.conda\\envs\\py311\\lib\\site-packages\\tables\\path.py:137: NaturalNameWarning: object name is not a valid Python identifier: '500'; it does not match the pattern ``^[a-zA-Z_][a-zA-Z0-9_]*$``; you will not be able to use natural naming to access this object; using ``getattr()`` will still work, though\n",
      "  check_attribute_name(name)\n"
     ]
    },
    {
     "name": "stdout",
     "output_type": "stream",
     "text": [
      "Lookahead:  5 | Train: 1134 | Test: 63 | Params:  54 | Train configs: 6\n",
      "Params: {'learning_rate': 0.1, 'num_leaves': 4, 'feature_fraction': 0.6, 'min_data_in_leaf': 500, 'boosting': 'gbdt', 'objective': 'regression', 'metric': 'rmse', 'verbose': -1, 'device': 'cpu'} | IC max: 69.14% | Daily IC max: 69.82% | Time: 33.72s\n",
      "Params: {'learning_rate': 0.01, 'num_leaves': 4, 'feature_fraction': 0.3, 'min_data_in_leaf': 500, 'boosting': 'gbdt', 'objective': 'regression', 'metric': 'rmse', 'verbose': -1, 'device': 'cpu'} | IC max: 67.62% | Daily IC max: 68.14% | Time: 29.48s\n",
      "Params: {'learning_rate': 0.3, 'num_leaves': 4, 'feature_fraction': 0.95, 'min_data_in_leaf': 250, 'boosting': 'gbdt', 'objective': 'regression', 'metric': 'rmse', 'verbose': -1, 'device': 'cpu'} | IC max: 68.99% | Daily IC max: 69.57% | Time: 35.25s\n",
      "Params: {'learning_rate': 0.3, 'num_leaves': 128, 'feature_fraction': 0.95, 'min_data_in_leaf': 250, 'boosting': 'gbdt', 'objective': 'regression', 'metric': 'rmse', 'verbose': -1, 'device': 'cpu'} | IC max: 69.01% | Daily IC max: 69.52% | Time: 93.63s\n",
      "Params: {'learning_rate': 0.3, 'num_leaves': 4, 'feature_fraction': 0.3, 'min_data_in_leaf': 250, 'boosting': 'gbdt', 'objective': 'regression', 'metric': 'rmse', 'verbose': -1, 'device': 'cpu'} | IC max: 68.47% | Daily IC max: 69.34% | Time: 28.00s\n",
      "Params: {'learning_rate': 0.01, 'num_leaves': 128, 'feature_fraction': 0.6, 'min_data_in_leaf': 1000, 'boosting': 'gbdt', 'objective': 'regression', 'metric': 'rmse', 'verbose': -1, 'device': 'cpu'} | IC max: 68.91% | Daily IC max: 69.65% | Time: 103.08s\n",
      "Params: {'learning_rate': 0.3, 'num_leaves': 4, 'feature_fraction': 0.6, 'min_data_in_leaf': 250, 'boosting': 'gbdt', 'objective': 'regression', 'metric': 'rmse', 'verbose': -1, 'device': 'cpu'} | IC max: 68.92% | Daily IC max: 69.47% | Time: 30.76s\n",
      "Params: {'learning_rate': 0.1, 'num_leaves': 32, 'feature_fraction': 0.6, 'min_data_in_leaf': 500, 'boosting': 'gbdt', 'objective': 'regression', 'metric': 'rmse', 'verbose': -1, 'device': 'cpu'} | IC max: 68.94% | Daily IC max: 69.70% | Time: 48.38s\n",
      "Params: {'learning_rate': 0.01, 'num_leaves': 128, 'feature_fraction': 0.95, 'min_data_in_leaf': 1000, 'boosting': 'gbdt', 'objective': 'regression', 'metric': 'rmse', 'verbose': -1, 'device': 'cpu'} | IC max: 69.26% | Daily IC max: 69.95% | Time: 116.21s\n",
      "Params: {'learning_rate': 0.01, 'num_leaves': 128, 'feature_fraction': 0.95, 'min_data_in_leaf': 500, 'boosting': 'gbdt', 'objective': 'regression', 'metric': 'rmse', 'verbose': -1, 'device': 'cpu'} | IC max: 69.26% | Daily IC max: 69.95% | Time: 106.44s\n",
      "Params: {'learning_rate': 0.01, 'num_leaves': 4, 'feature_fraction': 0.95, 'min_data_in_leaf': 250, 'boosting': 'gbdt', 'objective': 'regression', 'metric': 'rmse', 'verbose': -1, 'device': 'cpu'} | IC max: 69.27% | Daily IC max: 70.01% | Time: 34.98s\n",
      "Params: {'learning_rate': 0.1, 'num_leaves': 8, 'feature_fraction': 0.95, 'min_data_in_leaf': 250, 'boosting': 'gbdt', 'objective': 'regression', 'metric': 'rmse', 'verbose': -1, 'device': 'cpu'} | IC max: 69.21% | Daily IC max: 69.91% | Time: 36.24s\n",
      "Params: {'learning_rate': 0.1, 'num_leaves': 4, 'feature_fraction': 0.95, 'min_data_in_leaf': 250, 'boosting': 'gbdt', 'objective': 'regression', 'metric': 'rmse', 'verbose': -1, 'device': 'cpu'} | IC max: 69.28% | Daily IC max: 69.99% | Time: 32.50s\n",
      "Params: {'learning_rate': 0.1, 'num_leaves': 32, 'feature_fraction': 0.6, 'min_data_in_leaf': 1000, 'boosting': 'gbdt', 'objective': 'regression', 'metric': 'rmse', 'verbose': -1, 'device': 'cpu'} | IC max: 69.02% | Daily IC max: 69.69% | Time: 49.94s\n",
      "Params: {'learning_rate': 0.3, 'num_leaves': 8, 'feature_fraction': 0.6, 'min_data_in_leaf': 250, 'boosting': 'gbdt', 'objective': 'regression', 'metric': 'rmse', 'verbose': -1, 'device': 'cpu'} | IC max: 69.01% | Daily IC max: 69.60% | Time: 32.88s\n",
      "Params: {'learning_rate': 0.01, 'num_leaves': 8, 'feature_fraction': 0.6, 'min_data_in_leaf': 1000, 'boosting': 'gbdt', 'objective': 'regression', 'metric': 'rmse', 'verbose': -1, 'device': 'cpu'} | IC max: 68.96% | Daily IC max: 69.60% | Time: 40.11s\n",
      "Params: {'learning_rate': 0.3, 'num_leaves': 32, 'feature_fraction': 0.6, 'min_data_in_leaf': 1000, 'boosting': 'gbdt', 'objective': 'regression', 'metric': 'rmse', 'verbose': -1, 'device': 'cpu'} | IC max: 69.08% | Daily IC max: 69.67% | Time: 45.22s\n",
      "Params: {'learning_rate': 0.1, 'num_leaves': 32, 'feature_fraction': 0.95, 'min_data_in_leaf': 250, 'boosting': 'gbdt', 'objective': 'regression', 'metric': 'rmse', 'verbose': -1, 'device': 'cpu'} | IC max: 69.25% | Daily IC max: 69.97% | Time: 49.42s\n",
      "Params: {'learning_rate': 0.3, 'num_leaves': 32, 'feature_fraction': 0.95, 'min_data_in_leaf': 1000, 'boosting': 'gbdt', 'objective': 'regression', 'metric': 'rmse', 'verbose': -1, 'device': 'cpu'} | IC max: 69.15% | Daily IC max: 69.76% | Time: 49.69s\n",
      "Params: {'learning_rate': 0.01, 'num_leaves': 32, 'feature_fraction': 0.95, 'min_data_in_leaf': 250, 'boosting': 'gbdt', 'objective': 'regression', 'metric': 'rmse', 'verbose': -1, 'device': 'cpu'} | IC max: 69.30% | Daily IC max: 70.01% | Time: 63.29s\n",
      "Params: {'learning_rate': 0.01, 'num_leaves': 8, 'feature_fraction': 0.6, 'min_data_in_leaf': 500, 'boosting': 'gbdt', 'objective': 'regression', 'metric': 'rmse', 'verbose': -1, 'device': 'cpu'} | IC max: 68.96% | Daily IC max: 69.60% | Time: 40.59s\n",
      "Params: {'learning_rate': 0.1, 'num_leaves': 128, 'feature_fraction': 0.6, 'min_data_in_leaf': 500, 'boosting': 'gbdt', 'objective': 'regression', 'metric': 'rmse', 'verbose': -1, 'device': 'cpu'} | IC max: 69.04% | Daily IC max: 69.64% | Time: 77.92s\n",
      "Params: {'learning_rate': 0.1, 'num_leaves': 128, 'feature_fraction': 0.6, 'min_data_in_leaf': 250, 'boosting': 'gbdt', 'objective': 'regression', 'metric': 'rmse', 'verbose': -1, 'device': 'cpu'} | IC max: 69.03% | Daily IC max: 69.63% | Time: 80.47s\n",
      "Params: {'learning_rate': 0.1, 'num_leaves': 4, 'feature_fraction': 0.6, 'min_data_in_leaf': 1000, 'boosting': 'gbdt', 'objective': 'regression', 'metric': 'rmse', 'verbose': -1, 'device': 'cpu'} | IC max: 69.15% | Daily IC max: 69.79% | Time: 32.02s\n",
      "Params: {'learning_rate': 0.3, 'num_leaves': 4, 'feature_fraction': 0.3, 'min_data_in_leaf': 500, 'boosting': 'gbdt', 'objective': 'regression', 'metric': 'rmse', 'verbose': -1, 'device': 'cpu'} | IC max: 68.48% | Daily IC max: 69.37% | Time: 26.62s\n",
      "Params: {'learning_rate': 0.01, 'num_leaves': 8, 'feature_fraction': 0.6, 'min_data_in_leaf': 250, 'boosting': 'gbdt', 'objective': 'regression', 'metric': 'rmse', 'verbose': -1, 'device': 'cpu'} | IC max: 68.96% | Daily IC max: 69.60% | Time: 39.87s\n",
      "Params: {'learning_rate': 0.1, 'num_leaves': 4, 'feature_fraction': 0.95, 'min_data_in_leaf': 500, 'boosting': 'gbdt', 'objective': 'regression', 'metric': 'rmse', 'verbose': -1, 'device': 'cpu'} | IC max: 69.27% | Daily IC max: 69.98% | Time: 33.33s\n",
      "Params: {'learning_rate': 0.1, 'num_leaves': 8, 'feature_fraction': 0.6, 'min_data_in_leaf': 1000, 'boosting': 'gbdt', 'objective': 'regression', 'metric': 'rmse', 'verbose': -1, 'device': 'cpu'} | IC max: 68.99% | Daily IC max: 69.69% | Time: 34.47s\n",
      "Params: {'learning_rate': 0.1, 'num_leaves': 32, 'feature_fraction': 0.3, 'min_data_in_leaf': 250, 'boosting': 'gbdt', 'objective': 'regression', 'metric': 'rmse', 'verbose': -1, 'device': 'cpu'} | IC max: 68.58% | Daily IC max: 69.44% | Time: 38.57s\n",
      "Params: {'learning_rate': 0.01, 'num_leaves': 4, 'feature_fraction': 0.95, 'min_data_in_leaf': 1000, 'boosting': 'gbdt', 'objective': 'regression', 'metric': 'rmse', 'verbose': -1, 'device': 'cpu'} | IC max: 69.27% | Daily IC max: 70.01% | Time: 33.83s\n",
      "Params: {'learning_rate': 0.3, 'num_leaves': 8, 'feature_fraction': 0.95, 'min_data_in_leaf': 1000, 'boosting': 'gbdt', 'objective': 'regression', 'metric': 'rmse', 'verbose': -1, 'device': 'cpu'} | IC max: 69.01% | Daily IC max: 69.63% | Time: 35.81s\n",
      "Params: {'learning_rate': 0.3, 'num_leaves': 8, 'feature_fraction': 0.95, 'min_data_in_leaf': 500, 'boosting': 'gbdt', 'objective': 'regression', 'metric': 'rmse', 'verbose': -1, 'device': 'cpu'} | IC max: 68.99% | Daily IC max: 69.60% | Time: 34.82s\n",
      "Params: {'learning_rate': 0.1, 'num_leaves': 128, 'feature_fraction': 0.3, 'min_data_in_leaf': 500, 'boosting': 'gbdt', 'objective': 'regression', 'metric': 'rmse', 'verbose': -1, 'device': 'cpu'} | IC max: 68.21% | Daily IC max: 68.90% | Time: 72.01s\n",
      "Params: {'learning_rate': 0.3, 'num_leaves': 4, 'feature_fraction': 0.95, 'min_data_in_leaf': 1000, 'boosting': 'gbdt', 'objective': 'regression', 'metric': 'rmse', 'verbose': -1, 'device': 'cpu'} | IC max: 68.98% | Daily IC max: 69.57% | Time: 33.39s\n",
      "Params: {'learning_rate': 0.3, 'num_leaves': 32, 'feature_fraction': 0.6, 'min_data_in_leaf': 250, 'boosting': 'gbdt', 'objective': 'regression', 'metric': 'rmse', 'verbose': -1, 'device': 'cpu'} | IC max: 69.05% | Daily IC max: 69.67% | Time: 42.39s\n",
      "Params: {'learning_rate': 0.01, 'num_leaves': 32, 'feature_fraction': 0.6, 'min_data_in_leaf': 250, 'boosting': 'gbdt', 'objective': 'regression', 'metric': 'rmse', 'verbose': -1, 'device': 'cpu'} | IC max: 68.99% | Daily IC max: 69.76% | Time: 60.82s\n",
      "Params: {'learning_rate': 0.01, 'num_leaves': 8, 'feature_fraction': 0.3, 'min_data_in_leaf': 500, 'boosting': 'gbdt', 'objective': 'regression', 'metric': 'rmse', 'verbose': -1, 'device': 'cpu'} | IC max: 67.75% | Daily IC max: 68.38% | Time: 30.73s\n",
      "Params: {'learning_rate': 0.1, 'num_leaves': 32, 'feature_fraction': 0.95, 'min_data_in_leaf': 1000, 'boosting': 'gbdt', 'objective': 'regression', 'metric': 'rmse', 'verbose': -1, 'device': 'cpu'} | IC max: 69.26% | Daily IC max: 69.97% | Time: 53.04s\n",
      "Params: {'learning_rate': 0.3, 'num_leaves': 128, 'feature_fraction': 0.6, 'min_data_in_leaf': 1000, 'boosting': 'gbdt', 'objective': 'regression', 'metric': 'rmse', 'verbose': -1, 'device': 'cpu'} | IC max: 68.97% | Daily IC max: 69.54% | Time: 82.48s\n",
      "Params: {'learning_rate': 0.1, 'num_leaves': 128, 'feature_fraction': 0.95, 'min_data_in_leaf': 1000, 'boosting': 'gbdt', 'objective': 'regression', 'metric': 'rmse', 'verbose': -1, 'device': 'cpu'} | IC max: 69.24% | Daily IC max: 69.90% | Time: 101.11s\n",
      "Params: {'learning_rate': 0.1, 'num_leaves': 8, 'feature_fraction': 0.6, 'min_data_in_leaf': 250, 'boosting': 'gbdt', 'objective': 'regression', 'metric': 'rmse', 'verbose': -1, 'device': 'cpu'} | IC max: 68.98% | Daily IC max: 69.69% | Time: 34.49s\n",
      "Params: {'learning_rate': 0.1, 'num_leaves': 4, 'feature_fraction': 0.3, 'min_data_in_leaf': 1000, 'boosting': 'gbdt', 'objective': 'regression', 'metric': 'rmse', 'verbose': -1, 'device': 'cpu'} | IC max: 68.82% | Daily IC max: 69.76% | Time: 25.19s\n",
      "Params: {'learning_rate': 0.3, 'num_leaves': 8, 'feature_fraction': 0.95, 'min_data_in_leaf': 250, 'boosting': 'gbdt', 'objective': 'regression', 'metric': 'rmse', 'verbose': -1, 'device': 'cpu'} | IC max: 69.02% | Daily IC max: 69.62% | Time: 36.24s\n",
      "Params: {'learning_rate': 0.3, 'num_leaves': 8, 'feature_fraction': 0.6, 'min_data_in_leaf': 1000, 'boosting': 'gbdt', 'objective': 'regression', 'metric': 'rmse', 'verbose': -1, 'device': 'cpu'} | IC max: 68.95% | Daily IC max: 69.54% | Time: 33.37s\n",
      "Params: {'learning_rate': 0.01, 'num_leaves': 8, 'feature_fraction': 0.3, 'min_data_in_leaf': 250, 'boosting': 'gbdt', 'objective': 'regression', 'metric': 'rmse', 'verbose': -1, 'device': 'cpu'} | IC max: 67.75% | Daily IC max: 68.38% | Time: 29.90s\n",
      "Params: {'learning_rate': 0.01, 'num_leaves': 128, 'feature_fraction': 0.6, 'min_data_in_leaf': 500, 'boosting': 'gbdt', 'objective': 'regression', 'metric': 'rmse', 'verbose': -1, 'device': 'cpu'} | IC max: 68.90% | Daily IC max: 69.65% | Time: 106.43s\n",
      "Params: {'learning_rate': 0.3, 'num_leaves': 32, 'feature_fraction': 0.6, 'min_data_in_leaf': 500, 'boosting': 'gbdt', 'objective': 'regression', 'metric': 'rmse', 'verbose': -1, 'device': 'cpu'} | IC max: 69.05% | Daily IC max: 69.69% | Time: 43.67s\n",
      "Params: {'learning_rate': 0.1, 'num_leaves': 32, 'feature_fraction': 0.3, 'min_data_in_leaf': 1000, 'boosting': 'gbdt', 'objective': 'regression', 'metric': 'rmse', 'verbose': -1, 'device': 'cpu'} | IC max: 68.56% | Daily IC max: 69.38% | Time: 40.48s\n",
      "Params: {'learning_rate': 0.01, 'num_leaves': 128, 'feature_fraction': 0.3, 'min_data_in_leaf': 500, 'boosting': 'gbdt', 'objective': 'regression', 'metric': 'rmse', 'verbose': -1, 'device': 'cpu'} | IC max: 67.95% | Daily IC max: 68.71% | Time: 81.44s\n",
      "Params: {'learning_rate': 0.1, 'num_leaves': 4, 'feature_fraction': 0.3, 'min_data_in_leaf': 500, 'boosting': 'gbdt', 'objective': 'regression', 'metric': 'rmse', 'verbose': -1, 'device': 'cpu'} | IC max: 68.88% | Daily IC max: 69.79% | Time: 25.59s\n",
      "Params: {'learning_rate': 0.01, 'num_leaves': 32, 'feature_fraction': 0.3, 'min_data_in_leaf': 250, 'boosting': 'gbdt', 'objective': 'regression', 'metric': 'rmse', 'verbose': -1, 'device': 'cpu'} | IC max: 67.94% | Daily IC max: 68.70% | Time: 44.57s\n",
      "Params: {'learning_rate': 0.3, 'num_leaves': 4, 'feature_fraction': 0.6, 'min_data_in_leaf': 1000, 'boosting': 'gbdt', 'objective': 'regression', 'metric': 'rmse', 'verbose': -1, 'device': 'cpu'} | IC max: 68.90% | Daily IC max: 69.47% | Time: 30.24s\n",
      "Params: {'learning_rate': 0.1, 'num_leaves': 4, 'feature_fraction': 0.95, 'min_data_in_leaf': 1000, 'boosting': 'gbdt', 'objective': 'regression', 'metric': 'rmse', 'verbose': -1, 'device': 'cpu'} | IC max: 69.25% | Daily IC max: 69.98% | Time: 33.11s\n",
      "Params: {'learning_rate': 0.3, 'num_leaves': 128, 'feature_fraction': 0.6, 'min_data_in_leaf': 500, 'boosting': 'gbdt', 'objective': 'regression', 'metric': 'rmse', 'verbose': -1, 'device': 'cpu'} | IC max: 69.03% | Daily IC max: 69.60% | Time: 79.35s\n"
     ]
    },
    {
     "name": "stderr",
     "output_type": "stream",
     "text": [
      "c:\\Users\\flyin\\.conda\\envs\\py311\\lib\\site-packages\\tables\\path.py:137: NaturalNameWarning: object name is not a valid Python identifier: '1134'; it does not match the pattern ``^[a-zA-Z_][a-zA-Z0-9_]*$``; you will not be able to use natural naming to access this object; using ``getattr()`` will still work, though\n",
      "  check_attribute_name(name)\n",
      "c:\\Users\\flyin\\.conda\\envs\\py311\\lib\\site-packages\\tables\\path.py:137: NaturalNameWarning: object name is not a valid Python identifier: '63'; it does not match the pattern ``^[a-zA-Z_][a-zA-Z0-9_]*$``; you will not be able to use natural naming to access this object; using ``getattr()`` will still work, though\n",
      "  check_attribute_name(name)\n",
      "c:\\Users\\flyin\\.conda\\envs\\py311\\lib\\site-packages\\tables\\path.py:137: NaturalNameWarning: object name is not a valid Python identifier: '0.3'; it does not match the pattern ``^[a-zA-Z_][a-zA-Z0-9_]*$``; you will not be able to use natural naming to access this object; using ``getattr()`` will still work, though\n",
      "  check_attribute_name(name)\n",
      "c:\\Users\\flyin\\.conda\\envs\\py311\\lib\\site-packages\\tables\\path.py:137: NaturalNameWarning: object name is not a valid Python identifier: '128'; it does not match the pattern ``^[a-zA-Z_][a-zA-Z0-9_]*$``; you will not be able to use natural naming to access this object; using ``getattr()`` will still work, though\n",
      "  check_attribute_name(name)\n",
      "c:\\Users\\flyin\\.conda\\envs\\py311\\lib\\site-packages\\tables\\path.py:137: NaturalNameWarning: object name is not a valid Python identifier: '0.6'; it does not match the pattern ``^[a-zA-Z_][a-zA-Z0-9_]*$``; you will not be able to use natural naming to access this object; using ``getattr()`` will still work, though\n",
      "  check_attribute_name(name)\n",
      "c:\\Users\\flyin\\.conda\\envs\\py311\\lib\\site-packages\\tables\\path.py:137: NaturalNameWarning: object name is not a valid Python identifier: '500'; it does not match the pattern ``^[a-zA-Z_][a-zA-Z0-9_]*$``; you will not be able to use natural naming to access this object; using ``getattr()`` will still work, though\n",
      "  check_attribute_name(name)\n",
      "c:\\Users\\flyin\\.conda\\envs\\py311\\lib\\site-packages\\tables\\leaf.py:409: RuntimeWarning: overflow encountered in scalar multiply\n",
      "  expected_mb = (expectedrows * rowsize) // MB\n",
      "c:\\Users\\flyin\\.conda\\envs\\py311\\lib\\site-packages\\tables\\path.py:137: NaturalNameWarning: object name is not a valid Python identifier: '1134'; it does not match the pattern ``^[a-zA-Z_][a-zA-Z0-9_]*$``; you will not be able to use natural naming to access this object; using ``getattr()`` will still work, though\n",
      "  check_attribute_name(name)\n",
      "c:\\Users\\flyin\\.conda\\envs\\py311\\lib\\site-packages\\tables\\path.py:137: NaturalNameWarning: object name is not a valid Python identifier: '63'; it does not match the pattern ``^[a-zA-Z_][a-zA-Z0-9_]*$``; you will not be able to use natural naming to access this object; using ``getattr()`` will still work, though\n",
      "  check_attribute_name(name)\n",
      "c:\\Users\\flyin\\.conda\\envs\\py311\\lib\\site-packages\\tables\\path.py:137: NaturalNameWarning: object name is not a valid Python identifier: '0.3'; it does not match the pattern ``^[a-zA-Z_][a-zA-Z0-9_]*$``; you will not be able to use natural naming to access this object; using ``getattr()`` will still work, though\n",
      "  check_attribute_name(name)\n",
      "c:\\Users\\flyin\\.conda\\envs\\py311\\lib\\site-packages\\tables\\path.py:137: NaturalNameWarning: object name is not a valid Python identifier: '128'; it does not match the pattern ``^[a-zA-Z_][a-zA-Z0-9_]*$``; you will not be able to use natural naming to access this object; using ``getattr()`` will still work, though\n",
      "  check_attribute_name(name)\n",
      "c:\\Users\\flyin\\.conda\\envs\\py311\\lib\\site-packages\\tables\\path.py:137: NaturalNameWarning: object name is not a valid Python identifier: '0.6'; it does not match the pattern ``^[a-zA-Z_][a-zA-Z0-9_]*$``; you will not be able to use natural naming to access this object; using ``getattr()`` will still work, though\n",
      "  check_attribute_name(name)\n",
      "c:\\Users\\flyin\\.conda\\envs\\py311\\lib\\site-packages\\tables\\path.py:137: NaturalNameWarning: object name is not a valid Python identifier: '500'; it does not match the pattern ``^[a-zA-Z_][a-zA-Z0-9_]*$``; you will not be able to use natural naming to access this object; using ``getattr()`` will still work, though\n",
      "  check_attribute_name(name)\n",
      "c:\\Users\\flyin\\.conda\\envs\\py311\\lib\\site-packages\\tables\\path.py:137: NaturalNameWarning: object name is not a valid Python identifier: '1134'; it does not match the pattern ``^[a-zA-Z_][a-zA-Z0-9_]*$``; you will not be able to use natural naming to access this object; using ``getattr()`` will still work, though\n",
      "  check_attribute_name(name)\n",
      "c:\\Users\\flyin\\.conda\\envs\\py311\\lib\\site-packages\\tables\\path.py:137: NaturalNameWarning: object name is not a valid Python identifier: '63'; it does not match the pattern ``^[a-zA-Z_][a-zA-Z0-9_]*$``; you will not be able to use natural naming to access this object; using ``getattr()`` will still work, though\n",
      "  check_attribute_name(name)\n",
      "c:\\Users\\flyin\\.conda\\envs\\py311\\lib\\site-packages\\tables\\path.py:137: NaturalNameWarning: object name is not a valid Python identifier: '0.3'; it does not match the pattern ``^[a-zA-Z_][a-zA-Z0-9_]*$``; you will not be able to use natural naming to access this object; using ``getattr()`` will still work, though\n",
      "  check_attribute_name(name)\n",
      "c:\\Users\\flyin\\.conda\\envs\\py311\\lib\\site-packages\\tables\\path.py:137: NaturalNameWarning: object name is not a valid Python identifier: '128'; it does not match the pattern ``^[a-zA-Z_][a-zA-Z0-9_]*$``; you will not be able to use natural naming to access this object; using ``getattr()`` will still work, though\n",
      "  check_attribute_name(name)\n",
      "c:\\Users\\flyin\\.conda\\envs\\py311\\lib\\site-packages\\tables\\path.py:137: NaturalNameWarning: object name is not a valid Python identifier: '0.6'; it does not match the pattern ``^[a-zA-Z_][a-zA-Z0-9_]*$``; you will not be able to use natural naming to access this object; using ``getattr()`` will still work, though\n",
      "  check_attribute_name(name)\n",
      "c:\\Users\\flyin\\.conda\\envs\\py311\\lib\\site-packages\\tables\\path.py:137: NaturalNameWarning: object name is not a valid Python identifier: '500'; it does not match the pattern ``^[a-zA-Z_][a-zA-Z0-9_]*$``; you will not be able to use natural naming to access this object; using ``getattr()`` will still work, though\n",
      "  check_attribute_name(name)\n"
     ]
    }
   ],
   "source": [
    "import os\n",
    "import torch\n",
    "import lightgbm as lgb\n",
    "from time import time\n",
    "from collections import defaultdict\n",
    "import pandas as pd\n",
    "import numpy as np\n",
    "from scipy.stats import spearmanr\n",
    "\n",
    "# Helper function to ensure directories exist\n",
    "def ensure_directory_exists(path):\n",
    "    os.makedirs(path, exist_ok=True)\n",
    "\n",
    "# Function to check GPU support and set LightGBM parameters\n",
    "def set_lgb_params():\n",
    "    if torch.cuda.is_available():\n",
    "        return {'device': 'gpu', 'gpu_platform_id': 0, 'gpu_device_id': 0}\n",
    "    else:\n",
    "        return {'device': 'cpu'}\n",
    "\n",
    "# Function to train LightGBM models and save results to HDF5\n",
    "def train_lightgbm(data, test_params, cv_params, param_names, categoricals, label_dict, num_iterations, num_boost_round, metric_cols, lgb_store):\n",
    "    with pd.HDFStore(lgb_store, 'w') as store:  # Open HDF5 file in write mode\n",
    "        for lookahead, train_length, test_length in test_params:\n",
    "            # Randomized grid search\n",
    "            cvp = np.random.choice(list(range(len(cv_params))), size=int(len(cv_params) / 2), replace=False)\n",
    "            cv_params_ = [cv_params[i] for i in cvp]\n",
    "\n",
    "            # Set up cross-validation\n",
    "            n_splits = int(2 * 252 / test_length)  # Assuming YEAR is 252 trading days\n",
    "            print(f'Lookahead: {lookahead:2.0f} | Train: {train_length:3.0f} | Test: {test_length:2.0f} | Params: {len(cv_params_):3.0f} | Train configs: {len(test_params)}')\n",
    "\n",
    "            # Time-series cross-validation\n",
    "            cv = MultipleTimeSeriesCV(n_splits=n_splits, lookahead=lookahead, test_period_length=test_length, train_period_length=train_length)\n",
    "\n",
    "            label = label_dict[lookahead]\n",
    "            outcome_data = data.loc[:, data.columns.difference([label])].join(data[label]).dropna()\n",
    "\n",
    "            # Drop 'metadata_sector' if present\n",
    "            if 'metadata_sector' in outcome_data.columns:\n",
    "                outcome_data = outcome_data.drop(columns=['metadata_sector'])\n",
    "\n",
    "            # LightGBM Dataset preparation\n",
    "            lgb_data = lgb.Dataset(data=outcome_data.drop(label, axis=1), label=outcome_data[label], categorical_feature=categoricals, free_raw_data=False)\n",
    "\n",
    "            # Initialize lists for storing results\n",
    "            predictions_list, metrics_list, feature_importance_list, daily_ic_list = [], [], [], []\n",
    "\n",
    "            # Iterate over hyperparameter combinations\n",
    "            for p, param_vals in enumerate(cv_params_):\n",
    "                key = f'{lookahead}/{train_length}/{test_length}/' + '/'.join([str(p) for p in param_vals])\n",
    "                params = dict(zip(param_names, param_vals))\n",
    "                params.update(base_params)\n",
    "                params.update(set_lgb_params())  # GPU/CPU settings\n",
    "\n",
    "                start = time()\n",
    "                cv_preds, nrounds = [], []\n",
    "                ic_cv = defaultdict(list)\n",
    "\n",
    "                # Iterate over folds\n",
    "                for i, (train_idx, test_idx) in enumerate(cv.split(X=outcome_data)):\n",
    "                    lgb_train = lgb_data.subset(used_indices=train_idx.tolist(), params=params).construct()\n",
    "                    model = lgb.train(params=params, train_set=lgb_train, num_boost_round=num_boost_round)\n",
    "\n",
    "                    # Capture predictions\n",
    "                    test_set = outcome_data.iloc[test_idx, :]\n",
    "                    X_test = test_set.loc[:, model.feature_name()]\n",
    "                    y_test = test_set.loc[:, label]\n",
    "                    y_pred = {str(n): model.predict(X_test, num_iteration=n) for n in num_iterations}\n",
    "\n",
    "                    # Collect fold predictions\n",
    "                    cv_preds.append(y_test.to_frame('y_test').assign(**y_pred).assign(i=i))\n",
    "\n",
    "                    # Collect feature importance\n",
    "                    if i == 0:\n",
    "                        fi = get_fi(model).to_frame()\n",
    "                    else:\n",
    "                        fi[i] = get_fi(model)\n",
    "\n",
    "                # Combine fold results and collect metrics\n",
    "                cv_preds = pd.concat(cv_preds).assign(**params)\n",
    "                predictions_list.append(cv_preds)\n",
    "\n",
    "                # IC Calculation per day\n",
    "                by_day = cv_preds.groupby(level='date')\n",
    "                ic_by_day = pd.concat([by_day.apply(lambda x: spearmanr(x.y_test, x[str(n)])[0]).to_frame(n)\n",
    "                                       for n in num_iterations], axis=1)\n",
    "\n",
    "                # Collect IC and feature importance\n",
    "                daily_ic_list.append(ic_by_day)\n",
    "                feature_importance_list.append(fi)\n",
    "\n",
    "                # Compute overall metrics\n",
    "                daily_ic_mean = ic_by_day.mean()\n",
    "                daily_ic_mean_n = daily_ic_mean.idxmax()\n",
    "                daily_ic_median = ic_by_day.median()\n",
    "                daily_ic_median_n = daily_ic_median.idxmax()\n",
    "\n",
    "                # Compute IC across all predictions\n",
    "                ic = [spearmanr(cv_preds.y_test, cv_preds[str(n)])[0] for n in num_iterations]\n",
    "                elapsed_time = time() - start\n",
    "\n",
    "                # Collect metrics\n",
    "                metrics = pd.Series(list(param_vals) +\n",
    "                                    [elapsed_time, daily_ic_mean.max(), daily_ic_mean_n, daily_ic_median.max(), daily_ic_median_n] + ic,\n",
    "                                    index=metric_cols)\n",
    "                metrics_list.append(metrics)\n",
    "\n",
    "                # Log status\n",
    "                print(f'Params: {params} | IC max: {max(ic):.2%} | Daily IC max: {daily_ic_mean.max():.2%} | Time: {elapsed_time:.2f}s')\n",
    "\n",
    "            # Save results to HDF5\n",
    "            store.append(f'predictions/{key}', pd.concat(predictions_list))\n",
    "            store.append(f'metrics/{key}', pd.DataFrame(metrics_list))\n",
    "            store.append(f'daily_ic/{key}', pd.concat(daily_ic_list))\n",
    "            store.append(f'feature_importance/{key}', pd.concat(feature_importance_list))\n",
    "\n",
    "# Main execution logic\n",
    "if __name__ == \"__main__\":\n",
    "    # Define parameters here (like base_params, max_depths, etc.)\n",
    "    # Example base parameters\n",
    "    base_params = dict(\n",
    "        boosting='gbdt',\n",
    "        objective='regression',\n",
    "        metric='rmse',\n",
    "        verbose=-1\n",
    "    )\n",
    "\n",
    "    # Define hyperparameters\n",
    "    max_depths = [2, 3, 5, 7]\n",
    "    num_leaves_opts = [2 ** i for i in max_depths]\n",
    "    min_data_in_leaf_opts = [250, 500, 1000]\n",
    "    learning_rate_opts = [.01, .1, .3]\n",
    "    feature_fraction_opts = [.3, .6, .95]\n",
    "\n",
    "    param_names = ['learning_rate', 'num_leaves', 'feature_fraction', 'min_data_in_leaf']\n",
    "    cv_params = list(product(learning_rate_opts, num_leaves_opts, feature_fraction_opts, min_data_in_leaf_opts))\n",
    "\n",
    "    n_params = len(cv_params)\n",
    "    print(f'# Parameters: {n_params}')\n",
    "\n",
    "    lookaheads = [1, 5, 21]\n",
    "    train_lengths = [int(4.5 * 252), 252]\n",
    "    test_lengths = [63]\n",
    "    test_params = list(product(lookaheads, train_lengths, test_lengths))\n",
    "\n",
    "    n = len(test_params)\n",
    "    test_param_sample = np.random.choice(list(range(n)), size=int(n), replace=False)\n",
    "    test_params = [test_params[i] for i in test_param_sample]\n",
    "    print('Train configs:', len(test_params))\n",
    "\n",
    "    # Categorical features\n",
    "    categoricals = ['year', 'weekday', 'month']\n",
    "    for feature in categoricals:\n",
    "        data[feature] = pd.factorize(data[feature], sort=True)[0]\n",
    "\n",
    "    # Label dictionary for lookahead\n",
    "    label_dict = dict(zip(lookaheads, sorted(data.filter(like='fwd').columns)))\n",
    "    features = data.columns.difference(label_dict.values()).tolist()\n",
    "    \n",
    "\n",
    "    # Define iterations and metrics columns\n",
    "    num_iterations = [10, 25, 50, 75] + list(range(100, 501, 50))\n",
    "    num_boost_round = num_iterations[-1]\n",
    "    metric_cols = param_names + ['t', 'daily_ic_mean', 'daily_ic_mean_n', 'daily_ic_median', 'daily_ic_median_n'] + [str(n) for n in num_iterations]\n",
    "\n",
    "    # Results path\n",
    "    results_path = Path('results/us_stocks')\n",
    "    lgb_store = results_path / 'tuning_lgb.h5'\n",
    "\n",
    "    # Run the training\n",
    "    train_lightgbm(data, test_params, cv_params, param_names, categoricals, label_dict, num_iterations, num_boost_round, metric_cols, lgb_store)\n"
   ]
  },
  {
   "cell_type": "code",
   "execution_count": 64,
   "metadata": {},
   "outputs": [
    {
     "data": {
      "text/plain": [
       "<lightgbm.basic.Booster at 0x2b3aeafbfd0>"
      ]
     },
     "execution_count": 64,
     "metadata": {},
     "output_type": "execute_result"
    }
   ],
   "source": [
    "# Save the trained LightGBM model to a file\n",
    "model.save_model('trained_model.txt')\n"
   ]
  },
  {
   "cell_type": "markdown",
   "metadata": {},
   "source": [
    "## CatBoost Model Tuning"
   ]
  },
  {
   "cell_type": "markdown",
   "metadata": {},
   "source": [
    "We repeat a similar process for CatBoost - see book and CatBoost [docs](https://catboost.ai/docs/concepts/about.html) for detail."
   ]
  },
  {
   "cell_type": "markdown",
   "metadata": {},
   "source": [
    "### Hyperparameter Options"
   ]
  },
  {
   "cell_type": "code",
   "execution_count": 65,
   "metadata": {
    "ExecuteTime": {
     "end_time": "2020-06-21T11:56:42.002366Z",
     "start_time": "2020-06-21T03:17:13.861Z"
    }
   },
   "outputs": [],
   "source": [
    "param_names = ['max_depth', 'min_child_samples']\n",
    "\n",
    "max_depth_opts = [3, 5, 7, 9]\n",
    "min_child_samples_opts = [20, 250, 500]"
   ]
  },
  {
   "cell_type": "code",
   "execution_count": 66,
   "metadata": {
    "ExecuteTime": {
     "end_time": "2020-06-21T11:56:42.002915Z",
     "start_time": "2020-06-21T03:17:14.083Z"
    }
   },
   "outputs": [],
   "source": [
    "cv_params = list(product(max_depth_opts,\n",
    "                         min_child_samples_opts))\n",
    "n_params = len(cv_params)"
   ]
  },
  {
   "cell_type": "markdown",
   "metadata": {},
   "source": [
    "### Train/Test Period Lengths"
   ]
  },
  {
   "cell_type": "code",
   "execution_count": 67,
   "metadata": {
    "ExecuteTime": {
     "end_time": "2020-06-21T11:56:42.003547Z",
     "start_time": "2020-06-21T03:17:14.456Z"
    }
   },
   "outputs": [],
   "source": [
    "lookaheads = [1, 5, 21]\n",
    "label_dict = dict(zip(lookaheads, labels))"
   ]
  },
  {
   "cell_type": "code",
   "execution_count": 68,
   "metadata": {
    "ExecuteTime": {
     "end_time": "2020-06-21T11:56:42.004201Z",
     "start_time": "2020-06-21T03:17:16.556Z"
    }
   },
   "outputs": [],
   "source": [
    "train_lengths = [int(4.5 * 252), 252]\n",
    "test_lengths = [63]"
   ]
  },
  {
   "cell_type": "code",
   "execution_count": 69,
   "metadata": {
    "ExecuteTime": {
     "end_time": "2020-06-21T11:56:42.004875Z",
     "start_time": "2020-06-21T03:17:17.116Z"
    }
   },
   "outputs": [],
   "source": [
    "test_params = list(product(lookaheads,\n",
    "                           train_lengths,\n",
    "                           test_lengths))"
   ]
  },
  {
   "cell_type": "markdown",
   "metadata": {},
   "source": [
    "### Custom Loss Function"
   ]
  },
  {
   "cell_type": "code",
   "execution_count": 70,
   "metadata": {
    "ExecuteTime": {
     "end_time": "2020-06-21T11:56:42.005692Z",
     "start_time": "2020-06-21T03:17:18.773Z"
    }
   },
   "outputs": [],
   "source": [
    "class CatBoostIC(object):\n",
    "    \"\"\"Custom IC eval metric for CatBoost\"\"\"\n",
    "\n",
    "    def is_max_optimal(self):\n",
    "        # Returns whether great values of metric are better\n",
    "        return True\n",
    "\n",
    "    def evaluate(self, approxes, target, weight):\n",
    "        target = np.array(target)\n",
    "        approxes = np.array(approxes).reshape(-1)\n",
    "        rho = spearmanr(approxes, target)[0]\n",
    "        return rho, 1\n",
    "\n",
    "    def get_final_error(self, error, weight):\n",
    "        # Returns final value of metric based on error and weight\n",
    "        return error"
   ]
  },
  {
   "cell_type": "markdown",
   "metadata": {},
   "source": [
    "### Run Cross-Validation"
   ]
  },
  {
   "cell_type": "code",
   "execution_count": 71,
   "metadata": {
    "ExecuteTime": {
     "end_time": "2020-06-21T11:56:42.006427Z",
     "start_time": "2020-06-21T03:17:29.495Z"
    }
   },
   "outputs": [],
   "source": [
    "cb_store = Path(results_path / 'tuning_catboost.h5')"
   ]
  },
  {
   "cell_type": "code",
   "execution_count": 72,
   "metadata": {
    "ExecuteTime": {
     "end_time": "2020-06-21T11:56:42.007167Z",
     "start_time": "2020-06-21T03:17:29.677Z"
    }
   },
   "outputs": [],
   "source": [
    "num_iterations = [10, 25, 50, 75] + list(range(100, 1001, 100))\n",
    "num_boost_round = num_iterations[-1]"
   ]
  },
  {
   "cell_type": "code",
   "execution_count": 73,
   "metadata": {
    "ExecuteTime": {
     "end_time": "2020-06-21T11:56:42.007861Z",
     "start_time": "2020-06-21T03:17:29.812Z"
    }
   },
   "outputs": [],
   "source": [
    "metric_cols = (param_names + ['t', 'daily_ic_mean', 'daily_ic_mean_n',\n",
    "                              'daily_ic_median', 'daily_ic_median_n'] +\n",
    "               [str(n) for n in num_iterations])"
   ]
  },
  {
   "cell_type": "code",
   "execution_count": 75,
   "metadata": {
    "ExecuteTime": {
     "end_time": "2020-06-21T11:56:42.008624Z",
     "start_time": "2020-06-21T03:17:30.033Z"
    }
   },
   "outputs": [
    {
     "name": "stdout",
     "output_type": "stream",
     "text": [
      "Lookahead:  1 | Train: 1134 | Test: 63 | Params:  12 | Train configs: 6\n"
     ]
    },
    {
     "ename": "CatBoostError",
     "evalue": "Bad value for num_feature[non_default_doc_idx=0,feature_idx=8]=\"capital_goods\": Cannot convert 'b'capital_goods'' to float",
     "output_type": "error",
     "traceback": [
      "\u001b[1;31m---------------------------------------------------------------------------\u001b[0m",
      "\u001b[1;31mTypeError\u001b[0m                                 Traceback (most recent call last)",
      "File \u001b[1;32m_catboost.pyx:2547\u001b[0m, in \u001b[0;36m_catboost.get_float_feature\u001b[1;34m()\u001b[0m\n",
      "File \u001b[1;32m_catboost.pyx:1226\u001b[0m, in \u001b[0;36m_catboost._FloatOrNan\u001b[1;34m()\u001b[0m\n",
      "File \u001b[1;32m_catboost.pyx:1021\u001b[0m, in \u001b[0;36m_catboost._FloatOrNanFromString\u001b[1;34m()\u001b[0m\n",
      "\u001b[1;31mTypeError\u001b[0m: Cannot convert 'b'capital_goods'' to float",
      "\nDuring handling of the above exception, another exception occurred:\n",
      "\u001b[1;31mCatBoostError\u001b[0m                             Traceback (most recent call last)",
      "Cell \u001b[1;32mIn[75], line 164\u001b[0m\n\u001b[0;32m    161\u001b[0m     data[feature] \u001b[38;5;241m=\u001b[39m pd\u001b[38;5;241m.\u001b[39mfactorize(data[feature], sort\u001b[38;5;241m=\u001b[39m\u001b[38;5;28;01mTrue\u001b[39;00m)[\u001b[38;5;241m0\u001b[39m]\n\u001b[0;32m    163\u001b[0m \u001b[38;5;66;03m# Run the CatBoost training\u001b[39;00m\n\u001b[1;32m--> 164\u001b[0m \u001b[43mtrain_catboost\u001b[49m\u001b[43m(\u001b[49m\u001b[43mdata\u001b[49m\u001b[43m,\u001b[49m\u001b[43m \u001b[49m\u001b[43mtest_params\u001b[49m\u001b[43m,\u001b[49m\u001b[43m \u001b[49m\u001b[43mcv_params\u001b[49m\u001b[43m,\u001b[49m\u001b[43m \u001b[49m\u001b[43mparam_names\u001b[49m\u001b[43m,\u001b[49m\u001b[43m \u001b[49m\u001b[43mcategoricals\u001b[49m\u001b[43m,\u001b[49m\u001b[43m \u001b[49m\u001b[43mlabel_dict\u001b[49m\u001b[43m,\u001b[49m\u001b[43m \u001b[49m\u001b[43mnum_iterations\u001b[49m\u001b[43m,\u001b[49m\u001b[43m \u001b[49m\u001b[43mmetric_cols\u001b[49m\u001b[43m,\u001b[49m\u001b[43m \u001b[49m\u001b[43mcb_store\u001b[49m\u001b[43m)\u001b[49m\n",
      "Cell \u001b[1;32mIn[75], line 59\u001b[0m, in \u001b[0;36mtrain_catboost\u001b[1;34m(data, test_params, cv_params, param_names, categoricals, label_dict, num_iterations, metric_cols, cb_store)\u001b[0m\n\u001b[0;32m     57\u001b[0m \u001b[38;5;66;03m# Prepare CatBoost Pool with corrected features\u001b[39;00m\n\u001b[0;32m     58\u001b[0m cat_cols_idx \u001b[38;5;241m=\u001b[39m [outcome_data\u001b[38;5;241m.\u001b[39mcolumns\u001b[38;5;241m.\u001b[39mget_loc(c) \u001b[38;5;28;01mfor\u001b[39;00m c \u001b[38;5;129;01min\u001b[39;00m categoricals]\n\u001b[1;32m---> 59\u001b[0m catboost_data \u001b[38;5;241m=\u001b[39m \u001b[43mPool\u001b[49m\u001b[43m(\u001b[49m\u001b[43mlabel\u001b[49m\u001b[38;5;241;43m=\u001b[39;49m\u001b[43moutcome_data\u001b[49m\u001b[43m[\u001b[49m\u001b[43mlabel\u001b[49m\u001b[43m]\u001b[49m\u001b[43m,\u001b[49m\n\u001b[0;32m     60\u001b[0m \u001b[43m                     \u001b[49m\u001b[43mdata\u001b[49m\u001b[38;5;241;43m=\u001b[39;49m\u001b[43moutcome_data\u001b[49m\u001b[38;5;241;43m.\u001b[39;49m\u001b[43mdrop\u001b[49m\u001b[43m(\u001b[49m\u001b[43mlabel\u001b[49m\u001b[43m,\u001b[49m\u001b[43m \u001b[49m\u001b[43maxis\u001b[49m\u001b[38;5;241;43m=\u001b[39;49m\u001b[38;5;241;43m1\u001b[39;49m\u001b[43m)\u001b[49m\u001b[43m,\u001b[49m\n\u001b[0;32m     61\u001b[0m \u001b[43m                     \u001b[49m\u001b[43mcat_features\u001b[49m\u001b[38;5;241;43m=\u001b[39;49m\u001b[43mcat_cols_idx\u001b[49m\u001b[43m)\u001b[49m\n\u001b[0;32m     63\u001b[0m predictions, metrics, feature_importance, daily_ic \u001b[38;5;241m=\u001b[39m [], [], [], []\n\u001b[0;32m     64\u001b[0m key \u001b[38;5;241m=\u001b[39m \u001b[38;5;124mf\u001b[39m\u001b[38;5;124m'\u001b[39m\u001b[38;5;132;01m{\u001b[39;00mlookahead\u001b[38;5;132;01m}\u001b[39;00m\u001b[38;5;124m/\u001b[39m\u001b[38;5;132;01m{\u001b[39;00mtrain_length\u001b[38;5;132;01m}\u001b[39;00m\u001b[38;5;124m/\u001b[39m\u001b[38;5;132;01m{\u001b[39;00mtest_length\u001b[38;5;132;01m}\u001b[39;00m\u001b[38;5;124m'\u001b[39m\n",
      "File \u001b[1;32m~\\.conda\\envs\\py311\\lib\\site-packages\\catboost\\core.py:855\u001b[0m, in \u001b[0;36mPool.__init__\u001b[1;34m(self, data, label, cat_features, text_features, embedding_features, embedding_features_data, column_description, pairs, graph, delimiter, has_header, ignore_csv_quoting, weight, group_id, group_weight, subgroup_id, pairs_weight, baseline, timestamp, feature_names, feature_tags, thread_count, log_cout, log_cerr, data_can_be_none)\u001b[0m\n\u001b[0;32m    849\u001b[0m         \u001b[38;5;28;01mif\u001b[39;00m \u001b[38;5;28misinstance\u001b[39m(feature_names, PATH_TYPES):\n\u001b[0;32m    850\u001b[0m             \u001b[38;5;28;01mraise\u001b[39;00m CatBoostError(\n\u001b[0;32m    851\u001b[0m                 \u001b[38;5;124m\"\u001b[39m\u001b[38;5;124mfeature_names must be None or have non-string type when the pool is created from \u001b[39m\u001b[38;5;124m\"\u001b[39m\n\u001b[0;32m    852\u001b[0m                 \u001b[38;5;124m\"\u001b[39m\u001b[38;5;124mpython objects.\u001b[39m\u001b[38;5;124m\"\u001b[39m\n\u001b[0;32m    853\u001b[0m             )\n\u001b[1;32m--> 855\u001b[0m         \u001b[38;5;28;43mself\u001b[39;49m\u001b[38;5;241;43m.\u001b[39;49m\u001b[43m_init\u001b[49m\u001b[43m(\u001b[49m\u001b[43mdata\u001b[49m\u001b[43m,\u001b[49m\u001b[43m \u001b[49m\u001b[43mlabel\u001b[49m\u001b[43m,\u001b[49m\u001b[43m \u001b[49m\u001b[43mcat_features\u001b[49m\u001b[43m,\u001b[49m\u001b[43m \u001b[49m\u001b[43mtext_features\u001b[49m\u001b[43m,\u001b[49m\u001b[43m \u001b[49m\u001b[43membedding_features\u001b[49m\u001b[43m,\u001b[49m\u001b[43m \u001b[49m\u001b[43membedding_features_data\u001b[49m\u001b[43m,\u001b[49m\u001b[43m \u001b[49m\u001b[43mpairs\u001b[49m\u001b[43m,\u001b[49m\u001b[43m \u001b[49m\u001b[43mgraph\u001b[49m\u001b[43m,\u001b[49m\u001b[43m \u001b[49m\u001b[43mweight\u001b[49m\u001b[43m,\u001b[49m\n\u001b[0;32m    856\u001b[0m \u001b[43m                   \u001b[49m\u001b[43mgroup_id\u001b[49m\u001b[43m,\u001b[49m\u001b[43m \u001b[49m\u001b[43mgroup_weight\u001b[49m\u001b[43m,\u001b[49m\u001b[43m \u001b[49m\u001b[43msubgroup_id\u001b[49m\u001b[43m,\u001b[49m\u001b[43m \u001b[49m\u001b[43mpairs_weight\u001b[49m\u001b[43m,\u001b[49m\u001b[43m \u001b[49m\u001b[43mbaseline\u001b[49m\u001b[43m,\u001b[49m\u001b[43m \u001b[49m\u001b[43mtimestamp\u001b[49m\u001b[43m,\u001b[49m\u001b[43m \u001b[49m\u001b[43mfeature_names\u001b[49m\u001b[43m,\u001b[49m\u001b[43m \u001b[49m\u001b[43mfeature_tags\u001b[49m\u001b[43m,\u001b[49m\u001b[43m \u001b[49m\u001b[43mthread_count\u001b[49m\u001b[43m)\u001b[49m\n\u001b[0;32m    857\u001b[0m \u001b[38;5;28;01melif\u001b[39;00m \u001b[38;5;129;01mnot\u001b[39;00m data_can_be_none:\n\u001b[0;32m    858\u001b[0m     \u001b[38;5;28;01mraise\u001b[39;00m CatBoostError(\u001b[38;5;124m\"\u001b[39m\u001b[38;5;124m'\u001b[39m\u001b[38;5;124mdata\u001b[39m\u001b[38;5;124m'\u001b[39m\u001b[38;5;124m parameter can\u001b[39m\u001b[38;5;124m'\u001b[39m\u001b[38;5;124mt be None\u001b[39m\u001b[38;5;124m\"\u001b[39m)\n",
      "File \u001b[1;32m~\\.conda\\envs\\py311\\lib\\site-packages\\catboost\\core.py:1491\u001b[0m, in \u001b[0;36mPool._init\u001b[1;34m(self, data, label, cat_features, text_features, embedding_features, embedding_features_data, pairs, graph, weight, group_id, group_weight, subgroup_id, pairs_weight, baseline, timestamp, feature_names, feature_tags, thread_count)\u001b[0m\n\u001b[0;32m   1489\u001b[0m \u001b[38;5;28;01mif\u001b[39;00m feature_tags \u001b[38;5;129;01mis\u001b[39;00m \u001b[38;5;129;01mnot\u001b[39;00m \u001b[38;5;28;01mNone\u001b[39;00m:\n\u001b[0;32m   1490\u001b[0m     feature_tags \u001b[38;5;241m=\u001b[39m \u001b[38;5;28mself\u001b[39m\u001b[38;5;241m.\u001b[39m_check_transform_tags(feature_tags, feature_names)\n\u001b[1;32m-> 1491\u001b[0m \u001b[38;5;28;43mself\u001b[39;49m\u001b[38;5;241;43m.\u001b[39;49m\u001b[43m_init_pool\u001b[49m\u001b[43m(\u001b[49m\u001b[43mdata\u001b[49m\u001b[43m,\u001b[49m\u001b[43m \u001b[49m\u001b[43mlabel\u001b[49m\u001b[43m,\u001b[49m\u001b[43m \u001b[49m\u001b[43mcat_features\u001b[49m\u001b[43m,\u001b[49m\u001b[43m \u001b[49m\u001b[43mtext_features\u001b[49m\u001b[43m,\u001b[49m\u001b[43m \u001b[49m\u001b[43membedding_features\u001b[49m\u001b[43m,\u001b[49m\u001b[43m \u001b[49m\u001b[43membedding_features_data\u001b[49m\u001b[43m,\u001b[49m\u001b[43m \u001b[49m\u001b[43mpairs\u001b[49m\u001b[43m,\u001b[49m\u001b[43m \u001b[49m\u001b[43mgraph\u001b[49m\u001b[43m,\u001b[49m\u001b[43m \u001b[49m\u001b[43mweight\u001b[49m\u001b[43m,\u001b[49m\n\u001b[0;32m   1492\u001b[0m \u001b[43m                \u001b[49m\u001b[43mgroup_id\u001b[49m\u001b[43m,\u001b[49m\u001b[43m \u001b[49m\u001b[43mgroup_weight\u001b[49m\u001b[43m,\u001b[49m\u001b[43m \u001b[49m\u001b[43msubgroup_id\u001b[49m\u001b[43m,\u001b[49m\u001b[43m \u001b[49m\u001b[43mpairs_weight\u001b[49m\u001b[43m,\u001b[49m\u001b[43m \u001b[49m\u001b[43mbaseline\u001b[49m\u001b[43m,\u001b[49m\u001b[43m \u001b[49m\u001b[43mtimestamp\u001b[49m\u001b[43m,\u001b[49m\u001b[43m \u001b[49m\u001b[43mfeature_names\u001b[49m\u001b[43m,\u001b[49m\u001b[43m \u001b[49m\u001b[43mfeature_tags\u001b[49m\u001b[43m,\u001b[49m\u001b[43m \u001b[49m\u001b[43mthread_count\u001b[49m\u001b[43m)\u001b[49m\n",
      "File \u001b[1;32m_catboost.pyx:4339\u001b[0m, in \u001b[0;36m_catboost._PoolBase._init_pool\u001b[1;34m()\u001b[0m\n",
      "File \u001b[1;32m_catboost.pyx:4391\u001b[0m, in \u001b[0;36m_catboost._PoolBase._init_pool\u001b[1;34m()\u001b[0m\n",
      "File \u001b[1;32m_catboost.pyx:4200\u001b[0m, in \u001b[0;36m_catboost._PoolBase._init_features_order_layout_pool\u001b[1;34m()\u001b[0m\n",
      "File \u001b[1;32m_catboost.pyx:3127\u001b[0m, in \u001b[0;36m_catboost._set_features_order_data_pd_data_frame\u001b[1;34m()\u001b[0m\n",
      "File \u001b[1;32m_catboost.pyx:2591\u001b[0m, in \u001b[0;36m_catboost.create_num_factor_data\u001b[1;34m()\u001b[0m\n",
      "File \u001b[1;32m_catboost.pyx:2549\u001b[0m, in \u001b[0;36m_catboost.get_float_feature\u001b[1;34m()\u001b[0m\n",
      "\u001b[1;31mCatBoostError\u001b[0m: Bad value for num_feature[non_default_doc_idx=0,feature_idx=8]=\"capital_goods\": Cannot convert 'b'capital_goods'' to float"
     ]
    }
   ],
   "source": [
    "import numpy as np\n",
    "import pandas as pd\n",
    "from catboost import CatBoostRegressor, Pool\n",
    "from collections import defaultdict\n",
    "from time import time\n",
    "from scipy.stats import spearmanr\n",
    "from pathlib import Path\n",
    "from itertools import product\n",
    "\n",
    "# Ensure directory exists function\n",
    "def ensure_directory_exists(path):\n",
    "    path.parent.mkdir(parents=True, exist_ok=True)\n",
    "\n",
    "# CatBoostIC metric\n",
    "class CatBoostIC(object):\n",
    "    \"\"\"Custom IC eval metric for CatBoost\"\"\"\n",
    "\n",
    "    def is_max_optimal(self):\n",
    "        # Returns whether greater values of the metric are better\n",
    "        return True\n",
    "\n",
    "    def evaluate(self, approxes, target, weight):\n",
    "        target = np.array(target)\n",
    "        approxes = np.array(approxes).reshape(-1)\n",
    "        rho = spearmanr(approxes, target)[0]\n",
    "        return rho, 1\n",
    "\n",
    "    def get_final_error(self, error, weight):\n",
    "        # Returns final value of the metric based on error and weight\n",
    "        return error\n",
    "\n",
    "# Function to run CatBoost training\n",
    "def train_catboost(data, test_params, cv_params, param_names, categoricals, label_dict, num_iterations, metric_cols, cb_store):\n",
    "    for lookahead, train_length, test_length in test_params:\n",
    "        cvp = np.random.choice(list(range(len(cv_params))),\n",
    "                               size=int(len(cv_params) / 1),\n",
    "                               replace=False)\n",
    "        cv_params_ = [cv_params[i] for i in cvp]\n",
    "\n",
    "        n_splits = int(2 * 252 / test_length)  # Assuming YEAR is 252 trading days\n",
    "        print(f'Lookahead: {lookahead:2.0f} | Train: {train_length:3.0f} | Test: {test_length:2.0f} | '\n",
    "              f'Params: {len(cv_params_):3.0f} | Train configs: {len(test_params)}')\n",
    "\n",
    "        # Time-series cross-validation\n",
    "        cv = MultipleTimeSeriesCV(n_splits=n_splits, lookahead=lookahead, test_period_length=test_length, train_period_length=train_length)\n",
    "\n",
    "        label = label_dict[lookahead]\n",
    "        outcome_data = data.loc[:, data.columns.difference([label])].join(data[label]).dropna()\n",
    "\n",
    "        # Ensure 'capital_goods' is treated as a categorical feature or removed if not needed\n",
    "        if 'capital_goods' in outcome_data.columns:\n",
    "            outcome_data['capital_goods'] = outcome_data['capital_goods'].astype('category')\n",
    "\n",
    "        # Ensure categorical columns are properly set\n",
    "        outcome_data[categoricals] = outcome_data[categoricals].astype('category')\n",
    "\n",
    "        # Prepare CatBoost Pool with corrected features\n",
    "        cat_cols_idx = [outcome_data.columns.get_loc(c) for c in categoricals]\n",
    "        catboost_data = Pool(label=outcome_data[label],\n",
    "                             data=outcome_data.drop(label, axis=1),\n",
    "                             cat_features=cat_cols_idx)\n",
    "\n",
    "        predictions, metrics, feature_importance, daily_ic = [], [], [], []\n",
    "        key = f'{lookahead}/{train_length}/{test_length}'\n",
    "        T = 0\n",
    "\n",
    "        for p, param_vals in enumerate(cv_params_):\n",
    "            params = dict(zip(param_names, param_vals))\n",
    "            # uncomment if running with GPU\n",
    "            # params['task_type'] = 'GPU'\n",
    "\n",
    "            start = time()\n",
    "            cv_preds, nrounds = [], []\n",
    "            ic_cv = defaultdict(list)\n",
    "\n",
    "            for i, (train_idx, test_idx) in enumerate(cv.split(X=outcome_data)):\n",
    "                train_set = catboost_data.slice(train_idx.tolist())\n",
    "\n",
    "                model = CatBoostRegressor(**params)\n",
    "                model.fit(X=train_set, verbose=False)\n",
    "\n",
    "                test_set = outcome_data.iloc[test_idx, :]\n",
    "                X_test = test_set.loc[:, model.feature_names_]\n",
    "                y_test = test_set.loc[:, label]\n",
    "                y_pred = {str(n): model.predict(X_test, ntree_end=n)\n",
    "                          for n in num_iterations}\n",
    "                cv_preds.append(y_test.to_frame('y_test').assign(**y_pred).assign(i=i))\n",
    "\n",
    "            # Combine fold results\n",
    "            cv_preds = pd.concat(cv_preds).assign(**params)\n",
    "            predictions.append(cv_preds)\n",
    "\n",
    "            # Compute IC per day\n",
    "            by_day = cv_preds.groupby(level='date')\n",
    "            ic_by_day = pd.concat([by_day.apply(lambda x: spearmanr(x.y_test, x[str(n)])[0]).to_frame(n)\n",
    "                                   for n in num_iterations], axis=1)\n",
    "            daily_ic_mean = ic_by_day.mean()\n",
    "            daily_ic_mean_n = daily_ic_mean.idxmax()\n",
    "            daily_ic_median = ic_by_day.median()\n",
    "            daily_ic_median_n = daily_ic_median.idxmax()\n",
    "\n",
    "            # Compute IC across all predictions\n",
    "            ic = [spearmanr(cv_preds.y_test, cv_preds[str(n)])[0] for n in num_iterations]\n",
    "            t = time() - start\n",
    "            T += t\n",
    "\n",
    "            # Collect metrics\n",
    "            metrics = pd.Series(list(param_vals) +\n",
    "                                [t, daily_ic_mean.max(), daily_ic_mean_n,\n",
    "                                 daily_ic_median.max(), daily_ic_median_n] + ic,\n",
    "                                index=metric_cols)\n",
    "            \n",
    "            msg = f'{p:3.0f} | {format_time(T)} ({t:3.0f}) | {params[\"max_depth\"]:3.0f} | {params[\"min_child_samples\"]:4.0f} | '\n",
    "            msg += f' {max(ic):6.2%} | {ic_by_day.mean().max(): 6.2%} | {daily_ic_mean_n: 4.0f} | {ic_by_day.median().max(): 6.2%} | {daily_ic_median_n: 4.0f}'\n",
    "            print(msg)\n",
    "\n",
    "            # Ensure the directories exist before saving the files\n",
    "            predictions_path = f'predictions/{key}'\n",
    "            metrics_path = f'metrics/{key}'\n",
    "            ic_by_day_path = f'daily_ic/{key}'\n",
    "            fi_path = f'fi/{key}'\n",
    "\n",
    "            ensure_directory_exists(Path(predictions_path))\n",
    "            ensure_directory_exists(Path(metrics_path))\n",
    "            ensure_directory_exists(Path(ic_by_day_path))\n",
    "            ensure_directory_exists(Path(fi_path))\n",
    "\n",
    "            # Save the results as Parquet\n",
    "            cv_preds.to_parquet(f'{predictions_path}.parquet')\n",
    "            metrics.to_frame().to_parquet(f'{metrics_path}.parquet')  # Convert Series to DataFrame\n",
    "            ic_by_day.assign(**params).to_parquet(f'{ic_by_day_path}.parquet')\n",
    "\n",
    "# Main execution\n",
    "if __name__ == \"__main__\":\n",
    "    # Define parameters\n",
    "    param_names = ['max_depth', 'min_child_samples']\n",
    "\n",
    "    max_depth_opts = [3, 5, 7, 9]\n",
    "    min_child_samples_opts = [20, 250, 500]\n",
    "\n",
    "    cv_params = list(product(max_depth_opts, min_child_samples_opts))\n",
    "    n_params = len(cv_params)\n",
    "\n",
    "    lookaheads = [1, 5, 21]\n",
    "    label_dict = dict(zip(lookaheads, labels))  # Define labels appropriately\n",
    "\n",
    "    train_lengths = [int(4.5 * 252), 252]\n",
    "    test_lengths = [63]\n",
    "    test_params = list(product(lookaheads, train_lengths, test_lengths))\n",
    "\n",
    "    num_iterations = [10, 25, 50, 75] + list(range(100, 1001, 100))\n",
    "    metric_cols = (param_names + ['t', 'daily_ic_mean', 'daily_ic_mean_n',\n",
    "                                  'daily_ic_median', 'daily_ic_median_n'] +\n",
    "                   [str(n) for n in num_iterations])\n",
    "\n",
    "    results_path = Path('results/us_stocks')\n",
    "    cb_store = results_path / 'tuning_catboost.h5'\n",
    "\n",
    "    categoricals = ['year', 'weekday', 'month']  # Define appropriate categorical features\n",
    "    for feature in categoricals:\n",
    "        data[feature] = pd.factorize(data[feature], sort=True)[0]\n",
    "\n",
    "    # Run the CatBoost training\n",
    "    train_catboost(data, test_params, cv_params, param_names, categoricals, label_dict, num_iterations, metric_cols, cb_store)\n"
   ]
  },
  {
   "cell_type": "code",
   "execution_count": 45,
   "metadata": {},
   "outputs": [
    {
     "name": "stdout",
     "output_type": "stream",
     "text": [
      "ATR                 float64\n",
      "MACD                float64\n",
      "NATR                float64\n",
      "PPO                 float64\n",
      "bb_high             float64\n",
      "bb_low              float64\n",
      "dollar_vol          float64\n",
      "dollar_vol_rank     float64\n",
      "metadata_sector      object\n",
      "month              category\n",
      "r01                 float64\n",
      "r01dec              float64\n",
      "r01q_sector         float64\n",
      "r05                 float64\n",
      "r05dec              float64\n",
      "r05q_sector         float64\n",
      "r10                 float64\n",
      "r10dec              float64\n",
      "r10q_sector         float64\n",
      "r21                 float64\n",
      "r21dec              float64\n",
      "r21q_sector         float64\n",
      "r42                 float64\n",
      "r42dec              float64\n",
      "r42q_sector         float64\n",
      "r63                 float64\n",
      "r63dec              float64\n",
      "r63q_sector         float64\n",
      "rsi                 float64\n",
      "sector                int64\n",
      "weekday            category\n",
      "year               category\n",
      "r01_fwd             float64\n",
      "dtype: object\n"
     ]
    }
   ],
   "source": [
    "# Check data types of all columns\n",
    "print(outcome_data.dtypes)\n"
   ]
  },
  {
   "cell_type": "code",
   "execution_count": null,
   "metadata": {},
   "outputs": [],
   "source": []
  }
 ],
 "metadata": {
  "kernelspec": {
   "display_name": "py311",
   "language": "python",
   "name": "python3"
  },
  "language_info": {
   "codemirror_mode": {
    "name": "ipython",
    "version": 3
   },
   "file_extension": ".py",
   "mimetype": "text/x-python",
   "name": "python",
   "nbconvert_exporter": "python",
   "pygments_lexer": "ipython3",
   "version": "3.10.14"
  },
  "toc": {
   "base_numbering": 1,
   "nav_menu": {},
   "number_sections": true,
   "sideBar": true,
   "skip_h1_title": true,
   "title_cell": "Table of Contents",
   "title_sidebar": "Contents",
   "toc_cell": false,
   "toc_position": {
    "height": "calc(100% - 180px)",
    "left": "10px",
    "top": "150px",
    "width": "292.031px"
   },
   "toc_section_display": true,
   "toc_window_display": true
  }
 },
 "nbformat": 4,
 "nbformat_minor": 4
}
