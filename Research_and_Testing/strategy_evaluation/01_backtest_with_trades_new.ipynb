{
 "cells": [
  {
   "cell_type": "code",
   "execution_count": null,
   "id": "110ed4af-78a7-4907-bc53-05db4a4321c0",
   "metadata": {},
   "outputs": [],
   "source": []
  },
  {
   "cell_type": "code",
   "execution_count": null,
   "id": "725439d1-c6b8-4620-9f5b-9045488cab2f",
   "metadata": {},
   "outputs": [],
   "source": [
    "# Cell 2: Import required libraries\n",
    "import yfinance as yf\n",
    "import pandas as pd\n",
    "import matplotlib.pyplot as plt\n",
    "from zipline.api import attach_pipeline, pipeline_output, order_target_percent, record\n",
    "from zipline.pipeline import Pipeline\n",
    "from zipline.pipeline.factors import AverageDollarVolume, CustomFactor\n",
    "from zipline import run_algorithm\n",
    "from zipline.data.data_portal import DataPortal\n",
    "from zipline.utils.calendars import get_calendar\n",
    "from datetime import datetime\n",
    "import pytz\n",
    "from trading_calendars import get_calendar\n",
    "\n"
   ]
  },
  {
   "cell_type": "code",
   "execution_count": null,
   "id": "f42487e9-4460-4b17-be41-1a6073770171",
   "metadata": {},
   "outputs": [],
   "source": []
  },
  {
   "cell_type": "code",
   "execution_count": 1,
   "id": "045996dd-9a9f-42c4-9cfa-701afe3d0ff3",
   "metadata": {},
   "outputs": [
    {
     "ename": "NameError",
     "evalue": "name 'yf' is not defined",
     "output_type": "error",
     "traceback": [
      "\u001b[1;31m---------------------------------------------------------------------------\u001b[0m",
      "\u001b[1;31mNameError\u001b[0m                                 Traceback (most recent call last)",
      "\u001b[1;32m<ipython-input-1-5c868341c941>\u001b[0m in \u001b[0;36m<module>\u001b[1;34m\u001b[0m\n\u001b[0;32m      2\u001b[0m \u001b[1;31m# Define the tickers and download their historical data\u001b[0m\u001b[1;33m\u001b[0m\u001b[1;33m\u001b[0m\u001b[1;33m\u001b[0m\u001b[0m\n\u001b[0;32m      3\u001b[0m \u001b[0mtickers\u001b[0m \u001b[1;33m=\u001b[0m \u001b[1;33m[\u001b[0m\u001b[1;34m'AAPL'\u001b[0m\u001b[1;33m,\u001b[0m \u001b[1;34m'MSFT'\u001b[0m\u001b[1;33m,\u001b[0m \u001b[1;34m'GOOG'\u001b[0m\u001b[1;33m,\u001b[0m \u001b[1;34m'AMZN'\u001b[0m\u001b[1;33m]\u001b[0m\u001b[1;33m\u001b[0m\u001b[1;33m\u001b[0m\u001b[0m\n\u001b[1;32m----> 4\u001b[1;33m \u001b[0mdata\u001b[0m \u001b[1;33m=\u001b[0m \u001b[0myf\u001b[0m\u001b[1;33m.\u001b[0m\u001b[0mdownload\u001b[0m\u001b[1;33m(\u001b[0m\u001b[0mtickers\u001b[0m\u001b[1;33m,\u001b[0m \u001b[0mstart\u001b[0m\u001b[1;33m=\u001b[0m\u001b[1;34m'2014-01-01'\u001b[0m\u001b[1;33m,\u001b[0m \u001b[0mend\u001b[0m\u001b[1;33m=\u001b[0m\u001b[1;34m'2014-12-31'\u001b[0m\u001b[1;33m)\u001b[0m\u001b[1;33m\u001b[0m\u001b[1;33m\u001b[0m\u001b[0m\n\u001b[0m\u001b[0;32m      5\u001b[0m \u001b[1;33m\u001b[0m\u001b[0m\n\u001b[0;32m      6\u001b[0m \u001b[1;31m# Display the data to ensure it's properly downloaded\u001b[0m\u001b[1;33m\u001b[0m\u001b[1;33m\u001b[0m\u001b[1;33m\u001b[0m\u001b[0m\n",
      "\u001b[1;31mNameError\u001b[0m: name 'yf' is not defined"
     ]
    }
   ],
   "source": [
    "# Cell 3: Download stock data using yfinance\n",
    "# Define the tickers and download their historical data\n",
    "tickers = ['AAPL', 'MSFT', 'GOOG', 'AMZN']\n",
    "data = yf.download(tickers, start='2014-01-01', end='2014-12-31')\n",
    "\n",
    "# Display the data to ensure it's properly downloaded\n",
    "data.head()\n"
   ]
  },
  {
   "cell_type": "code",
   "execution_count": null,
   "id": "8cd922dc-c1ed-473a-b1fa-534910ea6dfc",
   "metadata": {},
   "outputs": [],
   "source": []
  },
  {
   "cell_type": "code",
   "execution_count": null,
   "id": "23f65062-db25-46e8-9392-ac61e06f44b2",
   "metadata": {},
   "outputs": [],
   "source": [
    "# Cell 4: Prepare Yahoo Finance data for Zipline\n",
    "# Adjust the column structure to match Zipline's expected OHLCV format\n",
    "ohlcv_data = data['Adj Close']\n",
    "volume_data = data['Volume']\n",
    "\n",
    "# Ensure columns match the symbol names Zipline expects (lowercase)\n",
    "ohlcv_data.columns = [symbol.lower() for symbol in ohlcv_data.columns]\n",
    "\n",
    "# Convert index to DatetimeIndex if needed\n",
    "ohlcv_data.index = pd.to_datetime(ohlcv_data.index)\n",
    "volume_data.index = pd.to_datetime(volume_data.index)\n",
    "\n",
    "# Display the first few rows to confirm the format\n",
    "ohlcv_data.head()\n"
   ]
  },
  {
   "cell_type": "code",
   "execution_count": null,
   "id": "c19629b1-03b1-495c-bc79-0ee0690fe652",
   "metadata": {},
   "outputs": [],
   "source": []
  },
  {
   "cell_type": "code",
   "execution_count": 2,
   "id": "46ca138f-8687-4f3a-8f2e-187b2cb85ea0",
   "metadata": {},
   "outputs": [
    {
     "data": {
      "text/plain": [
       "<function __main__.yahoo_finance_bundle(environ, asset_db_writer, minute_bar_writer, daily_bar_writer, adjustment_writer, calendar, start_session, end_session, cache, show_progress, output_dir)>"
      ]
     },
     "execution_count": 2,
     "metadata": {},
     "output_type": "execute_result"
    }
   ],
   "source": [
    "# Cell 5: Register Yahoo Finance bundle in Zipline\n",
    "# Custom bundle function to register the Yahoo Finance data\n",
    "from zipline.data.bundles import register\n",
    "\n",
    "def yahoo_finance_bundle(environ, asset_db_writer, minute_bar_writer, daily_bar_writer, adjustment_writer, calendar, start_session, end_session, cache, show_progress, output_dir):\n",
    "    assets = pd.DataFrame(index=pd.Index(tickers, name='symbol'))\n",
    "    \n",
    "    # Write daily OHLCV data to the bundle\n",
    "    daily_bar_writer.write(\n",
    "        ohlcv_data, \n",
    "        assets.index, \n",
    "        calendar.sessions_in_range(start_session, end_session)\n",
    "    )\n",
    "\n",
    "# Register the custom bundle under the name 'yahoo-finance'\n",
    "register('yahoo-finance', yahoo_finance_bundle)\n"
   ]
  },
  {
   "cell_type": "code",
   "execution_count": null,
   "id": "051e0d7b-cf65-4461-9bda-c6065127c394",
   "metadata": {},
   "outputs": [],
   "source": []
  },
  {
   "cell_type": "code",
   "execution_count": 3,
   "id": "840244f0-46be-48b1-8378-4db471242f94",
   "metadata": {},
   "outputs": [
    {
     "ename": "NameError",
     "evalue": "name 'USEquityPricing' is not defined",
     "output_type": "error",
     "traceback": [
      "\u001b[1;31m---------------------------------------------------------------------------\u001b[0m",
      "\u001b[1;31mNameError\u001b[0m                                 Traceback (most recent call last)",
      "Input \u001b[1;32mIn [3]\u001b[0m, in \u001b[0;36m<cell line: 2>\u001b[1;34m()\u001b[0m\n\u001b[0;32m      1\u001b[0m \u001b[38;5;66;03m# Cell 6: Define factors and pipeline\u001b[39;00m\n\u001b[1;32m----> 2\u001b[0m \u001b[38;5;28;01mclass\u001b[39;00m \u001b[38;5;21;01mMeanReversion\u001b[39;00m(CustomFactor):\n\u001b[0;32m      3\u001b[0m     inputs \u001b[38;5;241m=\u001b[39m [USEquityPricing\u001b[38;5;241m.\u001b[39mclose]\n\u001b[0;32m      4\u001b[0m     window_length \u001b[38;5;241m=\u001b[39m \u001b[38;5;241m10\u001b[39m\n",
      "Input \u001b[1;32mIn [3]\u001b[0m, in \u001b[0;36mMeanReversion\u001b[1;34m()\u001b[0m\n\u001b[0;32m      2\u001b[0m \u001b[38;5;28;01mclass\u001b[39;00m \u001b[38;5;21;01mMeanReversion\u001b[39;00m(CustomFactor):\n\u001b[1;32m----> 3\u001b[0m     inputs \u001b[38;5;241m=\u001b[39m [\u001b[43mUSEquityPricing\u001b[49m\u001b[38;5;241m.\u001b[39mclose]\n\u001b[0;32m      4\u001b[0m     window_length \u001b[38;5;241m=\u001b[39m \u001b[38;5;241m10\u001b[39m\n\u001b[0;32m      6\u001b[0m     \u001b[38;5;28;01mdef\u001b[39;00m \u001b[38;5;21mcompute\u001b[39m(\u001b[38;5;28mself\u001b[39m, today, assets, out, close_prices):\n",
      "\u001b[1;31mNameError\u001b[0m: name 'USEquityPricing' is not defined"
     ]
    }
   ],
   "source": [
    "# Cell 6: Define factors and pipeline\n",
    "class MeanReversion(CustomFactor):\n",
    "    inputs = [USEquityPricing.close]\n",
    "    window_length = 10\n",
    "\n",
    "    def compute(self, today, assets, out, close_prices):\n",
    "        short_ma = close_prices[-5:].mean(axis=0)\n",
    "        long_ma = close_prices.mean(axis=0)\n",
    "        out[:] = long_ma - short_ma\n",
    "\n",
    "# Define constants for the strategy\n",
    "N_LONGS = 10\n",
    "N_SHORTS = 10\n",
    "VOL_SCREEN = 500\n",
    "\n",
    "def compute_factors():\n",
    "    \"\"\"Create the factor pipeline for mean reversion and filter by 30-day Dollar Volume\"\"\"\n",
    "    mean_reversion = MeanReversion()\n",
    "    dollar_volume = AverageDollarVolume(window_length=30)\n",
    "    return Pipeline(\n",
    "        columns={\n",
    "            'longs': mean_reversion.bottom(N_LONGS),\n",
    "            'shorts': mean_reversion.top(N_SHORTS),\n",
    "            'ranking': mean_reversion.rank(ascending=False)\n",
    "        },\n",
    "        screen=dollar_volume.top(VOL_SCREEN)\n",
    "    )\n"
   ]
  },
  {
   "cell_type": "code",
   "execution_count": null,
   "id": "904a519b-0e35-49bb-9d0d-b7ad6ce2adb9",
   "metadata": {},
   "outputs": [],
   "source": []
  },
  {
   "cell_type": "code",
   "execution_count": 4,
   "id": "6591007c-cb4b-42f4-87d9-3744b872ec89",
   "metadata": {},
   "outputs": [],
   "source": [
    "# Cell 7: Initialize the backtest\n",
    "def initialize(context):\n",
    "    \"\"\"Initialize the algorithm by attaching the factor pipeline\"\"\"\n",
    "    pipeline = compute_factors()\n",
    "    attach_pipeline(pipeline, 'factor_pipeline')\n"
   ]
  },
  {
   "cell_type": "code",
   "execution_count": null,
   "id": "1bc08631-b056-46b9-8bff-1adf200da58a",
   "metadata": {},
   "outputs": [],
   "source": []
  },
  {
   "cell_type": "code",
   "execution_count": 5,
   "id": "e8ffb2a6-b333-4e15-9cfd-1234b550714a",
   "metadata": {},
   "outputs": [],
   "source": [
    "# Cell 8: Define before_trading_start function\n",
    "def before_trading_start(context, data):\n",
    "    \"\"\"Run the factor pipeline before trading starts\"\"\"\n",
    "    context.factor_data = pipeline_output('factor_pipeline')\n",
    "    \n",
    "    # Record the factor ranking and asset prices\n",
    "    record(factor_data=context.factor_data['ranking'])\n",
    "    assets = context.factor_data.index\n",
    "    record(prices=data.current(assets, 'price'))\n"
   ]
  },
  {
   "cell_type": "code",
   "execution_count": null,
   "id": "a8b8c76a-6a09-4f70-a14a-7d8c95034174",
   "metadata": {},
   "outputs": [],
   "source": []
  },
  {
   "cell_type": "code",
   "execution_count": 6,
   "id": "44d0cb57-10a9-4138-98dc-5ba6ffdbf9a9",
   "metadata": {},
   "outputs": [
    {
     "ename": "NameError",
     "evalue": "name 'get_calendar' is not defined",
     "output_type": "error",
     "traceback": [
      "\u001b[1;31m---------------------------------------------------------------------------\u001b[0m",
      "\u001b[1;31mNameError\u001b[0m                                 Traceback (most recent call last)",
      "Input \u001b[1;32mIn [6]\u001b[0m, in \u001b[0;36m<cell line: 5>\u001b[1;34m()\u001b[0m\n\u001b[0;32m      2\u001b[0m start \u001b[38;5;241m=\u001b[39m pd\u001b[38;5;241m.\u001b[39mTimestamp(\u001b[38;5;124m'\u001b[39m\u001b[38;5;124m2014-01-02\u001b[39m\u001b[38;5;124m'\u001b[39m, tz\u001b[38;5;241m=\u001b[39m\u001b[38;5;124m'\u001b[39m\u001b[38;5;124mUTC\u001b[39m\u001b[38;5;124m'\u001b[39m)\n\u001b[0;32m      3\u001b[0m end \u001b[38;5;241m=\u001b[39m pd\u001b[38;5;241m.\u001b[39mTimestamp(\u001b[38;5;124m'\u001b[39m\u001b[38;5;124m2014-12-31\u001b[39m\u001b[38;5;124m'\u001b[39m, tz\u001b[38;5;241m=\u001b[39m\u001b[38;5;124m'\u001b[39m\u001b[38;5;124mUTC\u001b[39m\u001b[38;5;124m'\u001b[39m)\n\u001b[0;32m      5\u001b[0m results \u001b[38;5;241m=\u001b[39m run_algorithm(\n\u001b[0;32m      6\u001b[0m     start\u001b[38;5;241m=\u001b[39mstart,\n\u001b[0;32m      7\u001b[0m     end\u001b[38;5;241m=\u001b[39mend,\n\u001b[0;32m      8\u001b[0m     initialize\u001b[38;5;241m=\u001b[39minitialize,\n\u001b[0;32m      9\u001b[0m     before_trading_start\u001b[38;5;241m=\u001b[39mbefore_trading_start,\n\u001b[0;32m     10\u001b[0m     capital_base\u001b[38;5;241m=\u001b[39m\u001b[38;5;241m10000\u001b[39m,\n\u001b[0;32m     11\u001b[0m     bundle\u001b[38;5;241m=\u001b[39m\u001b[38;5;124m'\u001b[39m\u001b[38;5;124myahoo-finance\u001b[39m\u001b[38;5;124m'\u001b[39m,  \u001b[38;5;66;03m# Use the custom Yahoo Finance bundle\u001b[39;00m\n\u001b[1;32m---> 12\u001b[0m     trading_calendar\u001b[38;5;241m=\u001b[39m\u001b[43mget_calendar\u001b[49m(\u001b[38;5;124m'\u001b[39m\u001b[38;5;124mXNYS\u001b[39m\u001b[38;5;124m'\u001b[39m)  \u001b[38;5;66;03m# NYSE calendar\u001b[39;00m\n\u001b[0;32m     13\u001b[0m )\n",
      "\u001b[1;31mNameError\u001b[0m: name 'get_calendar' is not defined"
     ]
    }
   ],
   "source": [
    "# Cell 9: Run the backtest\n",
    "start = pd.Timestamp('2014-01-02', tz='UTC')\n",
    "end = pd.Timestamp('2014-12-31', tz='UTC')\n",
    "\n",
    "results = run_algorithm(\n",
    "    start=start,\n",
    "    end=end,\n",
    "    initialize=initialize,\n",
    "    before_trading_start=before_trading_start,\n",
    "    capital_base=10000,\n",
    "    bundle='yahoo-finance',  # Use the custom Yahoo Finance bundle\n",
    "    trading_calendar=get_calendar('XNYS')  # NYSE calendar\n",
    ")\n"
   ]
  },
  {
   "cell_type": "code",
   "execution_count": null,
   "id": "1f9fdf0a-43e7-45ad-a031-5ab6780f8ed6",
   "metadata": {},
   "outputs": [],
   "source": []
  },
  {
   "cell_type": "code",
   "execution_count": null,
   "id": "ac35a234-8abb-4eac-8935-0ed99d715fc0",
   "metadata": {},
   "outputs": [],
   "source": [
    "# Cell 10: Plot the portfolio value\n",
    "results.portfolio_value.plot(figsize=(10, 6))\n",
    "plt.title('Portfolio Value Over Time')\n",
    "plt.show()\n"
   ]
  }
 ],
 "metadata": {
  "kernelspec": {
   "display_name": "Python 3 (ipykernel)",
   "language": "python",
   "name": "python3"
  },
  "language_info": {
   "codemirror_mode": {
    "name": "ipython",
    "version": 3
   },
   "file_extension": ".py",
   "mimetype": "text/x-python",
   "name": "python",
   "nbconvert_exporter": "python",
   "pygments_lexer": "ipython3",
   "version": "3.10.14"
  }
 },
 "nbformat": 4,
 "nbformat_minor": 5
}
